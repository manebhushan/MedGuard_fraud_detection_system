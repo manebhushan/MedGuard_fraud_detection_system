{
 "cells": [
  {
   "cell_type": "code",
   "execution_count": 1,
   "metadata": {
    "executionInfo": {
     "elapsed": 978,
     "status": "ok",
     "timestamp": 1738911118632,
     "user": {
      "displayName": "Tejas Kharde",
      "userId": "17787809827713367189"
     },
     "user_tz": -330
    },
    "id": "nCSIBVta_AxM"
   },
   "outputs": [],
   "source": [
    "from pyspark.sql import SparkSession\n",
    "from pyspark.sql.functions import col\n",
    "\n"
   ]
  },
  {
   "cell_type": "code",
   "execution_count": 2,
   "metadata": {
    "executionInfo": {
     "elapsed": 21281,
     "status": "ok",
     "timestamp": 1738911139917,
     "user": {
      "displayName": "Tejas Kharde",
      "userId": "17787809827713367189"
     },
     "user_tz": -330
    },
    "id": "NRtwUa-1_UsN"
   },
   "outputs": [],
   "source": [
    "# Initialize a Spark session\n",
    "spark = SparkSession.builder \\\n",
    "    .appName(\"Fraud Analysis\") \\\n",
    "    .getOrCreate()\n",
    "\n"
   ]
  },
  {
   "cell_type": "markdown",
   "metadata": {
    "id": "GafuMZX5XBkN"
   },
   "source": [
    "# **YEAR - 2019**"
   ]
  },
  {
   "cell_type": "code",
   "execution_count": null,
   "metadata": {
    "id": "mkXoS_JxN-NE"
   },
   "outputs": [],
   "source": [
    "df_1 = spark.read.csv(\"/content/drive/MyDrive/Project_CDAC/Prepared_Data/ARCHIVE/prepared_data_2019.csv\", header=True, inferSchema=True)"
   ]
  },
  {
   "cell_type": "code",
   "execution_count": null,
   "metadata": {
    "colab": {
     "base_uri": "https://localhost:8080/"
    },
    "executionInfo": {
     "elapsed": 714,
     "status": "ok",
     "timestamp": 1738828329063,
     "user": {
      "displayName": "Rohit Kalane",
      "userId": "15650345289629422454"
     },
     "user_tz": -330
    },
    "id": "e6sMNarpOGCP",
    "outputId": "c8190f60-72e9-4175-d96f-f5071f1fe91d"
   },
   "outputs": [
    {
     "name": "stdout",
     "output_type": "stream",
     "text": [
      "+---+----------+--------------------------+-----------------------+--------------------+-------------------------+-----------------+-------------+-------------+------------+---------+---------+------------------+--------------+-----------------+----+----------+-----+\n",
      "|_c0|Rndrng_NPI|Rndrng_Prvdr_Last_Org_Name|Rndrng_Prvdr_First_Name|   Rndrng_Prvdr_Type|Rndrng_Prvdr_State_Abrvtn|Rndrng_Prvdr_Gndr|Tot_HCPCS_Cds|Bene_Male_Cnt|Bene_Avg_Age|Tot_Srvcs|Tot_Benes|Bene_Avg_Risk_Scre|Tot_Sbmtd_Chrg|Tot_Mdcr_Pymt_Amt|year|FINAL_YEAR|Fraud|\n",
      "+---+----------+--------------------------+-----------------------+--------------------+-------------------------+-----------------+-------------+-------------+------------+---------+---------+------------------+--------------+-----------------+----+----------+-----+\n",
      "|  0|1003000126|                 ENKESHAFI|                ARDALAN|   Internal Medicine|                       MD|                M|           18|          265|          75|   1392.0|      610|            2.5917|      519136.0|        124877.67|2019|      NULL|    0|\n",
      "|  1|1003000134|                    CIBULL|                 THOMAS|           Pathology|                       IL|                M|           20|         1847|          76|   7835.0|     3614|            1.1246|     1213264.0|        228078.56|2019|      NULL|    0|\n",
      "|  2|1003000142|                    KHALIL|                 RASHID|      Anesthesiology|                       OH|                M|           54|          121|          65|   2530.0|      264|            1.6146|      215156.0|         83582.18|2019|      NULL|    0|\n",
      "|  3|1003000423|                   VELOTTA|               JENNIFER|Obstetrics & Gyne...|                       OH|                F|           24|            0|          66|    897.0|       74|            0.9065|       23150.0|          9007.31|2019|      NULL|    0|\n",
      "|  4|1003000480|                 ROTHCHILD|                  KEVIN|     General Surgery|                       CO|                M|           30|           44|          64|    159.0|      104|            1.7191|     210964.25|         31113.49|2019|      NULL|    0|\n",
      "+---+----------+--------------------------+-----------------------+--------------------+-------------------------+-----------------+-------------+-------------+------------+---------+---------+------------------+--------------+-----------------+----+----------+-----+\n",
      "only showing top 5 rows\n",
      "\n"
     ]
    }
   ],
   "source": [
    "df_1.show(5)"
   ]
  },
  {
   "cell_type": "code",
   "execution_count": null,
   "metadata": {
    "id": "Ten2gBzcONKy"
   },
   "outputs": [],
   "source": [
    "df_2019 = df_1.drop(\"_c0\",\"FINAL_YEAR\",\"Rndrng_NPI\",\"Rndrng_Prvdr_Last_Org_Name\",\"Rndrng_Prvdr_First_Name\",\"year\",\"Bene_Male_Cnt\")"
   ]
  },
  {
   "cell_type": "code",
   "execution_count": null,
   "metadata": {
    "colab": {
     "base_uri": "https://localhost:8080/"
    },
    "executionInfo": {
     "elapsed": 393,
     "status": "ok",
     "timestamp": 1738828329489,
     "user": {
      "displayName": "Rohit Kalane",
      "userId": "15650345289629422454"
     },
     "user_tz": -330
    },
    "id": "JaKpK97nWC4k",
    "outputId": "7f42f900-69cc-4f4f-ea86-859b6388c9a8"
   },
   "outputs": [
    {
     "name": "stdout",
     "output_type": "stream",
     "text": [
      "+--------------------+-------------------------+-----------------+-------------+------------+---------+---------+------------------+--------------+-----------------+-----+\n",
      "|   Rndrng_Prvdr_Type|Rndrng_Prvdr_State_Abrvtn|Rndrng_Prvdr_Gndr|Tot_HCPCS_Cds|Bene_Avg_Age|Tot_Srvcs|Tot_Benes|Bene_Avg_Risk_Scre|Tot_Sbmtd_Chrg|Tot_Mdcr_Pymt_Amt|Fraud|\n",
      "+--------------------+-------------------------+-----------------+-------------+------------+---------+---------+------------------+--------------+-----------------+-----+\n",
      "|   Internal Medicine|                       MD|                M|           18|          75|   1392.0|      610|            2.5917|      519136.0|        124877.67|    0|\n",
      "|           Pathology|                       IL|                M|           20|          76|   7835.0|     3614|            1.1246|     1213264.0|        228078.56|    0|\n",
      "|      Anesthesiology|                       OH|                M|           54|          65|   2530.0|      264|            1.6146|      215156.0|         83582.18|    0|\n",
      "|Obstetrics & Gyne...|                       OH|                F|           24|          66|    897.0|       74|            0.9065|       23150.0|          9007.31|    0|\n",
      "|     General Surgery|                       CO|                M|           30|          64|    159.0|      104|            1.7191|     210964.25|         31113.49|    0|\n",
      "+--------------------+-------------------------+-----------------+-------------+------------+---------+---------+------------------+--------------+-----------------+-----+\n",
      "only showing top 5 rows\n",
      "\n"
     ]
    }
   ],
   "source": [
    "df_2019.show(5)"
   ]
  },
  {
   "cell_type": "code",
   "execution_count": null,
   "metadata": {
    "colab": {
     "base_uri": "https://localhost:8080/"
    },
    "executionInfo": {
     "elapsed": 2005,
     "status": "ok",
     "timestamp": 1738828331524,
     "user": {
      "displayName": "Rohit Kalane",
      "userId": "15650345289629422454"
     },
     "user_tz": -330
    },
    "id": "m4rVSdOeYAJI",
    "outputId": "c426c124-3dc0-4eff-f3a1-5eb34d1736a5"
   },
   "outputs": [
    {
     "data": {
      "text/plain": [
       "(1184452, 11)"
      ]
     },
     "execution_count": 10,
     "metadata": {},
     "output_type": "execute_result"
    }
   ],
   "source": [
    "df_2019.count(),len(df_2019.columns)"
   ]
  },
  {
   "cell_type": "code",
   "execution_count": null,
   "metadata": {
    "colab": {
     "base_uri": "https://localhost:8080/"
    },
    "executionInfo": {
     "elapsed": 15885,
     "status": "ok",
     "timestamp": 1738828347410,
     "user": {
      "displayName": "Rohit Kalane",
      "userId": "15650345289629422454"
     },
     "user_tz": -330
    },
    "id": "0N5SnGpsV8QI",
    "outputId": "12f4705e-ce9f-44b7-ab26-fa781a2cbc35"
   },
   "outputs": [
    {
     "data": {
      "text/plain": [
       "(1163920, 11)"
      ]
     },
     "execution_count": 11,
     "metadata": {},
     "output_type": "execute_result"
    }
   ],
   "source": [
    "df_2019 = df_2019.dropDuplicates()\n",
    "df_2019.count(),len(df_2019.columns)"
   ]
  },
  {
   "cell_type": "code",
   "execution_count": null,
   "metadata": {
    "colab": {
     "base_uri": "https://localhost:8080/"
    },
    "executionInfo": {
     "elapsed": 13229,
     "status": "ok",
     "timestamp": 1738828360637,
     "user": {
      "displayName": "Rohit Kalane",
      "userId": "15650345289629422454"
     },
     "user_tz": -330
    },
    "id": "zNtghRrnWrXW",
    "outputId": "e0a73753-1efb-4acb-cfb2-b88bf80d5987"
   },
   "outputs": [
    {
     "name": "stdout",
     "output_type": "stream",
     "text": [
      "+-----+-------+\n",
      "|Fraud|  count|\n",
      "+-----+-------+\n",
      "|    1|  19156|\n",
      "|    0|1144764|\n",
      "+-----+-------+\n",
      "\n"
     ]
    }
   ],
   "source": [
    "fraud_counts = df_2019.groupBy(\"Fraud\").count()\n",
    "fraud_counts.show()"
   ]
  },
  {
   "cell_type": "markdown",
   "metadata": {
    "id": "5oqDU-5mXX8Y"
   },
   "source": [
    "# **YEAR - 2020**"
   ]
  },
  {
   "cell_type": "code",
   "execution_count": null,
   "metadata": {
    "id": "kdCVctEzXONi"
   },
   "outputs": [],
   "source": [
    "df_2 = spark.read.csv(\"/content/drive/MyDrive/Project_CDAC/Prepared_Data/ARCHIVE/prepared_data_2020.csv\", header=True, inferSchema=True)"
   ]
  },
  {
   "cell_type": "code",
   "execution_count": null,
   "metadata": {
    "colab": {
     "base_uri": "https://localhost:8080/"
    },
    "executionInfo": {
     "elapsed": 400,
     "status": "ok",
     "timestamp": 1738828369275,
     "user": {
      "displayName": "Rohit Kalane",
      "userId": "15650345289629422454"
     },
     "user_tz": -330
    },
    "id": "1WTQSaAbX4Kg",
    "outputId": "4f37ebcc-cbfc-4ed6-facb-3ebeb3e6a5eb"
   },
   "outputs": [
    {
     "name": "stdout",
     "output_type": "stream",
     "text": [
      "+---+----------+--------------------------+-----------------------+--------------------+-------------------------+-----------------+-------------+-------------+------------+---------+---------+------------------+--------------+-----------------+----+----------+-----+\n",
      "|_c0|Rndrng_NPI|Rndrng_Prvdr_Last_Org_Name|Rndrng_Prvdr_First_Name|   Rndrng_Prvdr_Type|Rndrng_Prvdr_State_Abrvtn|Rndrng_Prvdr_Gndr|Tot_HCPCS_Cds|Bene_Male_Cnt|Bene_Avg_Age|Tot_Srvcs|Tot_Benes|Bene_Avg_Risk_Scre|Tot_Sbmtd_Chrg|Tot_Mdcr_Pymt_Amt|year|FINAL_YEAR|Fraud|\n",
      "+---+----------+--------------------------+-----------------------+--------------------+-------------------------+-----------------+-------------+-------------+------------+---------+---------+------------------+--------------+-----------------+----+----------+-----+\n",
      "|  0|1003000126|                 Enkeshafi|                Ardalan|   Internal Medicine|                       MD|                M|           16|          130|          77|    764.0|      291|            2.5028|      402812.0|         69175.78|2020|      NULL|    0|\n",
      "|  1|1003000134|                    Cibull|                 Thomas|           Pathology|                       IL|                M|           18|         1323|          76|   5930.0|     2633|            1.1124|      915291.0|        176497.74|2020|      NULL|    0|\n",
      "|  2|1003000142|                    Khalil|                 Rashid|      Anesthesiology|                       OH|                M|           54|           67|          65|   2003.0|      167|            1.6935|     182532.48|         76938.82|2020|      NULL|    0|\n",
      "|  3|1003000423|                   Velotta|               Jennifer|Obstetrics & Gyne...|                       OH|                F|           21|            0|          67|    571.0|       56|            0.7089|       23680.0|          7224.35|2020|      NULL|    0|\n",
      "|  4|1003000480|                 Rothchild|                  Kevin|     General Surgery|                       CO|                M|           30|           41|          64|    125.0|       89|            2.1137|      152154.0|         23962.85|2020|      NULL|    0|\n",
      "+---+----------+--------------------------+-----------------------+--------------------+-------------------------+-----------------+-------------+-------------+------------+---------+---------+------------------+--------------+-----------------+----+----------+-----+\n",
      "only showing top 5 rows\n",
      "\n"
     ]
    }
   ],
   "source": [
    "df_2.show(5)"
   ]
  },
  {
   "cell_type": "code",
   "execution_count": null,
   "metadata": {
    "id": "R7AxuEIfYkeH"
   },
   "outputs": [],
   "source": [
    "df_2020 = df_2.drop(\"_c0\",\"FINAL_YEAR\",\"Rndrng_NPI\",\"Rndrng_Prvdr_Last_Org_Name\",\"Rndrng_Prvdr_First_Name\",\"year\",\"Bene_Male_Cnt\")"
   ]
  },
  {
   "cell_type": "code",
   "execution_count": null,
   "metadata": {
    "colab": {
     "base_uri": "https://localhost:8080/"
    },
    "executionInfo": {
     "elapsed": 333,
     "status": "ok",
     "timestamp": 1738828369687,
     "user": {
      "displayName": "Rohit Kalane",
      "userId": "15650345289629422454"
     },
     "user_tz": -330
    },
    "id": "n26s3X0VZJpC",
    "outputId": "e7279335-c122-4dd0-943b-37d55fafb548"
   },
   "outputs": [
    {
     "name": "stdout",
     "output_type": "stream",
     "text": [
      "+--------------------+-------------------------+-----------------+-------------+------------+---------+---------+------------------+--------------+-----------------+-----+\n",
      "|   Rndrng_Prvdr_Type|Rndrng_Prvdr_State_Abrvtn|Rndrng_Prvdr_Gndr|Tot_HCPCS_Cds|Bene_Avg_Age|Tot_Srvcs|Tot_Benes|Bene_Avg_Risk_Scre|Tot_Sbmtd_Chrg|Tot_Mdcr_Pymt_Amt|Fraud|\n",
      "+--------------------+-------------------------+-----------------+-------------+------------+---------+---------+------------------+--------------+-----------------+-----+\n",
      "|   Internal Medicine|                       MD|                M|           16|          77|    764.0|      291|            2.5028|      402812.0|         69175.78|    0|\n",
      "|           Pathology|                       IL|                M|           18|          76|   5930.0|     2633|            1.1124|      915291.0|        176497.74|    0|\n",
      "|      Anesthesiology|                       OH|                M|           54|          65|   2003.0|      167|            1.6935|     182532.48|         76938.82|    0|\n",
      "|Obstetrics & Gyne...|                       OH|                F|           21|          67|    571.0|       56|            0.7089|       23680.0|          7224.35|    0|\n",
      "|     General Surgery|                       CO|                M|           30|          64|    125.0|       89|            2.1137|      152154.0|         23962.85|    0|\n",
      "+--------------------+-------------------------+-----------------+-------------+------------+---------+---------+------------------+--------------+-----------------+-----+\n",
      "only showing top 5 rows\n",
      "\n"
     ]
    }
   ],
   "source": [
    "df_2020.show(5)"
   ]
  },
  {
   "cell_type": "code",
   "execution_count": null,
   "metadata": {
    "colab": {
     "base_uri": "https://localhost:8080/"
    },
    "executionInfo": {
     "elapsed": 1619,
     "status": "ok",
     "timestamp": 1738828371339,
     "user": {
      "displayName": "Rohit Kalane",
      "userId": "15650345289629422454"
     },
     "user_tz": -330
    },
    "id": "P3h9vHgRYkG5",
    "outputId": "b98a2187-e728-40bb-b4fc-adb2e5001b13"
   },
   "outputs": [
    {
     "data": {
      "text/plain": [
       "(1161546, 11)"
      ]
     },
     "execution_count": 17,
     "metadata": {},
     "output_type": "execute_result"
    }
   ],
   "source": [
    "df_2020.count(),len(df_2020.columns)"
   ]
  },
  {
   "cell_type": "code",
   "execution_count": null,
   "metadata": {
    "colab": {
     "base_uri": "https://localhost:8080/"
    },
    "executionInfo": {
     "elapsed": 10035,
     "status": "ok",
     "timestamp": 1738828381376,
     "user": {
      "displayName": "Rohit Kalane",
      "userId": "15650345289629422454"
     },
     "user_tz": -330
    },
    "id": "WJiWZV3QZO-y",
    "outputId": "c6796ca5-8a8e-4829-ec56-6c4fa082ce60"
   },
   "outputs": [
    {
     "data": {
      "text/plain": [
       "(1161542, 11)"
      ]
     },
     "execution_count": 18,
     "metadata": {},
     "output_type": "execute_result"
    }
   ],
   "source": [
    "df_2020 = df_2020.dropDuplicates()\n",
    "df_2020.count(),len(df_2020.columns)"
   ]
  },
  {
   "cell_type": "code",
   "execution_count": null,
   "metadata": {
    "colab": {
     "base_uri": "https://localhost:8080/"
    },
    "executionInfo": {
     "elapsed": 14212,
     "status": "ok",
     "timestamp": 1738828395589,
     "user": {
      "displayName": "Rohit Kalane",
      "userId": "15650345289629422454"
     },
     "user_tz": -330
    },
    "id": "nAb7-QJbZTPe",
    "outputId": "a6d2d1d9-d5f1-4b8f-e25b-632a915f6b1b"
   },
   "outputs": [
    {
     "name": "stdout",
     "output_type": "stream",
     "text": [
      "+-----+-------+\n",
      "|Fraud|  count|\n",
      "+-----+-------+\n",
      "|    1|    433|\n",
      "|    0|1161109|\n",
      "+-----+-------+\n",
      "\n"
     ]
    }
   ],
   "source": [
    "df_2020.groupBy(\"Fraud\").count().show()"
   ]
  },
  {
   "cell_type": "markdown",
   "metadata": {
    "id": "EuXCQti9Y8dL"
   },
   "source": [
    "# **YEAR - 2021**"
   ]
  },
  {
   "cell_type": "code",
   "execution_count": null,
   "metadata": {
    "id": "FMM_V6KB_W69"
   },
   "outputs": [],
   "source": [
    "df_3 = spark.read.csv(\"/content/drive/MyDrive/Project_CDAC/Prepared_Data/ARCHIVE/prepared_data_2021.csv\", header=True, inferSchema=True)\n"
   ]
  },
  {
   "cell_type": "code",
   "execution_count": null,
   "metadata": {
    "colab": {
     "base_uri": "https://localhost:8080/"
    },
    "executionInfo": {
     "elapsed": 166,
     "status": "ok",
     "timestamp": 1738828404727,
     "user": {
      "displayName": "Rohit Kalane",
      "userId": "15650345289629422454"
     },
     "user_tz": -330
    },
    "id": "q3lpwG15_glZ",
    "outputId": "a58035c5-418c-44d2-87a5-e5e38c3cae77"
   },
   "outputs": [
    {
     "name": "stdout",
     "output_type": "stream",
     "text": [
      "+---+----------+--------------------------+-----------------------+--------------------+-------------------------+-----------------+-------------+-------------+------------+---------+---------+------------------+--------------+-----------------+----+----------+-----+\n",
      "|_c0|Rndrng_NPI|Rndrng_Prvdr_Last_Org_Name|Rndrng_Prvdr_First_Name|   Rndrng_Prvdr_Type|Rndrng_Prvdr_State_Abrvtn|Rndrng_Prvdr_Gndr|Tot_HCPCS_Cds|Bene_Male_Cnt|Bene_Avg_Age|Tot_Srvcs|Tot_Benes|Bene_Avg_Risk_Scre|Tot_Sbmtd_Chrg|Tot_Mdcr_Pymt_Amt|year|FINAL_YEAR|Fraud|\n",
      "+---+----------+--------------------------+-----------------------+--------------------+-------------------------+-----------------+-------------+-------------+------------+---------+---------+------------------+--------------+-----------------+----+----------+-----+\n",
      "|  0|1003000126|                 Enkeshafi|                Ardalan|   Internal Medicine|                       MD|                M|           36|          283|          78|   3749.0|      661|            1.8026|     515976.55|        231289.23|2021|      NULL|    0|\n",
      "|  1|1003000134|                    Cibull|                 Thomas|           Pathology|                       IL|                M|           21|         1518|          76|   7359.0|     3216|            1.0785|    1136431.94|        203094.28|2021|      NULL|    0|\n",
      "|  2|1003000142|                    Khalil|                 Rashid|      Anesthesiology|                       OH|                M|           52|           92|          68|   1932.0|      239|             1.492|     295950.73|         93430.64|2021|      NULL|    0|\n",
      "|  3|1003000423|                   Velotta|               Jennifer|Obstetrics & Gyne...|                       OH|                F|           19|            0|          66|    738.0|       69|            0.6362|       21300.0|          6735.97|2021|      NULL|    0|\n",
      "|  4|1003000480|                 Rothchild|                  Kevin|     General Surgery|                       CO|                M|           29|           48|          65|    162.0|      112|            1.8233|      180891.0|         28071.92|2021|      NULL|    0|\n",
      "+---+----------+--------------------------+-----------------------+--------------------+-------------------------+-----------------+-------------+-------------+------------+---------+---------+------------------+--------------+-----------------+----+----------+-----+\n",
      "only showing top 5 rows\n",
      "\n"
     ]
    }
   ],
   "source": [
    "df_3.show(5)"
   ]
  },
  {
   "cell_type": "code",
   "execution_count": null,
   "metadata": {
    "id": "lq724WjL_05F"
   },
   "outputs": [],
   "source": [
    "df_2021 = df_3.drop(\"_c0\",\"FINAL_YEAR\",\"Rndrng_NPI\",\"Rndrng_Prvdr_Last_Org_Name\",\"Rndrng_Prvdr_First_Name\",\"year\",\"Bene_Male_Cnt\")"
   ]
  },
  {
   "cell_type": "code",
   "execution_count": null,
   "metadata": {
    "colab": {
     "base_uri": "https://localhost:8080/"
    },
    "executionInfo": {
     "elapsed": 160,
     "status": "ok",
     "timestamp": 1738828404944,
     "user": {
      "displayName": "Rohit Kalane",
      "userId": "15650345289629422454"
     },
     "user_tz": -330
    },
    "id": "cdqRv48rCFHS",
    "outputId": "0ad9a71d-be54-427b-efb7-1aeddf74b839"
   },
   "outputs": [
    {
     "name": "stdout",
     "output_type": "stream",
     "text": [
      "+--------------------+-------------------------+-----------------+-------------+------------+---------+---------+------------------+--------------+-----------------+-----+\n",
      "|   Rndrng_Prvdr_Type|Rndrng_Prvdr_State_Abrvtn|Rndrng_Prvdr_Gndr|Tot_HCPCS_Cds|Bene_Avg_Age|Tot_Srvcs|Tot_Benes|Bene_Avg_Risk_Scre|Tot_Sbmtd_Chrg|Tot_Mdcr_Pymt_Amt|Fraud|\n",
      "+--------------------+-------------------------+-----------------+-------------+------------+---------+---------+------------------+--------------+-----------------+-----+\n",
      "|   Internal Medicine|                       MD|                M|           36|          78|   3749.0|      661|            1.8026|     515976.55|        231289.23|    0|\n",
      "|           Pathology|                       IL|                M|           21|          76|   7359.0|     3216|            1.0785|    1136431.94|        203094.28|    0|\n",
      "|      Anesthesiology|                       OH|                M|           52|          68|   1932.0|      239|             1.492|     295950.73|         93430.64|    0|\n",
      "|Obstetrics & Gyne...|                       OH|                F|           19|          66|    738.0|       69|            0.6362|       21300.0|          6735.97|    0|\n",
      "|     General Surgery|                       CO|                M|           29|          65|    162.0|      112|            1.8233|      180891.0|         28071.92|    0|\n",
      "+--------------------+-------------------------+-----------------+-------------+------------+---------+---------+------------------+--------------+-----------------+-----+\n",
      "only showing top 5 rows\n",
      "\n"
     ]
    }
   ],
   "source": [
    "df_2021.show(5)"
   ]
  },
  {
   "cell_type": "code",
   "execution_count": null,
   "metadata": {
    "colab": {
     "base_uri": "https://localhost:8080/"
    },
    "executionInfo": {
     "elapsed": 1147,
     "status": "ok",
     "timestamp": 1738828406092,
     "user": {
      "displayName": "Rohit Kalane",
      "userId": "15650345289629422454"
     },
     "user_tz": -330
    },
    "id": "El6jIoMcZq6z",
    "outputId": "9567d233-cd97-469c-a5f3-eca94be7723e"
   },
   "outputs": [
    {
     "data": {
      "text/plain": [
       "(1198756, 11)"
      ]
     },
     "execution_count": 24,
     "metadata": {},
     "output_type": "execute_result"
    }
   ],
   "source": [
    "df_2021.count(),len(df_2021.columns)"
   ]
  },
  {
   "cell_type": "code",
   "execution_count": null,
   "metadata": {
    "colab": {
     "base_uri": "https://localhost:8080/"
    },
    "executionInfo": {
     "elapsed": 10570,
     "status": "ok",
     "timestamp": 1738828416661,
     "user": {
      "displayName": "Rohit Kalane",
      "userId": "15650345289629422454"
     },
     "user_tz": -330
    },
    "id": "e2Zscd6ACVzX",
    "outputId": "dada3d2e-d13c-4b0a-f028-ec2600392b8f"
   },
   "outputs": [
    {
     "data": {
      "text/plain": [
       "(1198754, 11)"
      ]
     },
     "execution_count": 25,
     "metadata": {},
     "output_type": "execute_result"
    }
   ],
   "source": [
    "df_2021 = df_2021.dropDuplicates()\n",
    "df_2021.count(),len(df_2021.columns)"
   ]
  },
  {
   "cell_type": "code",
   "execution_count": null,
   "metadata": {
    "colab": {
     "base_uri": "https://localhost:8080/"
    },
    "executionInfo": {
     "elapsed": 9704,
     "status": "ok",
     "timestamp": 1738828426408,
     "user": {
      "displayName": "Rohit Kalane",
      "userId": "15650345289629422454"
     },
     "user_tz": -330
    },
    "id": "eugHXfLjCH9M",
    "outputId": "0e66c968-b724-4066-85b5-ff2b9c8f01d3"
   },
   "outputs": [
    {
     "name": "stdout",
     "output_type": "stream",
     "text": [
      "+-----+-------+\n",
      "|Fraud|  count|\n",
      "+-----+-------+\n",
      "|    1|    303|\n",
      "|    0|1198451|\n",
      "+-----+-------+\n",
      "\n"
     ]
    }
   ],
   "source": [
    "fraud_counts = df_2021.groupBy(\"Fraud\").count()\n",
    "fraud_counts.show()"
   ]
  },
  {
   "cell_type": "markdown",
   "metadata": {
    "id": "89zR6vP9Z-2G"
   },
   "source": [
    "# **YEAR - 2022**"
   ]
  },
  {
   "cell_type": "code",
   "execution_count": null,
   "metadata": {
    "id": "1EPiQeXXMO8D"
   },
   "outputs": [],
   "source": [
    "df_4 = spark.read.csv(\"/content/drive/MyDrive/Project_CDAC/Prepared_Data/ARCHIVE/prepared_data_2022.csv\", header=True, inferSchema=True)"
   ]
  },
  {
   "cell_type": "code",
   "execution_count": null,
   "metadata": {
    "colab": {
     "base_uri": "https://localhost:8080/"
    },
    "executionInfo": {
     "elapsed": 230,
     "status": "ok",
     "timestamp": 1738828435266,
     "user": {
      "displayName": "Rohit Kalane",
      "userId": "15650345289629422454"
     },
     "user_tz": -330
    },
    "id": "W4cdHOOvaHqr",
    "outputId": "625043f7-9d4f-4e0c-dcc3-582cc08b6927"
   },
   "outputs": [
    {
     "name": "stdout",
     "output_type": "stream",
     "text": [
      "+---+----------+--------------------------+-----------------------+--------------------+-------------------------+-----------------+-------------+-------------+------------+---------+---------+------------------+--------------+-----------------+----+----------+-----+\n",
      "|_c0|Rndrng_NPI|Rndrng_Prvdr_Last_Org_Name|Rndrng_Prvdr_First_Name|   Rndrng_Prvdr_Type|Rndrng_Prvdr_State_Abrvtn|Rndrng_Prvdr_Gndr|Tot_HCPCS_Cds|Bene_Male_Cnt|Bene_Avg_Age|Tot_Srvcs|Tot_Benes|Bene_Avg_Risk_Scre|Tot_Sbmtd_Chrg|Tot_Mdcr_Pymt_Amt|year|FINAL_YEAR|Fraud|\n",
      "+---+----------+--------------------------+-----------------------+--------------------+-------------------------+-----------------+-------------+-------------+------------+---------+---------+------------------+--------------+-----------------+----+----------+-----+\n",
      "|  0|1003000126|                 Enkeshafi|                Ardalan|   Internal Medicine|                       MD|                M|           22|          176|          76|    881.0|      420|            2.5578|     324882.56|         70983.92|2022|      NULL|    0|\n",
      "|  1|1003000134|                    Cibull|                 Thomas|           Pathology|                       IL|                M|           19|         1443|          76|   6809.0|     2938|             1.096|     1031724.0|        176263.09|2022|      NULL|    0|\n",
      "|  2|1003000142|                    Khalil|                 Rashid|      Anesthesiology|                       OH|                M|           60|          153|          69|   1912.0|      405|            1.5455|     424337.85|        132610.88|2022|      NULL|    0|\n",
      "|  3|1003000423|                   Velotta|               Jennifer|Obstetrics & Gyne...|                       OH|                F|           16|            0|          69|    111.0|       59|            0.8531|        9918.0|          4335.15|2022|      NULL|    0|\n",
      "|  4|1003000480|                 Rothchild|                  Kevin|     General Surgery|                       CO|                M|           37|           64|          69|    194.0|      120|            1.7034|     257176.75|         34818.87|2022|      NULL|    0|\n",
      "+---+----------+--------------------------+-----------------------+--------------------+-------------------------+-----------------+-------------+-------------+------------+---------+---------+------------------+--------------+-----------------+----+----------+-----+\n",
      "only showing top 5 rows\n",
      "\n"
     ]
    }
   ],
   "source": [
    "df_4.show(5)"
   ]
  },
  {
   "cell_type": "code",
   "execution_count": null,
   "metadata": {
    "id": "kFbckORJaHUr"
   },
   "outputs": [],
   "source": [
    "df_2022 = df_4.drop(\"_c0\",\"FINAL_YEAR\",\"Rndrng_NPI\",\"Rndrng_Prvdr_Last_Org_Name\",\"Rndrng_Prvdr_First_Name\",\"year\",\"Bene_Male_Cnt\")"
   ]
  },
  {
   "cell_type": "code",
   "execution_count": null,
   "metadata": {
    "colab": {
     "base_uri": "https://localhost:8080/"
    },
    "executionInfo": {
     "elapsed": 175,
     "status": "ok",
     "timestamp": 1738828435465,
     "user": {
      "displayName": "Rohit Kalane",
      "userId": "15650345289629422454"
     },
     "user_tz": -330
    },
    "id": "ovnm_MF7aX19",
    "outputId": "08cdb75f-ae40-4360-cf44-692b492695b5"
   },
   "outputs": [
    {
     "name": "stdout",
     "output_type": "stream",
     "text": [
      "+--------------------+-------------------------+-----------------+-------------+------------+---------+---------+------------------+--------------+-----------------+-----+\n",
      "|   Rndrng_Prvdr_Type|Rndrng_Prvdr_State_Abrvtn|Rndrng_Prvdr_Gndr|Tot_HCPCS_Cds|Bene_Avg_Age|Tot_Srvcs|Tot_Benes|Bene_Avg_Risk_Scre|Tot_Sbmtd_Chrg|Tot_Mdcr_Pymt_Amt|Fraud|\n",
      "+--------------------+-------------------------+-----------------+-------------+------------+---------+---------+------------------+--------------+-----------------+-----+\n",
      "|   Internal Medicine|                       MD|                M|           22|          76|    881.0|      420|            2.5578|     324882.56|         70983.92|    0|\n",
      "|           Pathology|                       IL|                M|           19|          76|   6809.0|     2938|             1.096|     1031724.0|        176263.09|    0|\n",
      "|      Anesthesiology|                       OH|                M|           60|          69|   1912.0|      405|            1.5455|     424337.85|        132610.88|    0|\n",
      "|Obstetrics & Gyne...|                       OH|                F|           16|          69|    111.0|       59|            0.8531|        9918.0|          4335.15|    0|\n",
      "|     General Surgery|                       CO|                M|           37|          69|    194.0|      120|            1.7034|     257176.75|         34818.87|    0|\n",
      "+--------------------+-------------------------+-----------------+-------------+------------+---------+---------+------------------+--------------+-----------------+-----+\n",
      "only showing top 5 rows\n",
      "\n"
     ]
    }
   ],
   "source": [
    "df_2022.show(5)"
   ]
  },
  {
   "cell_type": "code",
   "execution_count": null,
   "metadata": {
    "colab": {
     "base_uri": "https://localhost:8080/"
    },
    "executionInfo": {
     "elapsed": 1119,
     "status": "ok",
     "timestamp": 1738828436586,
     "user": {
      "displayName": "Rohit Kalane",
      "userId": "15650345289629422454"
     },
     "user_tz": -330
    },
    "id": "f-zginBgaavF",
    "outputId": "bd1877b3-f8a7-4e92-97c7-f78824f3b303"
   },
   "outputs": [
    {
     "data": {
      "text/plain": [
       "(1230294, 11)"
      ]
     },
     "execution_count": 31,
     "metadata": {},
     "output_type": "execute_result"
    }
   ],
   "source": [
    "df_2022.count(),len(df_2022.columns)"
   ]
  },
  {
   "cell_type": "code",
   "execution_count": null,
   "metadata": {
    "colab": {
     "base_uri": "https://localhost:8080/"
    },
    "executionInfo": {
     "elapsed": 11419,
     "status": "ok",
     "timestamp": 1738828448003,
     "user": {
      "displayName": "Rohit Kalane",
      "userId": "15650345289629422454"
     },
     "user_tz": -330
    },
    "id": "mll6gIn1adUs",
    "outputId": "00b9b577-70f2-4d77-9acb-e9a08ead8040"
   },
   "outputs": [
    {
     "data": {
      "text/plain": [
       "(1230293, 11)"
      ]
     },
     "execution_count": 32,
     "metadata": {},
     "output_type": "execute_result"
    }
   ],
   "source": [
    "df_2022 = df_2022.dropDuplicates()\n",
    "df_2022.count(),len(df_2022.columns)"
   ]
  },
  {
   "cell_type": "code",
   "execution_count": null,
   "metadata": {
    "colab": {
     "base_uri": "https://localhost:8080/"
    },
    "executionInfo": {
     "elapsed": 12759,
     "status": "ok",
     "timestamp": 1738828460764,
     "user": {
      "displayName": "Rohit Kalane",
      "userId": "15650345289629422454"
     },
     "user_tz": -330
    },
    "id": "EDhubnxhaffj",
    "outputId": "80eb998f-1530-4142-e267-6e38d537cebc"
   },
   "outputs": [
    {
     "name": "stdout",
     "output_type": "stream",
     "text": [
      "+-----+-------+\n",
      "|Fraud|  count|\n",
      "+-----+-------+\n",
      "|    1|    166|\n",
      "|    0|1230127|\n",
      "+-----+-------+\n",
      "\n"
     ]
    }
   ],
   "source": [
    "df_2022.groupBy(\"Fraud\").count().show()"
   ]
  },
  {
   "cell_type": "code",
   "execution_count": null,
   "metadata": {
    "id": "EhCMKqGFauox"
   },
   "outputs": [],
   "source": [
    "df_2019_fraud = df_2019.filter(df_2019[\"Fraud\"] == 1)\n",
    "df_2020_fraud = df_2020.filter(df_2020[\"Fraud\"] == 1)\n",
    "df_2021_fraud = df_2021.filter(df_2021[\"Fraud\"] == 1)\n",
    "df_2022_fraud = df_2022.filter(df_2022[\"Fraud\"] == 1)\n",
    "\n",
    "df_Fraud = df_2019_fraud.union(df_2020_fraud).union(df_2021_fraud).union(df_2022_fraud)\n"
   ]
  },
  {
   "cell_type": "code",
   "execution_count": null,
   "metadata": {
    "colab": {
     "base_uri": "https://localhost:8080/"
    },
    "executionInfo": {
     "elapsed": 17516,
     "status": "ok",
     "timestamp": 1738828478284,
     "user": {
      "displayName": "Rohit Kalane",
      "userId": "15650345289629422454"
     },
     "user_tz": -330
    },
    "id": "Wrf7JEBpbV3K",
    "outputId": "e3ccae9a-ebc2-434a-b0bf-cff8d74797ec"
   },
   "outputs": [
    {
     "data": {
      "text/plain": [
       "(20058, 11)"
      ]
     },
     "execution_count": 35,
     "metadata": {},
     "output_type": "execute_result"
    }
   ],
   "source": [
    "df_Fraud.count(),len(df_Fraud.columns)"
   ]
  },
  {
   "cell_type": "code",
   "execution_count": null,
   "metadata": {
    "id": "yGyZiyhLcBYS"
   },
   "outputs": [],
   "source": [
    "df_2019_non_fraud = df_2019.filter(df_2019[\"Fraud\"] == 0)\n",
    "df_2020_non_fraud = df_2020.filter(df_2020[\"Fraud\"] == 0)\n",
    "df_2021_non_fraud = df_2021.filter(df_2021[\"Fraud\"] == 0)\n",
    "df_2022_non_fraud = df_2022.filter(df_2022[\"Fraud\"] == 0)\n",
    "\n",
    "df_non_Fraud = df_2019_non_fraud.union(df_2020_non_fraud).union(df_2021_non_fraud).union(df_2022_non_fraud)"
   ]
  },
  {
   "cell_type": "code",
   "execution_count": null,
   "metadata": {
    "colab": {
     "base_uri": "https://localhost:8080/"
    },
    "executionInfo": {
     "elapsed": 62908,
     "status": "ok",
     "timestamp": 1738828541330,
     "user": {
      "displayName": "Rohit Kalane",
      "userId": "15650345289629422454"
     },
     "user_tz": -330
    },
    "id": "LMfiU3lGcQCq",
    "outputId": "413c59fa-0b51-4e8b-9ba9-7d070dceb2a0"
   },
   "outputs": [
    {
     "data": {
      "text/plain": [
       "(4734451, 11)"
      ]
     },
     "execution_count": 37,
     "metadata": {},
     "output_type": "execute_result"
    }
   ],
   "source": [
    "df_non_Fraud.count(),len(df_non_Fraud.columns)"
   ]
  },
  {
   "cell_type": "code",
   "execution_count": null,
   "metadata": {
    "id": "nt6DN-7reiyq"
   },
   "outputs": [],
   "source": [
    "pop_data = df_non_Fraud.union(df_Fraud)"
   ]
  },
  {
   "cell_type": "code",
   "execution_count": 6,
   "metadata": {
    "colab": {
     "base_uri": "https://localhost:8080/"
    },
    "executionInfo": {
     "elapsed": 9890,
     "status": "ok",
     "timestamp": 1738911297157,
     "user": {
      "displayName": "Tejas Kharde",
      "userId": "17787809827713367189"
     },
     "user_tz": -330
    },
    "id": "2NzxBfm6eqOd",
    "outputId": "4ab2203f-6101-4d28-d277-870da6cf458e"
   },
   "outputs": [
    {
     "data": {
      "text/plain": [
       "(4754510, 11)"
      ]
     },
     "execution_count": 6,
     "metadata": {},
     "output_type": "execute_result"
    }
   ],
   "source": [
    "pop_data.count(),len(pop_data.columns)"
   ]
  },
  {
   "cell_type": "code",
   "execution_count": null,
   "metadata": {
    "id": "wDrGnBaygjGf"
   },
   "outputs": [],
   "source": [
    "pop_data.coalesce(1).write.csv(\"/content/drive/MyDrive/Project_CDAC/Prepared_Data/pop_data\", header=True, mode='overwrite')"
   ]
  },
  {
   "cell_type": "markdown",
   "metadata": {
    "id": "BH7j37rClp5f"
   },
   "source": [
    "**The current fraud rate of 0.42% does not accurately represent the global average of 10%. To address this discrepancy, it is essential to sample from the negative class (non-fraud cases) in order to raise the fraud rate to the target level of 10%.**"
   ]
  },
  {
   "cell_type": "code",
   "execution_count": null,
   "metadata": {
    "id": "iIfNzydPlo6m"
   },
   "outputs": [],
   "source": [
    "num_samples = df_Fraud.count() * 9\n",
    "num_samples"
   ]
  },
  {
   "cell_type": "code",
   "execution_count": null,
   "metadata": {
    "id": "ic4ZTeTovmyj"
   },
   "outputs": [],
   "source": [
    "df_non_Fraud.count()"
   ]
  },
  {
   "cell_type": "code",
   "execution_count": null,
   "metadata": {
    "id": "TD4Qe4wu7qpe"
   },
   "outputs": [],
   "source": [
    "samp_df = df_non_Fraud.sample(withReplacement=False, fraction=num_samples/df_non_Fraud.count(), seed=7)"
   ]
  },
  {
   "cell_type": "code",
   "execution_count": null,
   "metadata": {
    "id": "1IHiPI6s71so"
   },
   "outputs": [],
   "source": [
    "samp_df.count()"
   ]
  },
  {
   "cell_type": "markdown",
   "metadata": {
    "id": "o1VxFoX78_dt"
   },
   "source": [
    "# **Here, we ensured that there are no duplicates in the sample of non-frauds.**"
   ]
  },
  {
   "cell_type": "code",
   "execution_count": null,
   "metadata": {
    "id": "a_1QAiPC8ny0"
   },
   "outputs": [],
   "source": [
    "samp_df.dropDuplicates()\n",
    "samp_df.count()"
   ]
  },
  {
   "cell_type": "code",
   "execution_count": null,
   "metadata": {
    "id": "OyVJiauw9ILk"
   },
   "outputs": [],
   "source": [
    "sample_data = samp_df.union(df_Fraud)"
   ]
  },
  {
   "cell_type": "markdown",
   "metadata": {
    "id": "2VdlrOPbC2C9"
   },
   "source": [
    "# **FINAL DATA WITH 10%  FRAUD RATE**"
   ]
  },
  {
   "cell_type": "code",
   "execution_count": null,
   "metadata": {
    "id": "ycrL_pJF9Ty-"
   },
   "outputs": [],
   "source": [
    "sample_data.count()"
   ]
  },
  {
   "cell_type": "code",
   "execution_count": null,
   "metadata": {
    "id": "u_lTGDPi96AR"
   },
   "outputs": [],
   "source": [
    "sample_data.groupBy(\"Fraud\").count().show()"
   ]
  },
  {
   "cell_type": "code",
   "execution_count": null,
   "metadata": {
    "id": "JdXbzMwch-Td"
   },
   "outputs": [],
   "source": [
    "sample_data.show(5)"
   ]
  },
  {
   "cell_type": "code",
   "execution_count": null,
   "metadata": {
    "id": "vb4eEcKPlh7a"
   },
   "outputs": [],
   "source": [
    "from pyspark.sql.functions import col, count, when\n",
    "null_counts = sample_data.agg(*(count(when(col(c).isNull(), c)).alias(c) for c in sample_data.columns))\n",
    "\n",
    "null_counts.show()"
   ]
  },
  {
   "cell_type": "code",
   "execution_count": null,
   "metadata": {
    "id": "Xvy4t3L8B0V5"
   },
   "outputs": [],
   "source": [
    "sample_data = sample_data.fillna({\"Rndrng_Prvdr_Gndr\": \"Organization\"})"
   ]
  },
  {
   "cell_type": "code",
   "execution_count": null,
   "metadata": {
    "id": "zqTm7WhhB3qd"
   },
   "outputs": [],
   "source": [
    "null_counts = sample_data.agg(*(count(when(col(c).isNull(), c)).alias(c) for c in sample_data.columns))\n",
    "\n",
    "null_counts.show()"
   ]
  },
  {
   "cell_type": "code",
   "execution_count": null,
   "metadata": {
    "id": "DjosDh8OCJRN"
   },
   "outputs": [],
   "source": [
    "sample_data = sample_data.withColumnRenamed(\"Rndrng_Prvdr_Gndr\", \"Provider_Gender_Or_Organization\")"
   ]
  },
  {
   "cell_type": "code",
   "execution_count": null,
   "metadata": {
    "id": "8c8C6VSPCLng"
   },
   "outputs": [],
   "source": [
    "sample_data.show(5)"
   ]
  },
  {
   "cell_type": "code",
   "execution_count": null,
   "metadata": {
    "id": "MYPmcQig-y2R"
   },
   "outputs": [],
   "source": [
    "sample_data.coalesce(1).write.csv(\"/content/drive/MyDrive/Project_CDAC/Prepared_Data/sample_data\", header=True, mode='overwrite')"
   ]
  },
  {
   "cell_type": "code",
   "execution_count": null,
   "metadata": {
    "id": "ASwosUAiO_RD"
   },
   "outputs": [],
   "source": []
  },
  {
   "cell_type": "code",
   "execution_count": 3,
   "metadata": {
    "colab": {
     "base_uri": "https://localhost:8080/"
    },
    "executionInfo": {
     "elapsed": 19288,
     "status": "ok",
     "timestamp": 1738911202134,
     "user": {
      "displayName": "Tejas Kharde",
      "userId": "17787809827713367189"
     },
     "user_tz": -330
    },
    "id": "g02JBOdXPJyY",
    "outputId": "c1853d9c-6aa1-4f83-9357-77faeee3da37"
   },
   "outputs": [
    {
     "name": "stdout",
     "output_type": "stream",
     "text": [
      "Mounted at /content/drive\n"
     ]
    }
   ],
   "source": [
    "from google.colab import drive\n",
    "drive.mount('/content/drive')"
   ]
  },
  {
   "cell_type": "code",
   "execution_count": null,
   "metadata": {
    "id": "mB7RnMkLLu6g"
   },
   "outputs": [],
   "source": []
  }
 ],
 "metadata": {
  "colab": {
   "provenance": []
  },
  "kernelspec": {
   "display_name": "Python 3",
   "name": "python3"
  },
  "language_info": {
   "name": "python"
  }
 },
 "nbformat": 4,
 "nbformat_minor": 0
}
