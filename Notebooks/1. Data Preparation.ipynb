{
 "cells": [
  {
   "cell_type": "code",
   "execution_count": 1,
   "id": "44e7511a",
   "metadata": {},
   "outputs": [],
   "source": [
    "import os\n",
    "import sys\n",
    "\n",
    "os.environ[\"SPARK_HOME\"] = \"/home/talentum/spark\"\n",
    "os.environ[\"PYLIB\"] = os.environ[\"SPARK_HOME\"] + \"/python/lib\"\n",
    "# In below two lines, use /usr/bin/python2.7 if you want to use Python 2\n",
    "os.environ[\"PYSPARK_PYTHON\"] = \"/usr/bin/python3.6\" \n",
    "os.environ[\"PYSPARK_DRIVER_PYTHON\"] = \"/usr/bin/python3\"\n",
    "sys.path.insert(0, os.environ[\"PYLIB\"] +\"/py4j-0.10.7-src.zip\")\n",
    "sys.path.insert(0, os.environ[\"PYLIB\"] +\"/pyspark.zip\")\n",
    "\n",
    "# NOTE: Whichever package you want mention here.\n",
    "# os.environ['PYSPARK_SUBMIT_ARGS'] = '--packages com.databricks:spark-xml_2.11:0.6.0 pyspark-shell' \n",
    "# os.environ['PYSPARK_SUBMIT_ARGS'] = '--packages org.apache.spark:spark-avro_2.11:2.4.0 pyspark-shell'\n",
    "os.environ['PYSPARK_SUBMIT_ARGS'] = '--packages com.databricks:spark-xml_2.11:0.6.0,org.apache.spark:spark-avro_2.11:2.4.3 pyspark-shell'\n",
    "# os.environ['PYSPARK_SUBMIT_ARGS'] = '--packages com.databricks:spark-xml_2.11:0.6.0,org.apache.spark:spark-avro_2.11:2.4.0 pyspark-shell'"
   ]
  },
  {
   "cell_type": "code",
   "execution_count": 2,
   "id": "490ec8b8",
   "metadata": {},
   "outputs": [],
   "source": [
    "from pyspark.sql import SparkSession\n",
    "spark = SparkSession.builder.appName(\"Spark SQL basic example\").enableHiveSupport().getOrCreate()"
   ]
  },
  {
   "cell_type": "code",
   "execution_count": null,
   "id": "406d9337",
   "metadata": {},
   "outputs": [],
   "source": [
    "#spark = SparkSession.builder.appName(\"Data Preparation\").master(\"local[*]\").getOrCreate()"
   ]
  },
  {
   "cell_type": "code",
   "execution_count": 3,
   "id": "de410299",
   "metadata": {},
   "outputs": [],
   "source": [
    "df_cms_2019 = spark.read.csv(\"partB_19-22/MUP_PHY_R24_P07_V10_D19_Prov.csv\", header=True)\n",
    "# df_cms_2020 = spark.read.csv(\"partB_19-22/MUP_PHY_R24_P07_V10_D20_Prov.csv\", header=True)\n",
    "# df_cms_2021 = spark.read.csv(\"partB_19-22/MUP_PHY_R24_P07_V10_D21_Prov.csv\", header=True)\n",
    "# df_cms_2022 = spark.read.csv(\"partB_19-22/MUP_PHY_R24_P07_V10_D22_Prov.csv\", header=True)"
   ]
  },
  {
   "cell_type": "code",
   "execution_count": 4,
   "id": "9c7fbd8a",
   "metadata": {},
   "outputs": [
    {
     "data": {
      "text/plain": [
       "['Rndrng_NPI',\n",
       " 'Rndrng_Prvdr_Last_Org_Name',\n",
       " 'Rndrng_Prvdr_First_Name',\n",
       " 'Rndrng_Prvdr_MI',\n",
       " 'Rndrng_Prvdr_Crdntls',\n",
       " 'Rndrng_Prvdr_Gndr',\n",
       " 'Rndrng_Prvdr_Ent_Cd',\n",
       " 'Rndrng_Prvdr_St1',\n",
       " 'Rndrng_Prvdr_St2',\n",
       " 'Rndrng_Prvdr_City',\n",
       " 'Rndrng_Prvdr_State_Abrvtn',\n",
       " 'Rndrng_Prvdr_State_FIPS',\n",
       " 'Rndrng_Prvdr_Zip5',\n",
       " 'Rndrng_Prvdr_RUCA',\n",
       " 'Rndrng_Prvdr_RUCA_Desc',\n",
       " 'Rndrng_Prvdr_Cntry',\n",
       " 'Rndrng_Prvdr_Type',\n",
       " 'Rndrng_Prvdr_Mdcr_Prtcptg_Ind',\n",
       " 'Tot_HCPCS_Cds',\n",
       " 'Tot_Benes',\n",
       " 'Tot_Srvcs',\n",
       " 'Tot_Sbmtd_Chrg',\n",
       " 'Tot_Mdcr_Alowd_Amt',\n",
       " 'Tot_Mdcr_Pymt_Amt',\n",
       " 'Tot_Mdcr_Stdzd_Amt',\n",
       " 'Drug_Sprsn_Ind',\n",
       " 'Drug_Tot_HCPCS_Cds',\n",
       " 'Drug_Tot_Benes',\n",
       " 'Drug_Tot_Srvcs',\n",
       " 'Drug_Sbmtd_Chrg',\n",
       " 'Drug_Mdcr_Alowd_Amt',\n",
       " 'Drug_Mdcr_Pymt_Amt',\n",
       " 'Drug_Mdcr_Stdzd_Amt',\n",
       " 'Med_Sprsn_Ind',\n",
       " 'Med_Tot_HCPCS_Cds',\n",
       " 'Med_Tot_Benes',\n",
       " 'Med_Tot_Srvcs',\n",
       " 'Med_Sbmtd_Chrg',\n",
       " 'Med_Mdcr_Alowd_Amt',\n",
       " 'Med_Mdcr_Pymt_Amt',\n",
       " 'Med_Mdcr_Stdzd_Amt',\n",
       " 'Bene_Avg_Age',\n",
       " 'Bene_Age_LT_65_Cnt',\n",
       " 'Bene_Age_65_74_Cnt',\n",
       " 'Bene_Age_75_84_Cnt',\n",
       " 'Bene_Age_GT_84_Cnt',\n",
       " 'Bene_Feml_Cnt',\n",
       " 'Bene_Male_Cnt',\n",
       " 'Bene_Race_Wht_Cnt',\n",
       " 'Bene_Race_Black_Cnt',\n",
       " 'Bene_Race_API_Cnt',\n",
       " 'Bene_Race_Hspnc_Cnt',\n",
       " 'Bene_Race_NatInd_Cnt',\n",
       " 'Bene_Race_Othr_Cnt',\n",
       " 'Bene_Dual_Cnt',\n",
       " 'Bene_Ndual_Cnt',\n",
       " 'Bene_CC_BH_ADHD_OthCD_V1_Pct',\n",
       " 'Bene_CC_BH_Alcohol_Drug_V1_Pct',\n",
       " 'Bene_CC_BH_Tobacco_V1_Pct',\n",
       " 'Bene_CC_BH_Alz_NonAlzdem_V2_Pct',\n",
       " 'Bene_CC_BH_Anxiety_V1_Pct',\n",
       " 'Bene_CC_BH_Bipolar_V1_Pct',\n",
       " 'Bene_CC_BH_Mood_V2_Pct',\n",
       " 'Bene_CC_BH_Depress_V1_Pct',\n",
       " 'Bene_CC_BH_PD_V1_Pct',\n",
       " 'Bene_CC_BH_PTSD_V1_Pct',\n",
       " 'Bene_CC_BH_Schizo_OthPsy_V1_Pct',\n",
       " 'Bene_CC_PH_Asthma_V2_Pct',\n",
       " 'Bene_CC_PH_Afib_V2_Pct',\n",
       " 'Bene_CC_PH_Cancer6_V2_Pct',\n",
       " 'Bene_CC_PH_CKD_V2_Pct',\n",
       " 'Bene_CC_PH_COPD_V2_Pct',\n",
       " 'Bene_CC_PH_Diabetes_V2_Pct',\n",
       " 'Bene_CC_PH_HF_NonIHD_V2_Pct',\n",
       " 'Bene_CC_PH_Hyperlipidemia_V2_Pct',\n",
       " 'Bene_CC_PH_Hypertension_V2_Pct',\n",
       " 'Bene_CC_PH_IschemicHeart_V2_Pct',\n",
       " 'Bene_CC_PH_Osteoporosis_V2_Pct',\n",
       " 'Bene_CC_PH_Parkinson_V2_Pct',\n",
       " 'Bene_CC_PH_Arthritis_V2_Pct',\n",
       " 'Bene_CC_PH_Stroke_TIA_V2_Pct',\n",
       " 'Bene_Avg_Risk_Scre']"
      ]
     },
     "execution_count": 4,
     "metadata": {},
     "output_type": "execute_result"
    }
   ],
   "source": [
    "df_cms_2019.columns"
   ]
  },
  {
   "cell_type": "code",
   "execution_count": 5,
   "id": "4bfa8e58",
   "metadata": {},
   "outputs": [
    {
     "name": "stdout",
     "output_type": "stream",
     "text": [
      "1155870 82\n"
     ]
    }
   ],
   "source": [
    "print(df_cms_2019.count(), len(df_cms_2019.columns))\n"
   ]
  },
  {
   "cell_type": "code",
   "execution_count": 6,
   "id": "0a22e432",
   "metadata": {},
   "outputs": [],
   "source": [
    "from pyspark.sql.functions import lit\n",
    "df_cms_2019 = df_cms_2019.withColumn('year', lit(2019))\n"
   ]
  },
  {
   "cell_type": "code",
   "execution_count": 7,
   "id": "5762a6e1",
   "metadata": {},
   "outputs": [
    {
     "data": {
      "text/plain": [
       "1155870"
      ]
     },
     "execution_count": 7,
     "metadata": {},
     "output_type": "execute_result"
    }
   ],
   "source": [
    "df_cms_2019.select('Rndrng_NPI').count()"
   ]
  },
  {
   "cell_type": "code",
   "execution_count": 8,
   "id": "50c2512b",
   "metadata": {},
   "outputs": [
    {
     "data": {
      "text/plain": [
       "1155870"
      ]
     },
     "execution_count": 8,
     "metadata": {},
     "output_type": "execute_result"
    }
   ],
   "source": [
    "df_cms_2019.select('Rndrng_NPI').distinct().count()"
   ]
  },
  {
   "cell_type": "code",
   "execution_count": null,
   "id": "52ab969e",
   "metadata": {},
   "outputs": [],
   "source": [
    "# df_cms = df_cms_2019.union(df_cms_2020).union(df_cms_2021).union(df_cms_2022)"
   ]
  },
  {
   "cell_type": "code",
   "execution_count": 9,
   "id": "b5e98977",
   "metadata": {},
   "outputs": [],
   "source": [
    "df_cms = df_cms_2019"
   ]
  },
  {
   "cell_type": "code",
   "execution_count": 10,
   "id": "f6e8586c",
   "metadata": {},
   "outputs": [
    {
     "name": "stdout",
     "output_type": "stream",
     "text": [
      "1155870\n",
      "83\n"
     ]
    }
   ],
   "source": [
    "print(df_cms.count())\n",
    "print(len(df_cms.columns))"
   ]
  },
  {
   "cell_type": "code",
   "execution_count": 11,
   "id": "eccd6fc0",
   "metadata": {},
   "outputs": [
    {
     "data": {
      "text/plain": [
       "['Rndrng_NPI',\n",
       " 'Rndrng_Prvdr_Last_Org_Name',\n",
       " 'Rndrng_Prvdr_First_Name',\n",
       " 'Rndrng_Prvdr_MI',\n",
       " 'Rndrng_Prvdr_Crdntls',\n",
       " 'Rndrng_Prvdr_Gndr',\n",
       " 'Rndrng_Prvdr_Ent_Cd',\n",
       " 'Rndrng_Prvdr_St1',\n",
       " 'Rndrng_Prvdr_St2',\n",
       " 'Rndrng_Prvdr_City',\n",
       " 'Rndrng_Prvdr_State_Abrvtn',\n",
       " 'Rndrng_Prvdr_State_FIPS',\n",
       " 'Rndrng_Prvdr_Zip5',\n",
       " 'Rndrng_Prvdr_RUCA',\n",
       " 'Rndrng_Prvdr_RUCA_Desc',\n",
       " 'Rndrng_Prvdr_Cntry',\n",
       " 'Rndrng_Prvdr_Type',\n",
       " 'Rndrng_Prvdr_Mdcr_Prtcptg_Ind',\n",
       " 'Tot_HCPCS_Cds',\n",
       " 'Tot_Benes',\n",
       " 'Tot_Srvcs',\n",
       " 'Tot_Sbmtd_Chrg',\n",
       " 'Tot_Mdcr_Alowd_Amt',\n",
       " 'Tot_Mdcr_Pymt_Amt',\n",
       " 'Tot_Mdcr_Stdzd_Amt',\n",
       " 'Drug_Sprsn_Ind',\n",
       " 'Drug_Tot_HCPCS_Cds',\n",
       " 'Drug_Tot_Benes',\n",
       " 'Drug_Tot_Srvcs',\n",
       " 'Drug_Sbmtd_Chrg',\n",
       " 'Drug_Mdcr_Alowd_Amt',\n",
       " 'Drug_Mdcr_Pymt_Amt',\n",
       " 'Drug_Mdcr_Stdzd_Amt',\n",
       " 'Med_Sprsn_Ind',\n",
       " 'Med_Tot_HCPCS_Cds',\n",
       " 'Med_Tot_Benes',\n",
       " 'Med_Tot_Srvcs',\n",
       " 'Med_Sbmtd_Chrg',\n",
       " 'Med_Mdcr_Alowd_Amt',\n",
       " 'Med_Mdcr_Pymt_Amt',\n",
       " 'Med_Mdcr_Stdzd_Amt',\n",
       " 'Bene_Avg_Age',\n",
       " 'Bene_Age_LT_65_Cnt',\n",
       " 'Bene_Age_65_74_Cnt',\n",
       " 'Bene_Age_75_84_Cnt',\n",
       " 'Bene_Age_GT_84_Cnt',\n",
       " 'Bene_Feml_Cnt',\n",
       " 'Bene_Male_Cnt',\n",
       " 'Bene_Race_Wht_Cnt',\n",
       " 'Bene_Race_Black_Cnt',\n",
       " 'Bene_Race_API_Cnt',\n",
       " 'Bene_Race_Hspnc_Cnt',\n",
       " 'Bene_Race_NatInd_Cnt',\n",
       " 'Bene_Race_Othr_Cnt',\n",
       " 'Bene_Dual_Cnt',\n",
       " 'Bene_Ndual_Cnt',\n",
       " 'Bene_CC_BH_ADHD_OthCD_V1_Pct',\n",
       " 'Bene_CC_BH_Alcohol_Drug_V1_Pct',\n",
       " 'Bene_CC_BH_Tobacco_V1_Pct',\n",
       " 'Bene_CC_BH_Alz_NonAlzdem_V2_Pct',\n",
       " 'Bene_CC_BH_Anxiety_V1_Pct',\n",
       " 'Bene_CC_BH_Bipolar_V1_Pct',\n",
       " 'Bene_CC_BH_Mood_V2_Pct',\n",
       " 'Bene_CC_BH_Depress_V1_Pct',\n",
       " 'Bene_CC_BH_PD_V1_Pct',\n",
       " 'Bene_CC_BH_PTSD_V1_Pct',\n",
       " 'Bene_CC_BH_Schizo_OthPsy_V1_Pct',\n",
       " 'Bene_CC_PH_Asthma_V2_Pct',\n",
       " 'Bene_CC_PH_Afib_V2_Pct',\n",
       " 'Bene_CC_PH_Cancer6_V2_Pct',\n",
       " 'Bene_CC_PH_CKD_V2_Pct',\n",
       " 'Bene_CC_PH_COPD_V2_Pct',\n",
       " 'Bene_CC_PH_Diabetes_V2_Pct',\n",
       " 'Bene_CC_PH_HF_NonIHD_V2_Pct',\n",
       " 'Bene_CC_PH_Hyperlipidemia_V2_Pct',\n",
       " 'Bene_CC_PH_Hypertension_V2_Pct',\n",
       " 'Bene_CC_PH_IschemicHeart_V2_Pct',\n",
       " 'Bene_CC_PH_Osteoporosis_V2_Pct',\n",
       " 'Bene_CC_PH_Parkinson_V2_Pct',\n",
       " 'Bene_CC_PH_Arthritis_V2_Pct',\n",
       " 'Bene_CC_PH_Stroke_TIA_V2_Pct',\n",
       " 'Bene_Avg_Risk_Scre',\n",
       " 'year']"
      ]
     },
     "execution_count": 11,
     "metadata": {},
     "output_type": "execute_result"
    }
   ],
   "source": [
    "df_cms.columns"
   ]
  },
  {
   "cell_type": "code",
   "execution_count": 42,
   "id": "31fd929e",
   "metadata": {},
   "outputs": [],
   "source": [
    "df_cms_feats =df_cms.select('Rndrng_NPI','Rndrng_Prvdr_Last_Org_Name',\n",
    "         'Rndrng_Prvdr_First_Name','Rndrng_Prvdr_Type', 'Rndrng_Prvdr_State_Abrvtn',\n",
    "         'Rndrng_Prvdr_Gndr','Tot_HCPCS_Cds', 'Bene_Male_Cnt','Bene_Avg_Age',\n",
    "         'Tot_Srvcs','Tot_Benes','Bene_Avg_Risk_Scre',\n",
    "         'Tot_Sbmtd_Chrg','Tot_Mdcr_Pymt_Amt','year')"
   ]
  },
  {
   "cell_type": "code",
   "execution_count": 43,
   "id": "d155355f",
   "metadata": {},
   "outputs": [
    {
     "data": {
      "text/plain": [
       "['Rndrng_NPI',\n",
       " 'Rndrng_Prvdr_Last_Org_Name',\n",
       " 'Rndrng_Prvdr_First_Name',\n",
       " 'Rndrng_Prvdr_Type',\n",
       " 'Rndrng_Prvdr_State_Abrvtn',\n",
       " 'Rndrng_Prvdr_Gndr',\n",
       " 'Tot_HCPCS_Cds',\n",
       " 'Bene_Male_Cnt',\n",
       " 'Bene_Avg_Age',\n",
       " 'Tot_Srvcs',\n",
       " 'Tot_Benes',\n",
       " 'Bene_Avg_Risk_Scre',\n",
       " 'Tot_Sbmtd_Chrg',\n",
       " 'Tot_Mdcr_Pymt_Amt',\n",
       " 'year']"
      ]
     },
     "execution_count": 43,
     "metadata": {},
     "output_type": "execute_result"
    }
   ],
   "source": [
    "df_cms_feats.columns"
   ]
  },
  {
   "cell_type": "code",
   "execution_count": 44,
   "id": "e7be5cea",
   "metadata": {},
   "outputs": [
    {
     "name": "stdout",
     "output_type": "stream",
     "text": [
      "+----------+--------------------------+-----------------------+--------------------+-------------------------+-----------------+-------------+-------------+------------+---------+---------+------------------+--------------+-----------------+----+\n",
      "|Rndrng_NPI|Rndrng_Prvdr_Last_Org_Name|Rndrng_Prvdr_First_Name|   Rndrng_Prvdr_Type|Rndrng_Prvdr_State_Abrvtn|Rndrng_Prvdr_Gndr|Tot_HCPCS_Cds|Bene_Male_Cnt|Bene_Avg_Age|Tot_Srvcs|Tot_Benes|Bene_Avg_Risk_Scre|Tot_Sbmtd_Chrg|Tot_Mdcr_Pymt_Amt|year|\n",
      "+----------+--------------------------+-----------------------+--------------------+-------------------------+-----------------+-------------+-------------+------------+---------+---------+------------------+--------------+-----------------+----+\n",
      "|1003000126|                 ENKESHAFI|                ARDALAN|   Internal Medicine|                       MD|                M|           18|          265|          75|     1392|      610|            2.5917|        519136|        124877.67|2019|\n",
      "|1003000134|                    CIBULL|                 THOMAS|           Pathology|                       IL|                M|           20|         1847|          76|     7835|     3614|            1.1246|       1213264|        228078.56|2019|\n",
      "|1003000142|                    KHALIL|                 RASHID|      Anesthesiology|                       OH|                M|           54|          121|          65|     2530|      264|            1.6146|        215156|         83582.18|2019|\n",
      "|1003000423|                   VELOTTA|               JENNIFER|Obstetrics & Gyne...|                       OH|                F|           24|            0|          66|      897|       74|            0.9065|         23150|          9007.31|2019|\n",
      "|1003000480|                 ROTHCHILD|                  KEVIN|     General Surgery|                       CO|                M|           30|           44|          64|      159|      104|            1.7191|     210964.25|         31113.49|2019|\n",
      "+----------+--------------------------+-----------------------+--------------------+-------------------------+-----------------+-------------+-------------+------------+---------+---------+------------------+--------------+-----------------+----+\n",
      "only showing top 5 rows\n",
      "\n"
     ]
    }
   ],
   "source": [
    "df_cms_feats.show(5)"
   ]
  },
  {
   "cell_type": "code",
   "execution_count": 15,
   "id": "a03177b8",
   "metadata": {},
   "outputs": [],
   "source": [
    "df_leie = spark.read.csv(\"partB_19-22/LEIE.csv\", header=True)"
   ]
  },
  {
   "cell_type": "code",
   "execution_count": 16,
   "id": "85e9c10d",
   "metadata": {},
   "outputs": [
    {
     "data": {
      "text/plain": [
       "['LASTNAME',\n",
       " 'FIRSTNAME',\n",
       " 'MIDNAME',\n",
       " 'BUSNAME',\n",
       " 'GENERAL',\n",
       " 'SPECIALTY',\n",
       " 'UPIN',\n",
       " 'NPI',\n",
       " 'DOB',\n",
       " 'ADDRESS',\n",
       " 'CITY',\n",
       " 'STATE',\n",
       " 'ZIP',\n",
       " 'EXCLTYPE',\n",
       " 'EXCLDATE',\n",
       " 'REINDATE',\n",
       " 'WAIVERDATE',\n",
       " 'WVRSTATE']"
      ]
     },
     "execution_count": 16,
     "metadata": {},
     "output_type": "execute_result"
    }
   ],
   "source": [
    "df_leie.columns"
   ]
  },
  {
   "cell_type": "code",
   "execution_count": 17,
   "id": "0e6f8ade",
   "metadata": {},
   "outputs": [],
   "source": [
    "df_leie_new = df_leie.select('NPI','LASTNAME','FIRSTNAME','EXCLTYPE','EXCLDATE','REINDATE', 'WAIVERDATE')"
   ]
  },
  {
   "cell_type": "code",
   "execution_count": 18,
   "id": "03a76937",
   "metadata": {},
   "outputs": [
    {
     "data": {
      "text/plain": [
       "81440"
      ]
     },
     "execution_count": 18,
     "metadata": {},
     "output_type": "execute_result"
    }
   ],
   "source": [
    "df_leie_new.count()"
   ]
  },
  {
   "cell_type": "code",
   "execution_count": 19,
   "id": "5c713582",
   "metadata": {},
   "outputs": [],
   "source": [
    "import pyspark.sql.functions as F\n",
    "df_leie_new = df_leie_new.filter((F.col(\"NPI\") > 0) | (F.col(\"LASTNAME\").isNotNull() & F.col(\"FIRSTNAME\").isNotNull()))\n"
   ]
  },
  {
   "cell_type": "code",
   "execution_count": 20,
   "id": "96d918a8",
   "metadata": {},
   "outputs": [
    {
     "data": {
      "text/plain": [
       "78608"
      ]
     },
     "execution_count": 20,
     "metadata": {},
     "output_type": "execute_result"
    }
   ],
   "source": [
    "df_leie_new.count()"
   ]
  },
  {
   "cell_type": "code",
   "execution_count": 21,
   "id": "a442b470",
   "metadata": {},
   "outputs": [
    {
     "name": "stdout",
     "output_type": "stream",
     "text": [
      "+----------+--------+---------+--------+--------+--------+----------+\n",
      "|       NPI|LASTNAME|FIRSTNAME|EXCLTYPE|EXCLDATE|REINDATE|WAIVERDATE|\n",
      "+----------+--------+---------+--------+--------+--------+----------+\n",
      "|1972902351|    null|     null|  1128b8|20220320|00000000|  00000000|\n",
      "|1922348218|    null|     null|  1128a1|20180419|00000000|  00000000|\n",
      "|1942476080|    null|     null|  1128b8|20170518|00000000|  00000000|\n",
      "|1275600959|    null|     null|  1128a1|20130320|00000000|  00000000|\n",
      "|1891731758|    null|     null|  1128b8|20170518|00000000|  00000000|\n",
      "+----------+--------+---------+--------+--------+--------+----------+\n",
      "only showing top 5 rows\n",
      "\n"
     ]
    }
   ],
   "source": [
    "df_leie_new.show(5)"
   ]
  },
  {
   "cell_type": "code",
   "execution_count": 22,
   "id": "d0682573",
   "metadata": {},
   "outputs": [
    {
     "data": {
      "text/plain": [
       "74979"
      ]
     },
     "execution_count": 22,
     "metadata": {},
     "output_type": "execute_result"
    }
   ],
   "source": [
    "df_leie_new.select(\"NPI\",'LASTNAME','FIRSTNAME').distinct().count()"
   ]
  },
  {
   "cell_type": "code",
   "execution_count": 23,
   "id": "f6ba2729",
   "metadata": {},
   "outputs": [
    {
     "data": {
      "text/plain": [
       "Row(max(REINDATE)='20060420', max(WAIVERDATE)='20240227')"
      ]
     },
     "execution_count": 23,
     "metadata": {},
     "output_type": "execute_result"
    }
   ],
   "source": [
    "import pyspark.sql.functions as F\n",
    "df_leie_new.select(\n",
    "    F.max(\"REINDATE\"),\n",
    "    F.max(\"WAIVERDATE\")).collect()[0]\n"
   ]
  },
  {
   "cell_type": "code",
   "execution_count": 24,
   "id": "4be8de44",
   "metadata": {},
   "outputs": [],
   "source": [
    "df_leie = df_leie.drop('REINDATE')"
   ]
  },
  {
   "cell_type": "code",
   "execution_count": 25,
   "id": "1ce05add",
   "metadata": {},
   "outputs": [
    {
     "name": "stdout",
     "output_type": "stream",
     "text": [
      "Unique values in EXCLTYPE: ['73401', '1128b15', 'BRCH CIA', '1128b5', '1128b14', '1128a1', '1128b1', '1128b4', '1128b16', '93301', '1128Aa', '93551', '1128b11', '1128a2', '1128b12', '1128a3', '95501', '1128b7', '1128b6', '1128b8', '95816', '1160', '93638', '98405', '1128a4', '1128b3', '1128b2', 'BRCH SA', '1156']\n"
     ]
    }
   ],
   "source": [
    "unique_excltype = df_leie_new.select(\"EXCLTYPE\").distinct().collect()\n",
    "\n",
    "# Extract the unique values into a list\n",
    "unique_excltype_list = [row['EXCLTYPE'] for row in unique_excltype]\n",
    "\n",
    "# Print the unique values\n",
    "print(\"Unique values in EXCLTYPE:\", unique_excltype_list)"
   ]
  },
  {
   "cell_type": "code",
   "execution_count": 26,
   "id": "84449eaf",
   "metadata": {},
   "outputs": [
    {
     "name": "stdout",
     "output_type": "stream",
     "text": [
      "+----------+--------+---------+--------+--------+--------+----------+\n",
      "|       NPI|LASTNAME|FIRSTNAME|EXCLTYPE|EXCLDATE|REINDATE|WAIVERDATE|\n",
      "+----------+--------+---------+--------+--------+--------+----------+\n",
      "|1922348218|    null|     null|  1128a1|20180419|00000000|  00000000|\n",
      "|1275600959|    null|     null|  1128a1|20130320|00000000|  00000000|\n",
      "|1265830335|    null|     null|  1128a1|20220818|00000000|  00000000|\n",
      "|1851631543|    null|     null|  1128b7|20190326|00000000|  00000000|\n",
      "|1902198435|    null|     null|  1128a1|20160120|00000000|  00000000|\n",
      "+----------+--------+---------+--------+--------+--------+----------+\n",
      "only showing top 5 rows\n",
      "\n"
     ]
    }
   ],
   "source": [
    "drop_values = ['1128a1', '1128a2', '1128a3', '1128b4', '1128b7']\n",
    "\n",
    "df_leie_filtered = df_leie_new.filter(F.col(\"EXCLTYPE\").isin(drop_values))\n",
    "\n",
    "df_leie_filtered.show(5)"
   ]
  },
  {
   "cell_type": "code",
   "execution_count": 27,
   "id": "fde8b93d",
   "metadata": {},
   "outputs": [
    {
     "data": {
      "text/plain": [
       "[Row(EXCLTYPE='1128a1'),\n",
       " Row(EXCLTYPE='1128b4'),\n",
       " Row(EXCLTYPE='1128a2'),\n",
       " Row(EXCLTYPE='1128a3'),\n",
       " Row(EXCLTYPE='1128b7')]"
      ]
     },
     "execution_count": 27,
     "metadata": {},
     "output_type": "execute_result"
    }
   ],
   "source": [
    "df_leie_filtered.select(\"EXCLTYPE\").distinct().collect()"
   ]
  },
  {
   "cell_type": "code",
   "execution_count": 28,
   "id": "4c3c78a4",
   "metadata": {},
   "outputs": [
    {
     "data": {
      "text/plain": [
       "70566"
      ]
     },
     "execution_count": 28,
     "metadata": {},
     "output_type": "execute_result"
    }
   ],
   "source": [
    "df_leie_filtered.count()"
   ]
  },
  {
   "cell_type": "code",
   "execution_count": 29,
   "id": "ec4736ce",
   "metadata": {},
   "outputs": [
    {
     "name": "stdout",
     "output_type": "stream",
     "text": [
      "+----------+--------+---------+--------+--------+--------+----------+\n",
      "|       NPI|LASTNAME|FIRSTNAME|EXCLTYPE|EXCLDATE|REINDATE|WAIVERDATE|\n",
      "+----------+--------+---------+--------+--------+--------+----------+\n",
      "|1922348218|    null|     null|  1128a1|20180419|00000000|  00000000|\n",
      "|1275600959|    null|     null|  1128a1|20130320|00000000|  00000000|\n",
      "|1265830335|    null|     null|  1128a1|20220818|00000000|  00000000|\n",
      "|1851631543|    null|     null|  1128b7|20190326|00000000|  00000000|\n",
      "|1902198435|    null|     null|  1128a1|20160120|00000000|  00000000|\n",
      "+----------+--------+---------+--------+--------+--------+----------+\n",
      "only showing top 5 rows\n",
      "\n"
     ]
    }
   ],
   "source": [
    "df_leie_filtered.show(5)"
   ]
  },
  {
   "cell_type": "code",
   "execution_count": 30,
   "id": "fae8081b",
   "metadata": {},
   "outputs": [],
   "source": [
    "df_leie_filtered = df_leie_filtered.withColumn('EXCLDATE_END', F.lit(0))"
   ]
  },
  {
   "cell_type": "code",
   "execution_count": 31,
   "id": "7ac4c80e",
   "metadata": {},
   "outputs": [
    {
     "name": "stdout",
     "output_type": "stream",
     "text": [
      "+----------+--------+---------+--------+--------+--------+----------+------------+\n",
      "|       NPI|LASTNAME|FIRSTNAME|EXCLTYPE|EXCLDATE|REINDATE|WAIVERDATE|EXCLDATE_END|\n",
      "+----------+--------+---------+--------+--------+--------+----------+------------+\n",
      "|1922348218|    null|     null|  1128a1|20180419|00000000|  00000000|           0|\n",
      "|1275600959|    null|     null|  1128a1|20130320|00000000|  00000000|           0|\n",
      "|1265830335|    null|     null|  1128a1|20220818|00000000|  00000000|           0|\n",
      "|1851631543|    null|     null|  1128b7|20190326|00000000|  00000000|           0|\n",
      "|1902198435|    null|     null|  1128a1|20160120|00000000|  00000000|           0|\n",
      "+----------+--------+---------+--------+--------+--------+----------+------------+\n",
      "only showing top 5 rows\n",
      "\n"
     ]
    }
   ],
   "source": [
    "df_leie_filtered.show(5)"
   ]
  },
  {
   "cell_type": "code",
   "execution_count": 32,
   "id": "bdade9e1",
   "metadata": {},
   "outputs": [],
   "source": [
    "df_leie_filtered_date = df_leie_filtered.withColumn(\n",
    "    \"EXCLDATE_END\",\n",
    "    F.when(\n",
    "        F.col(\"EXCLTYPE\").isin(['1128a1', '1128a2', '1128a3']),\n",
    "        F.concat(\n",
    "            (F.substring(F.col(\"EXCLDATE\"), 1, 4).cast(\"int\") + 5).cast(\"string\"),\n",
    "            F.substring(F.col(\"EXCLDATE\"), 5, 4))).otherwise(F.col(\"EXCLDATE\"))\n",
    ")"
   ]
  },
  {
   "cell_type": "code",
   "execution_count": 33,
   "id": "9bb19dff",
   "metadata": {},
   "outputs": [
    {
     "name": "stdout",
     "output_type": "stream",
     "text": [
      "+----------+--------+---------+--------+--------+--------+----------+------------+\n",
      "|       NPI|LASTNAME|FIRSTNAME|EXCLTYPE|EXCLDATE|REINDATE|WAIVERDATE|EXCLDATE_END|\n",
      "+----------+--------+---------+--------+--------+--------+----------+------------+\n",
      "|1922348218|    null|     null|  1128a1|20180419|00000000|  00000000|    20230419|\n",
      "|1275600959|    null|     null|  1128a1|20130320|00000000|  00000000|    20180320|\n",
      "|1265830335|    null|     null|  1128a1|20220818|00000000|  00000000|    20270818|\n",
      "|1851631543|    null|     null|  1128b7|20190326|00000000|  00000000|    20190326|\n",
      "|1902198435|    null|     null|  1128a1|20160120|00000000|  00000000|    20210120|\n",
      "+----------+--------+---------+--------+--------+--------+----------+------------+\n",
      "only showing top 5 rows\n",
      "\n"
     ]
    }
   ],
   "source": [
    "df_leie_filtered_date.show(5)"
   ]
  },
  {
   "cell_type": "code",
   "execution_count": 34,
   "id": "d4eef103",
   "metadata": {},
   "outputs": [
    {
     "data": {
      "text/plain": [
       "70566"
      ]
     },
     "execution_count": 34,
     "metadata": {},
     "output_type": "execute_result"
    }
   ],
   "source": [
    "df_leie_filtered_date.count()"
   ]
  },
  {
   "cell_type": "code",
   "execution_count": 35,
   "id": "3b48f2e9",
   "metadata": {},
   "outputs": [],
   "source": [
    "df_selected = df_leie_filtered_date.select('NPI', 'FIRSTNAME','LASTNAME','EXCLTYPE', 'EXCLDATE', F.col(\"EXCLDATE_END\").alias('FINAL_DATE'))"
   ]
  },
  {
   "cell_type": "code",
   "execution_count": 36,
   "id": "1fe9a62e",
   "metadata": {},
   "outputs": [
    {
     "name": "stdout",
     "output_type": "stream",
     "text": [
      "+----------+---------+--------+--------+--------+----------+\n",
      "|       NPI|FIRSTNAME|LASTNAME|EXCLTYPE|EXCLDATE|FINAL_DATE|\n",
      "+----------+---------+--------+--------+--------+----------+\n",
      "|1922348218|     null|    null|  1128a1|20180419|  20230419|\n",
      "|1275600959|     null|    null|  1128a1|20130320|  20180320|\n",
      "|1265830335|     null|    null|  1128a1|20220818|  20270818|\n",
      "|1851631543|     null|    null|  1128b7|20190326|  20190326|\n",
      "|1902198435|     null|    null|  1128a1|20160120|  20210120|\n",
      "+----------+---------+--------+--------+--------+----------+\n",
      "only showing top 5 rows\n",
      "\n"
     ]
    }
   ],
   "source": [
    "df_selected.show(5)"
   ]
  },
  {
   "cell_type": "code",
   "execution_count": 37,
   "id": "efbe8ae0",
   "metadata": {},
   "outputs": [],
   "source": [
    "df_selected = df_selected.withColumn(\"FINAL_YEAR\", F.substring(F.col(\"FINAL_DATE\"), 1, 4))"
   ]
  },
  {
   "cell_type": "code",
   "execution_count": 38,
   "id": "ad902c40",
   "metadata": {},
   "outputs": [
    {
     "name": "stdout",
     "output_type": "stream",
     "text": [
      "+----------+---------+--------+--------+--------+----------+----------+\n",
      "|       NPI|FIRSTNAME|LASTNAME|EXCLTYPE|EXCLDATE|FINAL_DATE|FINAL_YEAR|\n",
      "+----------+---------+--------+--------+--------+----------+----------+\n",
      "|1922348218|     null|    null|  1128a1|20180419|  20230419|      2023|\n",
      "|1275600959|     null|    null|  1128a1|20130320|  20180320|      2018|\n",
      "|1265830335|     null|    null|  1128a1|20220818|  20270818|      2027|\n",
      "|1851631543|     null|    null|  1128b7|20190326|  20190326|      2019|\n",
      "|1902198435|     null|    null|  1128a1|20160120|  20210120|      2021|\n",
      "+----------+---------+--------+--------+--------+----------+----------+\n",
      "only showing top 5 rows\n",
      "\n"
     ]
    }
   ],
   "source": [
    "df_selected.show(5)"
   ]
  },
  {
   "cell_type": "code",
   "execution_count": 39,
   "id": "36a7c474",
   "metadata": {},
   "outputs": [],
   "source": [
    "#df_cms_feats = df_cms_feats.withColumn('Fraud', lit(0))"
   ]
  },
  {
   "cell_type": "code",
   "execution_count": 45,
   "id": "cb08b5da",
   "metadata": {},
   "outputs": [
    {
     "name": "stdout",
     "output_type": "stream",
     "text": [
      "+----------+--------------------------+-----------------------+--------------------+-------------------------+-----------------+-------------+-------------+------------+---------+---------+------------------+--------------+-----------------+----+\n",
      "|Rndrng_NPI|Rndrng_Prvdr_Last_Org_Name|Rndrng_Prvdr_First_Name|   Rndrng_Prvdr_Type|Rndrng_Prvdr_State_Abrvtn|Rndrng_Prvdr_Gndr|Tot_HCPCS_Cds|Bene_Male_Cnt|Bene_Avg_Age|Tot_Srvcs|Tot_Benes|Bene_Avg_Risk_Scre|Tot_Sbmtd_Chrg|Tot_Mdcr_Pymt_Amt|year|\n",
      "+----------+--------------------------+-----------------------+--------------------+-------------------------+-----------------+-------------+-------------+------------+---------+---------+------------------+--------------+-----------------+----+\n",
      "|1003000126|                 ENKESHAFI|                ARDALAN|   Internal Medicine|                       MD|                M|           18|          265|          75|     1392|      610|            2.5917|        519136|        124877.67|2019|\n",
      "|1003000134|                    CIBULL|                 THOMAS|           Pathology|                       IL|                M|           20|         1847|          76|     7835|     3614|            1.1246|       1213264|        228078.56|2019|\n",
      "|1003000142|                    KHALIL|                 RASHID|      Anesthesiology|                       OH|                M|           54|          121|          65|     2530|      264|            1.6146|        215156|         83582.18|2019|\n",
      "|1003000423|                   VELOTTA|               JENNIFER|Obstetrics & Gyne...|                       OH|                F|           24|            0|          66|      897|       74|            0.9065|         23150|          9007.31|2019|\n",
      "|1003000480|                 ROTHCHILD|                  KEVIN|     General Surgery|                       CO|                M|           30|           44|          64|      159|      104|            1.7191|     210964.25|         31113.49|2019|\n",
      "+----------+--------------------------+-----------------------+--------------------+-------------------------+-----------------+-------------+-------------+------------+---------+---------+------------------+--------------+-----------------+----+\n",
      "only showing top 5 rows\n",
      "\n"
     ]
    }
   ],
   "source": [
    "df_cms_feats.show(5)"
   ]
  },
  {
   "cell_type": "code",
   "execution_count": 46,
   "id": "dc935ba5",
   "metadata": {},
   "outputs": [],
   "source": [
    "df_tmp3 = df_cms_feats.join(df_selected, (df_cms_feats.Rndrng_NPI == df_selected.NPI) | \n",
    "                      ((df_cms_feats.Rndrng_Prvdr_Last_Org_Name == df_selected.LASTNAME) &  \n",
    "                       (df_cms_feats.Rndrng_Prvdr_First_Name == df_selected.FIRSTNAME)) , \"inner\").select(df_cms_feats[\"*\"])\n"
   ]
  },
  {
   "cell_type": "code",
   "execution_count": 48,
   "id": "682ba01e",
   "metadata": {},
   "outputs": [],
   "source": [
    "df_final = df_cms_feats.join(\n",
    "    df_selected, (df_cms_feats.Rndrng_NPI == df_selected.NPI) | \n",
    "    ((df_cms_feats.Rndrng_Prvdr_Last_Org_Name == df_selected.LASTNAME) &  \n",
    "     (df_cms_feats.Rndrng_Prvdr_First_Name == df_selected.FIRSTNAME)),\n",
    "    \"left\" ).select(df_cms_feats[\"*\"], df_selected[\"FINAL_YEAR\"])"
   ]
  },
  {
   "cell_type": "code",
   "execution_count": 49,
   "id": "4ba98d1d",
   "metadata": {},
   "outputs": [],
   "source": [
    "df_final = df_final.withColumn(\"Fraud\", F.when(df_final.year <= df_final.FINAL_YEAR, 1).otherwise(0))"
   ]
  },
  {
   "cell_type": "code",
   "execution_count": 51,
   "id": "dd56ef5e",
   "metadata": {
    "scrolled": true
   },
   "outputs": [
    {
     "name": "stdout",
     "output_type": "stream",
     "text": [
      "+----------+--------------------------+-----------------------+--------------------+-------------------------+-----------------+-------------+-------------+------------+---------+---------+------------------+--------------+-----------------+----+----------+-----+\n",
      "|Rndrng_NPI|Rndrng_Prvdr_Last_Org_Name|Rndrng_Prvdr_First_Name|   Rndrng_Prvdr_Type|Rndrng_Prvdr_State_Abrvtn|Rndrng_Prvdr_Gndr|Tot_HCPCS_Cds|Bene_Male_Cnt|Bene_Avg_Age|Tot_Srvcs|Tot_Benes|Bene_Avg_Risk_Scre|Tot_Sbmtd_Chrg|Tot_Mdcr_Pymt_Amt|year|FINAL_YEAR|Fraud|\n",
      "+----------+--------------------------+-----------------------+--------------------+-------------------------+-----------------+-------------+-------------+------------+---------+---------+------------------+--------------+-----------------+----+----------+-----+\n",
      "|1003000126|                 ENKESHAFI|                ARDALAN|   Internal Medicine|                       MD|                M|           18|          265|          75|     1392|      610|            2.5917|        519136|        124877.67|2019|      null|    0|\n",
      "|1003000134|                    CIBULL|                 THOMAS|           Pathology|                       IL|                M|           20|         1847|          76|     7835|     3614|            1.1246|       1213264|        228078.56|2019|      null|    0|\n",
      "|1003000142|                    KHALIL|                 RASHID|      Anesthesiology|                       OH|                M|           54|          121|          65|     2530|      264|            1.6146|        215156|         83582.18|2019|      null|    0|\n",
      "|1003000423|                   VELOTTA|               JENNIFER|Obstetrics & Gyne...|                       OH|                F|           24|            0|          66|      897|       74|            0.9065|         23150|          9007.31|2019|      null|    0|\n",
      "|1003000480|                 ROTHCHILD|                  KEVIN|     General Surgery|                       CO|                M|           30|           44|          64|      159|      104|            1.7191|     210964.25|         31113.49|2019|      null|    0|\n",
      "+----------+--------------------------+-----------------------+--------------------+-------------------------+-----------------+-------------+-------------+------------+---------+---------+------------------+--------------+-----------------+----+----------+-----+\n",
      "only showing top 5 rows\n",
      "\n"
     ]
    }
   ],
   "source": [
    "df_final.show(5)"
   ]
  },
  {
   "cell_type": "code",
   "execution_count": 52,
   "id": "e1013add",
   "metadata": {},
   "outputs": [],
   "source": [
    "df_final_prepared = df_final.toPandas()"
   ]
  },
  {
   "cell_type": "code",
   "execution_count": 53,
   "id": "86001733",
   "metadata": {},
   "outputs": [],
   "source": [
    "df_final_prepared.to_csv(\"prepared_data_2019.csv\")"
   ]
  },
  {
   "cell_type": "code",
   "execution_count": 5,
   "id": "01b38b4a",
   "metadata": {},
   "outputs": [],
   "source": [
    "df_cms_2020 = spark.read.csv(\"partB_19-22/MUP_PHY_R24_P07_V10_D20_Prov.csv\", header=True)"
   ]
  },
  {
   "cell_type": "code",
   "execution_count": 6,
   "id": "65ca1b13",
   "metadata": {},
   "outputs": [
    {
     "data": {
      "text/plain": [
       "['Rndrng_NPI',\n",
       " 'Rndrng_Prvdr_Last_Org_Name',\n",
       " 'Rndrng_Prvdr_First_Name',\n",
       " 'Rndrng_Prvdr_MI',\n",
       " 'Rndrng_Prvdr_Crdntls',\n",
       " 'Rndrng_Prvdr_Gndr',\n",
       " 'Rndrng_Prvdr_Ent_Cd',\n",
       " 'Rndrng_Prvdr_St1',\n",
       " 'Rndrng_Prvdr_St2',\n",
       " 'Rndrng_Prvdr_City',\n",
       " 'Rndrng_Prvdr_State_Abrvtn',\n",
       " 'Rndrng_Prvdr_State_FIPS',\n",
       " 'Rndrng_Prvdr_Zip5',\n",
       " 'Rndrng_Prvdr_RUCA',\n",
       " 'Rndrng_Prvdr_RUCA_Desc',\n",
       " 'Rndrng_Prvdr_Cntry',\n",
       " 'Rndrng_Prvdr_Type',\n",
       " 'Rndrng_Prvdr_Mdcr_Prtcptg_Ind',\n",
       " 'Tot_HCPCS_Cds',\n",
       " 'Tot_Benes',\n",
       " 'Tot_Srvcs',\n",
       " 'Tot_Sbmtd_Chrg',\n",
       " 'Tot_Mdcr_Alowd_Amt',\n",
       " 'Tot_Mdcr_Pymt_Amt',\n",
       " 'Tot_Mdcr_Stdzd_Amt',\n",
       " 'Drug_Sprsn_Ind',\n",
       " 'Drug_Tot_HCPCS_Cds',\n",
       " 'Drug_Tot_Benes',\n",
       " 'Drug_Tot_Srvcs',\n",
       " 'Drug_Sbmtd_Chrg',\n",
       " 'Drug_Mdcr_Alowd_Amt',\n",
       " 'Drug_Mdcr_Pymt_Amt',\n",
       " 'Drug_Mdcr_Stdzd_Amt',\n",
       " 'Med_Sprsn_Ind',\n",
       " 'Med_Tot_HCPCS_Cds',\n",
       " 'Med_Tot_Benes',\n",
       " 'Med_Tot_Srvcs',\n",
       " 'Med_Sbmtd_Chrg',\n",
       " 'Med_Mdcr_Alowd_Amt',\n",
       " 'Med_Mdcr_Pymt_Amt',\n",
       " 'Med_Mdcr_Stdzd_Amt',\n",
       " 'Bene_Avg_Age',\n",
       " 'Bene_Age_LT_65_Cnt',\n",
       " 'Bene_Age_65_74_Cnt',\n",
       " 'Bene_Age_75_84_Cnt',\n",
       " 'Bene_Age_GT_84_Cnt',\n",
       " 'Bene_Feml_Cnt',\n",
       " 'Bene_Male_Cnt',\n",
       " 'Bene_Race_Wht_Cnt',\n",
       " 'Bene_Race_Black_Cnt',\n",
       " 'Bene_Race_API_Cnt',\n",
       " 'Bene_Race_Hspnc_Cnt',\n",
       " 'Bene_Race_NatInd_Cnt',\n",
       " 'Bene_Race_Othr_Cnt',\n",
       " 'Bene_Dual_Cnt',\n",
       " 'Bene_Ndual_Cnt',\n",
       " 'Bene_CC_BH_ADHD_OthCD_V1_Pct',\n",
       " 'Bene_CC_BH_Alcohol_Drug_V1_Pct',\n",
       " 'Bene_CC_BH_Tobacco_V1_Pct',\n",
       " 'Bene_CC_BH_Alz_NonAlzdem_V2_Pct',\n",
       " 'Bene_CC_BH_Anxiety_V1_Pct',\n",
       " 'Bene_CC_BH_Bipolar_V1_Pct',\n",
       " 'Bene_CC_BH_Mood_V2_Pct',\n",
       " 'Bene_CC_BH_Depress_V1_Pct',\n",
       " 'Bene_CC_BH_PD_V1_Pct',\n",
       " 'Bene_CC_BH_PTSD_V1_Pct',\n",
       " 'Bene_CC_BH_Schizo_OthPsy_V1_Pct',\n",
       " 'Bene_CC_PH_Asthma_V2_Pct',\n",
       " 'Bene_CC_PH_Afib_V2_Pct',\n",
       " 'Bene_CC_PH_Cancer6_V2_Pct',\n",
       " 'Bene_CC_PH_CKD_V2_Pct',\n",
       " 'Bene_CC_PH_COPD_V2_Pct',\n",
       " 'Bene_CC_PH_Diabetes_V2_Pct',\n",
       " 'Bene_CC_PH_HF_NonIHD_V2_Pct',\n",
       " 'Bene_CC_PH_Hyperlipidemia_V2_Pct',\n",
       " 'Bene_CC_PH_Hypertension_V2_Pct',\n",
       " 'Bene_CC_PH_IschemicHeart_V2_Pct',\n",
       " 'Bene_CC_PH_Osteoporosis_V2_Pct',\n",
       " 'Bene_CC_PH_Parkinson_V2_Pct',\n",
       " 'Bene_CC_PH_Arthritis_V2_Pct',\n",
       " 'Bene_CC_PH_Stroke_TIA_V2_Pct',\n",
       " 'Bene_Avg_Risk_Scre']"
      ]
     },
     "execution_count": 6,
     "metadata": {},
     "output_type": "execute_result"
    }
   ],
   "source": [
    "df_cms_2020.columns"
   ]
  },
  {
   "cell_type": "code",
   "execution_count": 7,
   "id": "c8f7b8df",
   "metadata": {},
   "outputs": [
    {
     "name": "stdout",
     "output_type": "stream",
     "text": [
      "1161542 82\n"
     ]
    }
   ],
   "source": [
    "print(df_cms_2020.count(), len(df_cms_2020.columns))"
   ]
  },
  {
   "cell_type": "code",
   "execution_count": 8,
   "id": "0a22e432",
   "metadata": {},
   "outputs": [],
   "source": [
    "from pyspark.sql.functions import lit\n",
    "df_cms_2020 = df_cms_2020.withColumn('year', lit(2020))"
   ]
  },
  {
   "cell_type": "code",
   "execution_count": 9,
   "id": "5762a6e1",
   "metadata": {},
   "outputs": [
    {
     "data": {
      "text/plain": [
       "1161542"
      ]
     },
     "execution_count": 9,
     "metadata": {},
     "output_type": "execute_result"
    }
   ],
   "source": [
    "df_cms_2020.select('Rndrng_NPI').count()"
   ]
  },
  {
   "cell_type": "code",
   "execution_count": 10,
   "id": "50c2512b",
   "metadata": {},
   "outputs": [
    {
     "data": {
      "text/plain": [
       "1161542"
      ]
     },
     "execution_count": 10,
     "metadata": {},
     "output_type": "execute_result"
    }
   ],
   "source": [
    "df_cms_2020.select('Rndrng_NPI').distinct().count()"
   ]
  },
  {
   "cell_type": "code",
   "execution_count": 11,
   "id": "52ab969e",
   "metadata": {},
   "outputs": [],
   "source": [
    "# df_cms = df_cms_2019.union(df_cms_2020).union(df_cms_2021).union(df_cms_2022)"
   ]
  },
  {
   "cell_type": "code",
   "execution_count": 12,
   "id": "326211ff",
   "metadata": {},
   "outputs": [],
   "source": [
    "df_cms = df_cms_2020"
   ]
  },
  {
   "cell_type": "code",
   "execution_count": 13,
   "id": "f6e8586c",
   "metadata": {},
   "outputs": [
    {
     "name": "stdout",
     "output_type": "stream",
     "text": [
      "1161542\n",
      "83\n"
     ]
    }
   ],
   "source": [
    "print(df_cms.count())\n",
    "print(len(df_cms.columns))"
   ]
  },
  {
   "cell_type": "code",
   "execution_count": 14,
   "id": "eccd6fc0",
   "metadata": {},
   "outputs": [
    {
     "data": {
      "text/plain": [
       "['Rndrng_NPI',\n",
       " 'Rndrng_Prvdr_Last_Org_Name',\n",
       " 'Rndrng_Prvdr_First_Name',\n",
       " 'Rndrng_Prvdr_MI',\n",
       " 'Rndrng_Prvdr_Crdntls',\n",
       " 'Rndrng_Prvdr_Gndr',\n",
       " 'Rndrng_Prvdr_Ent_Cd',\n",
       " 'Rndrng_Prvdr_St1',\n",
       " 'Rndrng_Prvdr_St2',\n",
       " 'Rndrng_Prvdr_City',\n",
       " 'Rndrng_Prvdr_State_Abrvtn',\n",
       " 'Rndrng_Prvdr_State_FIPS',\n",
       " 'Rndrng_Prvdr_Zip5',\n",
       " 'Rndrng_Prvdr_RUCA',\n",
       " 'Rndrng_Prvdr_RUCA_Desc',\n",
       " 'Rndrng_Prvdr_Cntry',\n",
       " 'Rndrng_Prvdr_Type',\n",
       " 'Rndrng_Prvdr_Mdcr_Prtcptg_Ind',\n",
       " 'Tot_HCPCS_Cds',\n",
       " 'Tot_Benes',\n",
       " 'Tot_Srvcs',\n",
       " 'Tot_Sbmtd_Chrg',\n",
       " 'Tot_Mdcr_Alowd_Amt',\n",
       " 'Tot_Mdcr_Pymt_Amt',\n",
       " 'Tot_Mdcr_Stdzd_Amt',\n",
       " 'Drug_Sprsn_Ind',\n",
       " 'Drug_Tot_HCPCS_Cds',\n",
       " 'Drug_Tot_Benes',\n",
       " 'Drug_Tot_Srvcs',\n",
       " 'Drug_Sbmtd_Chrg',\n",
       " 'Drug_Mdcr_Alowd_Amt',\n",
       " 'Drug_Mdcr_Pymt_Amt',\n",
       " 'Drug_Mdcr_Stdzd_Amt',\n",
       " 'Med_Sprsn_Ind',\n",
       " 'Med_Tot_HCPCS_Cds',\n",
       " 'Med_Tot_Benes',\n",
       " 'Med_Tot_Srvcs',\n",
       " 'Med_Sbmtd_Chrg',\n",
       " 'Med_Mdcr_Alowd_Amt',\n",
       " 'Med_Mdcr_Pymt_Amt',\n",
       " 'Med_Mdcr_Stdzd_Amt',\n",
       " 'Bene_Avg_Age',\n",
       " 'Bene_Age_LT_65_Cnt',\n",
       " 'Bene_Age_65_74_Cnt',\n",
       " 'Bene_Age_75_84_Cnt',\n",
       " 'Bene_Age_GT_84_Cnt',\n",
       " 'Bene_Feml_Cnt',\n",
       " 'Bene_Male_Cnt',\n",
       " 'Bene_Race_Wht_Cnt',\n",
       " 'Bene_Race_Black_Cnt',\n",
       " 'Bene_Race_API_Cnt',\n",
       " 'Bene_Race_Hspnc_Cnt',\n",
       " 'Bene_Race_NatInd_Cnt',\n",
       " 'Bene_Race_Othr_Cnt',\n",
       " 'Bene_Dual_Cnt',\n",
       " 'Bene_Ndual_Cnt',\n",
       " 'Bene_CC_BH_ADHD_OthCD_V1_Pct',\n",
       " 'Bene_CC_BH_Alcohol_Drug_V1_Pct',\n",
       " 'Bene_CC_BH_Tobacco_V1_Pct',\n",
       " 'Bene_CC_BH_Alz_NonAlzdem_V2_Pct',\n",
       " 'Bene_CC_BH_Anxiety_V1_Pct',\n",
       " 'Bene_CC_BH_Bipolar_V1_Pct',\n",
       " 'Bene_CC_BH_Mood_V2_Pct',\n",
       " 'Bene_CC_BH_Depress_V1_Pct',\n",
       " 'Bene_CC_BH_PD_V1_Pct',\n",
       " 'Bene_CC_BH_PTSD_V1_Pct',\n",
       " 'Bene_CC_BH_Schizo_OthPsy_V1_Pct',\n",
       " 'Bene_CC_PH_Asthma_V2_Pct',\n",
       " 'Bene_CC_PH_Afib_V2_Pct',\n",
       " 'Bene_CC_PH_Cancer6_V2_Pct',\n",
       " 'Bene_CC_PH_CKD_V2_Pct',\n",
       " 'Bene_CC_PH_COPD_V2_Pct',\n",
       " 'Bene_CC_PH_Diabetes_V2_Pct',\n",
       " 'Bene_CC_PH_HF_NonIHD_V2_Pct',\n",
       " 'Bene_CC_PH_Hyperlipidemia_V2_Pct',\n",
       " 'Bene_CC_PH_Hypertension_V2_Pct',\n",
       " 'Bene_CC_PH_IschemicHeart_V2_Pct',\n",
       " 'Bene_CC_PH_Osteoporosis_V2_Pct',\n",
       " 'Bene_CC_PH_Parkinson_V2_Pct',\n",
       " 'Bene_CC_PH_Arthritis_V2_Pct',\n",
       " 'Bene_CC_PH_Stroke_TIA_V2_Pct',\n",
       " 'Bene_Avg_Risk_Scre',\n",
       " 'year']"
      ]
     },
     "execution_count": 14,
     "metadata": {},
     "output_type": "execute_result"
    }
   ],
   "source": [
    "df_cms.columns"
   ]
  },
  {
   "cell_type": "code",
   "execution_count": 15,
   "id": "31fd929e",
   "metadata": {},
   "outputs": [],
   "source": [
    "df_cms_feats =df_cms.select('Rndrng_NPI','Rndrng_Prvdr_Last_Org_Name',\n",
    "         'Rndrng_Prvdr_First_Name','Rndrng_Prvdr_Type', 'Rndrng_Prvdr_State_Abrvtn',\n",
    "         'Rndrng_Prvdr_Gndr','Tot_HCPCS_Cds', 'Bene_Male_Cnt','Bene_Avg_Age',\n",
    "         'Tot_Srvcs','Tot_Benes','Bene_Avg_Risk_Scre',\n",
    "         'Tot_Sbmtd_Chrg','Tot_Mdcr_Pymt_Amt','year')"
   ]
  },
  {
   "cell_type": "code",
   "execution_count": 16,
   "id": "d155355f",
   "metadata": {},
   "outputs": [
    {
     "data": {
      "text/plain": [
       "['Rndrng_NPI',\n",
       " 'Rndrng_Prvdr_Last_Org_Name',\n",
       " 'Rndrng_Prvdr_First_Name',\n",
       " 'Rndrng_Prvdr_Type',\n",
       " 'Rndrng_Prvdr_State_Abrvtn',\n",
       " 'Rndrng_Prvdr_Gndr',\n",
       " 'Tot_HCPCS_Cds',\n",
       " 'Bene_Male_Cnt',\n",
       " 'Bene_Avg_Age',\n",
       " 'Tot_Srvcs',\n",
       " 'Tot_Benes',\n",
       " 'Bene_Avg_Risk_Scre',\n",
       " 'Tot_Sbmtd_Chrg',\n",
       " 'Tot_Mdcr_Pymt_Amt',\n",
       " 'year']"
      ]
     },
     "execution_count": 16,
     "metadata": {},
     "output_type": "execute_result"
    }
   ],
   "source": [
    "df_cms_feats.columns"
   ]
  },
  {
   "cell_type": "code",
   "execution_count": 17,
   "id": "e7be5cea",
   "metadata": {},
   "outputs": [
    {
     "name": "stdout",
     "output_type": "stream",
     "text": [
      "+----------+--------------------------+-----------------------+--------------------+-------------------------+-----------------+-------------+-------------+------------+---------+---------+------------------+--------------+-----------------+----+\n",
      "|Rndrng_NPI|Rndrng_Prvdr_Last_Org_Name|Rndrng_Prvdr_First_Name|   Rndrng_Prvdr_Type|Rndrng_Prvdr_State_Abrvtn|Rndrng_Prvdr_Gndr|Tot_HCPCS_Cds|Bene_Male_Cnt|Bene_Avg_Age|Tot_Srvcs|Tot_Benes|Bene_Avg_Risk_Scre|Tot_Sbmtd_Chrg|Tot_Mdcr_Pymt_Amt|year|\n",
      "+----------+--------------------------+-----------------------+--------------------+-------------------------+-----------------+-------------+-------------+------------+---------+---------+------------------+--------------+-----------------+----+\n",
      "|1003000126|                 Enkeshafi|                Ardalan|   Internal Medicine|                       MD|                M|           16|          130|          77|      764|      291|            2.5028|        402812|         69175.78|2020|\n",
      "|1003000134|                    Cibull|                 Thomas|           Pathology|                       IL|                M|           18|         1323|          76|     5930|     2633|            1.1124|        915291|        176497.74|2020|\n",
      "|1003000142|                    Khalil|                 Rashid|      Anesthesiology|                       OH|                M|           54|           67|          65|     2003|      167|            1.6935|     182532.48|         76938.82|2020|\n",
      "|1003000423|                   Velotta|               Jennifer|Obstetrics & Gyne...|                       OH|                F|           21|            0|          67|      571|       56|            0.7089|         23680|          7224.35|2020|\n",
      "|1003000480|                 Rothchild|                  Kevin|     General Surgery|                       CO|                M|           30|           41|          64|      125|       89|            2.1137|        152154|         23962.85|2020|\n",
      "+----------+--------------------------+-----------------------+--------------------+-------------------------+-----------------+-------------+-------------+------------+---------+---------+------------------+--------------+-----------------+----+\n",
      "only showing top 5 rows\n",
      "\n"
     ]
    }
   ],
   "source": [
    "df_cms_feats.show(5)"
   ]
  },
  {
   "cell_type": "code",
   "execution_count": 22,
   "id": "5c713582",
   "metadata": {},
   "outputs": [],
   "source": [
    "import pyspark.sql.functions as F\n",
    "df_leie_new = df_leie_new.filter((F.col(\"NPI\") > 0) | (F.col(\"LASTNAME\").isNotNull() & F.col(\"FIRSTNAME\").isNotNull()))\n"
   ]
  },
  {
   "cell_type": "code",
   "execution_count": 23,
   "id": "96d918a8",
   "metadata": {},
   "outputs": [
    {
     "data": {
      "text/plain": [
       "78608"
      ]
     },
     "execution_count": 23,
     "metadata": {},
     "output_type": "execute_result"
    }
   ],
   "source": [
    "df_leie_new.count()"
   ]
  },
  {
   "cell_type": "code",
   "execution_count": 24,
   "id": "a442b470",
   "metadata": {},
   "outputs": [
    {
     "name": "stdout",
     "output_type": "stream",
     "text": [
      "+----------+--------+---------+--------+--------+--------+----------+\n",
      "|       NPI|LASTNAME|FIRSTNAME|EXCLTYPE|EXCLDATE|REINDATE|WAIVERDATE|\n",
      "+----------+--------+---------+--------+--------+--------+----------+\n",
      "|1972902351|    null|     null|  1128b8|20220320|00000000|  00000000|\n",
      "|1922348218|    null|     null|  1128a1|20180419|00000000|  00000000|\n",
      "|1942476080|    null|     null|  1128b8|20170518|00000000|  00000000|\n",
      "|1275600959|    null|     null|  1128a1|20130320|00000000|  00000000|\n",
      "|1891731758|    null|     null|  1128b8|20170518|00000000|  00000000|\n",
      "+----------+--------+---------+--------+--------+--------+----------+\n",
      "only showing top 5 rows\n",
      "\n"
     ]
    }
   ],
   "source": [
    "df_leie_new.show(5)"
   ]
  },
  {
   "cell_type": "code",
   "execution_count": 25,
   "id": "d0682573",
   "metadata": {},
   "outputs": [
    {
     "data": {
      "text/plain": [
       "74979"
      ]
     },
     "execution_count": 25,
     "metadata": {},
     "output_type": "execute_result"
    }
   ],
   "source": [
    "df_leie_new.select(\"NPI\",'LASTNAME','FIRSTNAME').distinct().count()"
   ]
  },
  {
   "cell_type": "code",
   "execution_count": 26,
   "id": "f6ba2729",
   "metadata": {},
   "outputs": [
    {
     "data": {
      "text/plain": [
       "Row(max(REINDATE)='20060420', max(WAIVERDATE)='20240227')"
      ]
     },
     "execution_count": 26,
     "metadata": {},
     "output_type": "execute_result"
    }
   ],
   "source": [
    "import pyspark.sql.functions as F\n",
    "df_leie_new.select(\n",
    "    F.max(\"REINDATE\"),\n",
    "    F.max(\"WAIVERDATE\")).collect()[0]\n"
   ]
  },
  {
   "cell_type": "code",
   "execution_count": 27,
   "id": "4be8de44",
   "metadata": {},
   "outputs": [],
   "source": [
    "df_leie = df_leie.drop('REINDATE')"
   ]
  },
  {
   "cell_type": "code",
   "execution_count": 28,
   "id": "1ce05add",
   "metadata": {},
   "outputs": [
    {
     "name": "stdout",
     "output_type": "stream",
     "text": [
      "Unique values in EXCLTYPE: ['73401', '1128b15', 'BRCH CIA', '1128b5', '1128b14', '1128a1', '1128b1', '1128b4', '1128b16', '93301', '1128Aa', '93551', '1128b11', '1128a2', '1128b12', '1128a3', '95501', '1128b7', '1128b6', '1128b8', '95816', '1160', '93638', '98405', '1128a4', '1128b3', '1128b2', 'BRCH SA', '1156']\n"
     ]
    }
   ],
   "source": [
    "unique_excltype = df_leie_new.select(\"EXCLTYPE\").distinct().collect()\n",
    "\n",
    "# Extract the unique values into a list\n",
    "unique_excltype_list = [row['EXCLTYPE'] for row in unique_excltype]\n",
    "\n",
    "# Print the unique values\n",
    "print(\"Unique values in EXCLTYPE:\", unique_excltype_list)"
   ]
  },
  {
   "cell_type": "code",
   "execution_count": 29,
   "id": "84449eaf",
   "metadata": {},
   "outputs": [
    {
     "name": "stdout",
     "output_type": "stream",
     "text": [
      "+----------+--------+---------+--------+--------+--------+----------+\n",
      "|       NPI|LASTNAME|FIRSTNAME|EXCLTYPE|EXCLDATE|REINDATE|WAIVERDATE|\n",
      "+----------+--------+---------+--------+--------+--------+----------+\n",
      "|1922348218|    null|     null|  1128a1|20180419|00000000|  00000000|\n",
      "|1275600959|    null|     null|  1128a1|20130320|00000000|  00000000|\n",
      "|1265830335|    null|     null|  1128a1|20220818|00000000|  00000000|\n",
      "|1851631543|    null|     null|  1128b7|20190326|00000000|  00000000|\n",
      "|1902198435|    null|     null|  1128a1|20160120|00000000|  00000000|\n",
      "+----------+--------+---------+--------+--------+--------+----------+\n",
      "only showing top 5 rows\n",
      "\n"
     ]
    }
   ],
   "source": [
    "drop_values = ['1128a1', '1128a2', '1128a3', '1128b4', '1128b7']\n",
    "\n",
    "df_leie_filtered = df_leie_new.filter(F.col(\"EXCLTYPE\").isin(drop_values))\n",
    "\n",
    "df_leie_filtered.show(5)"
   ]
  },
  {
   "cell_type": "code",
   "execution_count": 30,
   "id": "fde8b93d",
   "metadata": {},
   "outputs": [
    {
     "data": {
      "text/plain": [
       "[Row(EXCLTYPE='1128a1'),\n",
       " Row(EXCLTYPE='1128b4'),\n",
       " Row(EXCLTYPE='1128a2'),\n",
       " Row(EXCLTYPE='1128a3'),\n",
       " Row(EXCLTYPE='1128b7')]"
      ]
     },
     "execution_count": 30,
     "metadata": {},
     "output_type": "execute_result"
    }
   ],
   "source": [
    "df_leie_filtered.select(\"EXCLTYPE\").distinct().collect()"
   ]
  },
  {
   "cell_type": "code",
   "execution_count": 31,
   "id": "4c3c78a4",
   "metadata": {},
   "outputs": [
    {
     "data": {
      "text/plain": [
       "70566"
      ]
     },
     "execution_count": 31,
     "metadata": {},
     "output_type": "execute_result"
    }
   ],
   "source": [
    "df_leie_filtered.count()"
   ]
  },
  {
   "cell_type": "code",
   "execution_count": 32,
   "id": "ec4736ce",
   "metadata": {},
   "outputs": [
    {
     "name": "stdout",
     "output_type": "stream",
     "text": [
      "+----------+--------+---------+--------+--------+--------+----------+\n",
      "|       NPI|LASTNAME|FIRSTNAME|EXCLTYPE|EXCLDATE|REINDATE|WAIVERDATE|\n",
      "+----------+--------+---------+--------+--------+--------+----------+\n",
      "|1922348218|    null|     null|  1128a1|20180419|00000000|  00000000|\n",
      "|1275600959|    null|     null|  1128a1|20130320|00000000|  00000000|\n",
      "|1265830335|    null|     null|  1128a1|20220818|00000000|  00000000|\n",
      "|1851631543|    null|     null|  1128b7|20190326|00000000|  00000000|\n",
      "|1902198435|    null|     null|  1128a1|20160120|00000000|  00000000|\n",
      "+----------+--------+---------+--------+--------+--------+----------+\n",
      "only showing top 5 rows\n",
      "\n"
     ]
    }
   ],
   "source": [
    "df_leie_filtered.show(5)"
   ]
  },
  {
   "cell_type": "code",
   "execution_count": 33,
   "id": "fae8081b",
   "metadata": {},
   "outputs": [],
   "source": [
    "df_leie_filtered = df_leie_filtered.withColumn('EXCLDATE_END', F.lit(0))"
   ]
  },
  {
   "cell_type": "code",
   "execution_count": 34,
   "id": "7ac4c80e",
   "metadata": {},
   "outputs": [
    {
     "name": "stdout",
     "output_type": "stream",
     "text": [
      "+----------+--------+---------+--------+--------+--------+----------+------------+\n",
      "|       NPI|LASTNAME|FIRSTNAME|EXCLTYPE|EXCLDATE|REINDATE|WAIVERDATE|EXCLDATE_END|\n",
      "+----------+--------+---------+--------+--------+--------+----------+------------+\n",
      "|1922348218|    null|     null|  1128a1|20180419|00000000|  00000000|           0|\n",
      "|1275600959|    null|     null|  1128a1|20130320|00000000|  00000000|           0|\n",
      "|1265830335|    null|     null|  1128a1|20220818|00000000|  00000000|           0|\n",
      "|1851631543|    null|     null|  1128b7|20190326|00000000|  00000000|           0|\n",
      "|1902198435|    null|     null|  1128a1|20160120|00000000|  00000000|           0|\n",
      "+----------+--------+---------+--------+--------+--------+----------+------------+\n",
      "only showing top 5 rows\n",
      "\n"
     ]
    }
   ],
   "source": [
    "df_leie_filtered.show(5)"
   ]
  },
  {
   "cell_type": "code",
   "execution_count": 35,
   "id": "bdade9e1",
   "metadata": {},
   "outputs": [],
   "source": [
    "df_leie_filtered_date = df_leie_filtered.withColumn(\n",
    "    \"EXCLDATE_END\",\n",
    "    F.when(\n",
    "        F.col(\"EXCLTYPE\").isin(['1128a1', '1128a2', '1128a3']),\n",
    "        F.concat(\n",
    "            (F.substring(F.col(\"EXCLDATE\"), 1, 4).cast(\"int\") + 5).cast(\"string\"),\n",
    "            F.substring(F.col(\"EXCLDATE\"), 5, 4))).otherwise(F.col(\"EXCLDATE\"))\n",
    ")"
   ]
  },
  {
   "cell_type": "code",
   "execution_count": 36,
   "id": "9bb19dff",
   "metadata": {},
   "outputs": [
    {
     "name": "stdout",
     "output_type": "stream",
     "text": [
      "+----------+--------+---------+--------+--------+--------+----------+------------+\n",
      "|       NPI|LASTNAME|FIRSTNAME|EXCLTYPE|EXCLDATE|REINDATE|WAIVERDATE|EXCLDATE_END|\n",
      "+----------+--------+---------+--------+--------+--------+----------+------------+\n",
      "|1922348218|    null|     null|  1128a1|20180419|00000000|  00000000|    20230419|\n",
      "|1275600959|    null|     null|  1128a1|20130320|00000000|  00000000|    20180320|\n",
      "|1265830335|    null|     null|  1128a1|20220818|00000000|  00000000|    20270818|\n",
      "|1851631543|    null|     null|  1128b7|20190326|00000000|  00000000|    20190326|\n",
      "|1902198435|    null|     null|  1128a1|20160120|00000000|  00000000|    20210120|\n",
      "+----------+--------+---------+--------+--------+--------+----------+------------+\n",
      "only showing top 5 rows\n",
      "\n"
     ]
    }
   ],
   "source": [
    "df_leie_filtered_date.show(5)"
   ]
  },
  {
   "cell_type": "code",
   "execution_count": 37,
   "id": "d4eef103",
   "metadata": {},
   "outputs": [
    {
     "data": {
      "text/plain": [
       "70566"
      ]
     },
     "execution_count": 37,
     "metadata": {},
     "output_type": "execute_result"
    }
   ],
   "source": [
    "df_leie_filtered_date.count()"
   ]
  },
  {
   "cell_type": "code",
   "execution_count": 38,
   "id": "3b48f2e9",
   "metadata": {},
   "outputs": [],
   "source": [
    "df_selected = df_leie_filtered_date.select('NPI', 'FIRSTNAME','LASTNAME','EXCLTYPE', 'EXCLDATE', F.col(\"EXCLDATE_END\").alias('FINAL_DATE'))"
   ]
  },
  {
   "cell_type": "code",
   "execution_count": 39,
   "id": "1fe9a62e",
   "metadata": {},
   "outputs": [
    {
     "name": "stdout",
     "output_type": "stream",
     "text": [
      "+----------+---------+--------+--------+--------+----------+\n",
      "|       NPI|FIRSTNAME|LASTNAME|EXCLTYPE|EXCLDATE|FINAL_DATE|\n",
      "+----------+---------+--------+--------+--------+----------+\n",
      "|1922348218|     null|    null|  1128a1|20180419|  20230419|\n",
      "|1275600959|     null|    null|  1128a1|20130320|  20180320|\n",
      "|1265830335|     null|    null|  1128a1|20220818|  20270818|\n",
      "|1851631543|     null|    null|  1128b7|20190326|  20190326|\n",
      "|1902198435|     null|    null|  1128a1|20160120|  20210120|\n",
      "+----------+---------+--------+--------+--------+----------+\n",
      "only showing top 5 rows\n",
      "\n"
     ]
    }
   ],
   "source": [
    "df_selected.show(5)"
   ]
  },
  {
   "cell_type": "code",
   "execution_count": 40,
   "id": "efbe8ae0",
   "metadata": {},
   "outputs": [],
   "source": [
    "df_selected = df_selected.withColumn(\"FINAL_YEAR\", F.substring(F.col(\"FINAL_DATE\"), 1, 4))"
   ]
  },
  {
   "cell_type": "code",
   "execution_count": 41,
   "id": "ad902c40",
   "metadata": {},
   "outputs": [
    {
     "name": "stdout",
     "output_type": "stream",
     "text": [
      "+----------+---------+--------+--------+--------+----------+----------+\n",
      "|       NPI|FIRSTNAME|LASTNAME|EXCLTYPE|EXCLDATE|FINAL_DATE|FINAL_YEAR|\n",
      "+----------+---------+--------+--------+--------+----------+----------+\n",
      "|1922348218|     null|    null|  1128a1|20180419|  20230419|      2023|\n",
      "|1275600959|     null|    null|  1128a1|20130320|  20180320|      2018|\n",
      "|1265830335|     null|    null|  1128a1|20220818|  20270818|      2027|\n",
      "|1851631543|     null|    null|  1128b7|20190326|  20190326|      2019|\n",
      "|1902198435|     null|    null|  1128a1|20160120|  20210120|      2021|\n",
      "+----------+---------+--------+--------+--------+----------+----------+\n",
      "only showing top 5 rows\n",
      "\n"
     ]
    }
   ],
   "source": [
    "df_selected.show(5)"
   ]
  },
  {
   "cell_type": "code",
   "execution_count": 42,
   "id": "36a7c474",
   "metadata": {},
   "outputs": [],
   "source": [
    "#df_cms_feats = df_cms_feats.withColumn('Fraud', lit(0))"
   ]
  },
  {
   "cell_type": "code",
   "execution_count": 43,
   "id": "cb08b5da",
   "metadata": {},
   "outputs": [
    {
     "name": "stdout",
     "output_type": "stream",
     "text": [
      "+----------+--------------------------+-----------------------+--------------------+-------------------------+-----------------+-------------+-------------+------------+---------+---------+------------------+--------------+-----------------+----+\n",
      "|Rndrng_NPI|Rndrng_Prvdr_Last_Org_Name|Rndrng_Prvdr_First_Name|   Rndrng_Prvdr_Type|Rndrng_Prvdr_State_Abrvtn|Rndrng_Prvdr_Gndr|Tot_HCPCS_Cds|Bene_Male_Cnt|Bene_Avg_Age|Tot_Srvcs|Tot_Benes|Bene_Avg_Risk_Scre|Tot_Sbmtd_Chrg|Tot_Mdcr_Pymt_Amt|year|\n",
      "+----------+--------------------------+-----------------------+--------------------+-------------------------+-----------------+-------------+-------------+------------+---------+---------+------------------+--------------+-----------------+----+\n",
      "|1003000126|                 Enkeshafi|                Ardalan|   Internal Medicine|                       MD|                M|           16|          130|          77|      764|      291|            2.5028|        402812|         69175.78|2020|\n",
      "|1003000134|                    Cibull|                 Thomas|           Pathology|                       IL|                M|           18|         1323|          76|     5930|     2633|            1.1124|        915291|        176497.74|2020|\n",
      "|1003000142|                    Khalil|                 Rashid|      Anesthesiology|                       OH|                M|           54|           67|          65|     2003|      167|            1.6935|     182532.48|         76938.82|2020|\n",
      "|1003000423|                   Velotta|               Jennifer|Obstetrics & Gyne...|                       OH|                F|           21|            0|          67|      571|       56|            0.7089|         23680|          7224.35|2020|\n",
      "|1003000480|                 Rothchild|                  Kevin|     General Surgery|                       CO|                M|           30|           41|          64|      125|       89|            2.1137|        152154|         23962.85|2020|\n",
      "+----------+--------------------------+-----------------------+--------------------+-------------------------+-----------------+-------------+-------------+------------+---------+---------+------------------+--------------+-----------------+----+\n",
      "only showing top 5 rows\n",
      "\n"
     ]
    }
   ],
   "source": [
    "df_cms_feats.show(5)"
   ]
  },
  {
   "cell_type": "code",
   "execution_count": 44,
   "id": "dc935ba5",
   "metadata": {},
   "outputs": [],
   "source": [
    "df_tmp3 = df_cms_feats.join(df_selected, (df_cms_feats.Rndrng_NPI == df_selected.NPI) | \n",
    "                      ((df_cms_feats.Rndrng_Prvdr_Last_Org_Name == df_selected.LASTNAME) &  \n",
    "                       (df_cms_feats.Rndrng_Prvdr_First_Name == df_selected.FIRSTNAME)) , \"inner\").select(df_cms_feats[\"*\"])\n"
   ]
  },
  {
   "cell_type": "code",
   "execution_count": 45,
   "id": "29b97349",
   "metadata": {},
   "outputs": [],
   "source": [
    "#df_tmp3.explain()"
   ]
  },
  {
   "cell_type": "code",
   "execution_count": 46,
   "id": "019d3c29",
   "metadata": {},
   "outputs": [],
   "source": [
    "#df_tmp3.show(5)"
   ]
  },
  {
   "cell_type": "code",
   "execution_count": 47,
   "id": "47ecd3ef",
   "metadata": {
    "scrolled": true
   },
   "outputs": [],
   "source": [
    "#total_fraudulent_providers = df_tmp3.count()"
   ]
  },
  {
   "cell_type": "code",
   "execution_count": 48,
   "id": "c79c4a0e",
   "metadata": {},
   "outputs": [],
   "source": [
    "#print('Total fraudulent providers:', total_fraudulent_providers)\n"
   ]
  },
  {
   "cell_type": "code",
   "execution_count": 49,
   "id": "682ba01e",
   "metadata": {},
   "outputs": [],
   "source": [
    "df_final = df_cms_feats.join(\n",
    "    df_selected, (df_cms_feats.Rndrng_NPI == df_selected.NPI) | \n",
    "    ((df_cms_feats.Rndrng_Prvdr_Last_Org_Name == df_selected.LASTNAME) &  \n",
    "     (df_cms_feats.Rndrng_Prvdr_First_Name == df_selected.FIRSTNAME)),\n",
    "    \"left\" ).select(df_cms_feats[\"*\"], df_selected[\"FINAL_YEAR\"])"
   ]
  },
  {
   "cell_type": "code",
   "execution_count": 50,
   "id": "227213d9",
   "metadata": {},
   "outputs": [],
   "source": [
    "#df_final.show(5)"
   ]
  },
  {
   "cell_type": "code",
   "execution_count": 51,
   "id": "3b569938",
   "metadata": {},
   "outputs": [],
   "source": [
    "# df_final = df_final.drop('Fraud')"
   ]
  },
  {
   "cell_type": "code",
   "execution_count": 52,
   "id": "4ba98d1d",
   "metadata": {},
   "outputs": [],
   "source": [
    "df_final = df_final.withColumn(\"Fraud\", F.when(df_final.year <= df_final.FINAL_YEAR, 1).otherwise(0))"
   ]
  },
  {
   "cell_type": "code",
   "execution_count": 53,
   "id": "dd56ef5e",
   "metadata": {
    "scrolled": true
   },
   "outputs": [
    {
     "name": "stdout",
     "output_type": "stream",
     "text": [
      "+----------+--------------------------+-----------------------+--------------------+-------------------------+-----------------+-------------+-------------+------------+---------+---------+------------------+--------------+-----------------+----+----------+-----+\n",
      "|Rndrng_NPI|Rndrng_Prvdr_Last_Org_Name|Rndrng_Prvdr_First_Name|   Rndrng_Prvdr_Type|Rndrng_Prvdr_State_Abrvtn|Rndrng_Prvdr_Gndr|Tot_HCPCS_Cds|Bene_Male_Cnt|Bene_Avg_Age|Tot_Srvcs|Tot_Benes|Bene_Avg_Risk_Scre|Tot_Sbmtd_Chrg|Tot_Mdcr_Pymt_Amt|year|FINAL_YEAR|Fraud|\n",
      "+----------+--------------------------+-----------------------+--------------------+-------------------------+-----------------+-------------+-------------+------------+---------+---------+------------------+--------------+-----------------+----+----------+-----+\n",
      "|1003000126|                 Enkeshafi|                Ardalan|   Internal Medicine|                       MD|                M|           16|          130|          77|      764|      291|            2.5028|        402812|         69175.78|2020|      null|    0|\n",
      "|1003000134|                    Cibull|                 Thomas|           Pathology|                       IL|                M|           18|         1323|          76|     5930|     2633|            1.1124|        915291|        176497.74|2020|      null|    0|\n",
      "|1003000142|                    Khalil|                 Rashid|      Anesthesiology|                       OH|                M|           54|           67|          65|     2003|      167|            1.6935|     182532.48|         76938.82|2020|      null|    0|\n",
      "|1003000423|                   Velotta|               Jennifer|Obstetrics & Gyne...|                       OH|                F|           21|            0|          67|      571|       56|            0.7089|         23680|          7224.35|2020|      null|    0|\n",
      "|1003000480|                 Rothchild|                  Kevin|     General Surgery|                       CO|                M|           30|           41|          64|      125|       89|            2.1137|        152154|         23962.85|2020|      null|    0|\n",
      "+----------+--------------------------+-----------------------+--------------------+-------------------------+-----------------+-------------+-------------+------------+---------+---------+------------------+--------------+-----------------+----+----------+-----+\n",
      "only showing top 5 rows\n",
      "\n"
     ]
    }
   ],
   "source": [
    "df_final.show(5)"
   ]
  },
  {
   "cell_type": "code",
   "execution_count": 54,
   "id": "e1013add",
   "metadata": {},
   "outputs": [],
   "source": [
    "df_final_2020 = df_final.toPandas()"
   ]
  },
  {
   "cell_type": "code",
   "execution_count": 55,
   "id": "86001733",
   "metadata": {},
   "outputs": [],
   "source": [
    "df_final_2020.to_csv(\"prepared_data_2020.csv\")"
   ]
  },
  {
   "cell_type": "markdown",
   "id": "31981a05",
   "metadata": {},
   "source": [
    "# Data_2021"
   ]
  },
  {
   "cell_type": "code",
   "execution_count": 4,
   "id": "de410299",
   "metadata": {},
   "outputs": [],
   "source": [
    "df_cms_2021 = spark.read.csv(\"partB_19-22/MUP_PHY_R24_P07_V10_D21_Prov.csv\", header=True)"
   ]
  },
  {
   "cell_type": "code",
   "execution_count": 5,
   "id": "9c7fbd8a",
   "metadata": {},
   "outputs": [
    {
     "data": {
      "text/plain": [
       "['Rndrng_NPI',\n",
       " 'Rndrng_Prvdr_Last_Org_Name',\n",
       " 'Rndrng_Prvdr_First_Name',\n",
       " 'Rndrng_Prvdr_MI',\n",
       " 'Rndrng_Prvdr_Crdntls',\n",
       " 'Rndrng_Prvdr_Gndr',\n",
       " 'Rndrng_Prvdr_Ent_Cd',\n",
       " 'Rndrng_Prvdr_St1',\n",
       " 'Rndrng_Prvdr_St2',\n",
       " 'Rndrng_Prvdr_City',\n",
       " 'Rndrng_Prvdr_State_Abrvtn',\n",
       " 'Rndrng_Prvdr_State_FIPS',\n",
       " 'Rndrng_Prvdr_Zip5',\n",
       " 'Rndrng_Prvdr_RUCA',\n",
       " 'Rndrng_Prvdr_RUCA_Desc',\n",
       " 'Rndrng_Prvdr_Cntry',\n",
       " 'Rndrng_Prvdr_Type',\n",
       " 'Rndrng_Prvdr_Mdcr_Prtcptg_Ind',\n",
       " 'Tot_HCPCS_Cds',\n",
       " 'Tot_Benes',\n",
       " 'Tot_Srvcs',\n",
       " 'Tot_Sbmtd_Chrg',\n",
       " 'Tot_Mdcr_Alowd_Amt',\n",
       " 'Tot_Mdcr_Pymt_Amt',\n",
       " 'Tot_Mdcr_Stdzd_Amt',\n",
       " 'Drug_Sprsn_Ind',\n",
       " 'Drug_Tot_HCPCS_Cds',\n",
       " 'Drug_Tot_Benes',\n",
       " 'Drug_Tot_Srvcs',\n",
       " 'Drug_Sbmtd_Chrg',\n",
       " 'Drug_Mdcr_Alowd_Amt',\n",
       " 'Drug_Mdcr_Pymt_Amt',\n",
       " 'Drug_Mdcr_Stdzd_Amt',\n",
       " 'Med_Sprsn_Ind',\n",
       " 'Med_Tot_HCPCS_Cds',\n",
       " 'Med_Tot_Benes',\n",
       " 'Med_Tot_Srvcs',\n",
       " 'Med_Sbmtd_Chrg',\n",
       " 'Med_Mdcr_Alowd_Amt',\n",
       " 'Med_Mdcr_Pymt_Amt',\n",
       " 'Med_Mdcr_Stdzd_Amt',\n",
       " 'Bene_Avg_Age',\n",
       " 'Bene_Age_LT_65_Cnt',\n",
       " 'Bene_Age_65_74_Cnt',\n",
       " 'Bene_Age_75_84_Cnt',\n",
       " 'Bene_Age_GT_84_Cnt',\n",
       " 'Bene_Feml_Cnt',\n",
       " 'Bene_Male_Cnt',\n",
       " 'Bene_Race_Wht_Cnt',\n",
       " 'Bene_Race_Black_Cnt',\n",
       " 'Bene_Race_API_Cnt',\n",
       " 'Bene_Race_Hspnc_Cnt',\n",
       " 'Bene_Race_NatInd_Cnt',\n",
       " 'Bene_Race_Othr_Cnt',\n",
       " 'Bene_Dual_Cnt',\n",
       " 'Bene_Ndual_Cnt',\n",
       " 'Bene_CC_BH_ADHD_OthCD_V1_Pct',\n",
       " 'Bene_CC_BH_Alcohol_Drug_V1_Pct',\n",
       " 'Bene_CC_BH_Tobacco_V1_Pct',\n",
       " 'Bene_CC_BH_Alz_NonAlzdem_V2_Pct',\n",
       " 'Bene_CC_BH_Anxiety_V1_Pct',\n",
       " 'Bene_CC_BH_Bipolar_V1_Pct',\n",
       " 'Bene_CC_BH_Mood_V2_Pct',\n",
       " 'Bene_CC_BH_Depress_V1_Pct',\n",
       " 'Bene_CC_BH_PD_V1_Pct',\n",
       " 'Bene_CC_BH_PTSD_V1_Pct',\n",
       " 'Bene_CC_BH_Schizo_OthPsy_V1_Pct',\n",
       " 'Bene_CC_PH_Asthma_V2_Pct',\n",
       " 'Bene_CC_PH_Afib_V2_Pct',\n",
       " 'Bene_CC_PH_Cancer6_V2_Pct',\n",
       " 'Bene_CC_PH_CKD_V2_Pct',\n",
       " 'Bene_CC_PH_COPD_V2_Pct',\n",
       " 'Bene_CC_PH_Diabetes_V2_Pct',\n",
       " 'Bene_CC_PH_HF_NonIHD_V2_Pct',\n",
       " 'Bene_CC_PH_Hyperlipidemia_V2_Pct',\n",
       " 'Bene_CC_PH_Hypertension_V2_Pct',\n",
       " 'Bene_CC_PH_IschemicHeart_V2_Pct',\n",
       " 'Bene_CC_PH_Osteoporosis_V2_Pct',\n",
       " 'Bene_CC_PH_Parkinson_V2_Pct',\n",
       " 'Bene_CC_PH_Arthritis_V2_Pct',\n",
       " 'Bene_CC_PH_Stroke_TIA_V2_Pct',\n",
       " 'Bene_Avg_Risk_Scre']"
      ]
     },
     "execution_count": 5,
     "metadata": {},
     "output_type": "execute_result"
    }
   ],
   "source": [
    "df_cms_2021.columns"
   ]
  },
  {
   "cell_type": "code",
   "execution_count": 6,
   "id": "4bfa8e58",
   "metadata": {},
   "outputs": [
    {
     "name": "stdout",
     "output_type": "stream",
     "text": [
      "1198754 82\n"
     ]
    }
   ],
   "source": [
    "# print(df_cms_2019.count(), len(df_cms_2019.columns))\n",
    "# print(df_cms_2020.count(), len(df_cms_2020.columns))\n",
    "print(df_cms_2021.count(), len(df_cms_2021.columns))\n",
    "# print(df_cms_2022.count(), len(df_cms_2022.columns))"
   ]
  },
  {
   "cell_type": "code",
   "execution_count": 7,
   "id": "0a22e432",
   "metadata": {},
   "outputs": [],
   "source": [
    "df_cms_2021 = df_cms_2021.withColumn('year', lit(2021))"
   ]
  },
  {
   "cell_type": "code",
   "execution_count": 8,
   "id": "5762a6e1",
   "metadata": {},
   "outputs": [
    {
     "data": {
      "text/plain": [
       "1198754"
      ]
     },
     "execution_count": 8,
     "metadata": {},
     "output_type": "execute_result"
    }
   ],
   "source": [
    "df_cms_2021.select('Rndrng_NPI').count()"
   ]
  },
  {
   "cell_type": "code",
   "execution_count": 9,
   "id": "50c2512b",
   "metadata": {},
   "outputs": [
    {
     "data": {
      "text/plain": [
       "1198754"
      ]
     },
     "execution_count": 9,
     "metadata": {},
     "output_type": "execute_result"
    }
   ],
   "source": [
    "df_cms_2021.select('Rndrng_NPI').distinct().count()"
   ]
  },
  {
   "cell_type": "code",
   "execution_count": 11,
   "id": "04d138a3",
   "metadata": {},
   "outputs": [],
   "source": [
    "df_cms = df_cms_2021"
   ]
  },
  {
   "cell_type": "code",
   "execution_count": 12,
   "id": "f6e8586c",
   "metadata": {},
   "outputs": [
    {
     "name": "stdout",
     "output_type": "stream",
     "text": [
      "1198754\n",
      "83\n"
     ]
    }
   ],
   "source": [
    "print(df_cms.count())\n",
    "print(len(df_cms.columns))"
   ]
  },
  {
   "cell_type": "code",
   "execution_count": 13,
   "id": "eccd6fc0",
   "metadata": {},
   "outputs": [
    {
     "data": {
      "text/plain": [
       "['Rndrng_NPI',\n",
       " 'Rndrng_Prvdr_Last_Org_Name',\n",
       " 'Rndrng_Prvdr_First_Name',\n",
       " 'Rndrng_Prvdr_MI',\n",
       " 'Rndrng_Prvdr_Crdntls',\n",
       " 'Rndrng_Prvdr_Gndr',\n",
       " 'Rndrng_Prvdr_Ent_Cd',\n",
       " 'Rndrng_Prvdr_St1',\n",
       " 'Rndrng_Prvdr_St2',\n",
       " 'Rndrng_Prvdr_City',\n",
       " 'Rndrng_Prvdr_State_Abrvtn',\n",
       " 'Rndrng_Prvdr_State_FIPS',\n",
       " 'Rndrng_Prvdr_Zip5',\n",
       " 'Rndrng_Prvdr_RUCA',\n",
       " 'Rndrng_Prvdr_RUCA_Desc',\n",
       " 'Rndrng_Prvdr_Cntry',\n",
       " 'Rndrng_Prvdr_Type',\n",
       " 'Rndrng_Prvdr_Mdcr_Prtcptg_Ind',\n",
       " 'Tot_HCPCS_Cds',\n",
       " 'Tot_Benes',\n",
       " 'Tot_Srvcs',\n",
       " 'Tot_Sbmtd_Chrg',\n",
       " 'Tot_Mdcr_Alowd_Amt',\n",
       " 'Tot_Mdcr_Pymt_Amt',\n",
       " 'Tot_Mdcr_Stdzd_Amt',\n",
       " 'Drug_Sprsn_Ind',\n",
       " 'Drug_Tot_HCPCS_Cds',\n",
       " 'Drug_Tot_Benes',\n",
       " 'Drug_Tot_Srvcs',\n",
       " 'Drug_Sbmtd_Chrg',\n",
       " 'Drug_Mdcr_Alowd_Amt',\n",
       " 'Drug_Mdcr_Pymt_Amt',\n",
       " 'Drug_Mdcr_Stdzd_Amt',\n",
       " 'Med_Sprsn_Ind',\n",
       " 'Med_Tot_HCPCS_Cds',\n",
       " 'Med_Tot_Benes',\n",
       " 'Med_Tot_Srvcs',\n",
       " 'Med_Sbmtd_Chrg',\n",
       " 'Med_Mdcr_Alowd_Amt',\n",
       " 'Med_Mdcr_Pymt_Amt',\n",
       " 'Med_Mdcr_Stdzd_Amt',\n",
       " 'Bene_Avg_Age',\n",
       " 'Bene_Age_LT_65_Cnt',\n",
       " 'Bene_Age_65_74_Cnt',\n",
       " 'Bene_Age_75_84_Cnt',\n",
       " 'Bene_Age_GT_84_Cnt',\n",
       " 'Bene_Feml_Cnt',\n",
       " 'Bene_Male_Cnt',\n",
       " 'Bene_Race_Wht_Cnt',\n",
       " 'Bene_Race_Black_Cnt',\n",
       " 'Bene_Race_API_Cnt',\n",
       " 'Bene_Race_Hspnc_Cnt',\n",
       " 'Bene_Race_NatInd_Cnt',\n",
       " 'Bene_Race_Othr_Cnt',\n",
       " 'Bene_Dual_Cnt',\n",
       " 'Bene_Ndual_Cnt',\n",
       " 'Bene_CC_BH_ADHD_OthCD_V1_Pct',\n",
       " 'Bene_CC_BH_Alcohol_Drug_V1_Pct',\n",
       " 'Bene_CC_BH_Tobacco_V1_Pct',\n",
       " 'Bene_CC_BH_Alz_NonAlzdem_V2_Pct',\n",
       " 'Bene_CC_BH_Anxiety_V1_Pct',\n",
       " 'Bene_CC_BH_Bipolar_V1_Pct',\n",
       " 'Bene_CC_BH_Mood_V2_Pct',\n",
       " 'Bene_CC_BH_Depress_V1_Pct',\n",
       " 'Bene_CC_BH_PD_V1_Pct',\n",
       " 'Bene_CC_BH_PTSD_V1_Pct',\n",
       " 'Bene_CC_BH_Schizo_OthPsy_V1_Pct',\n",
       " 'Bene_CC_PH_Asthma_V2_Pct',\n",
       " 'Bene_CC_PH_Afib_V2_Pct',\n",
       " 'Bene_CC_PH_Cancer6_V2_Pct',\n",
       " 'Bene_CC_PH_CKD_V2_Pct',\n",
       " 'Bene_CC_PH_COPD_V2_Pct',\n",
       " 'Bene_CC_PH_Diabetes_V2_Pct',\n",
       " 'Bene_CC_PH_HF_NonIHD_V2_Pct',\n",
       " 'Bene_CC_PH_Hyperlipidemia_V2_Pct',\n",
       " 'Bene_CC_PH_Hypertension_V2_Pct',\n",
       " 'Bene_CC_PH_IschemicHeart_V2_Pct',\n",
       " 'Bene_CC_PH_Osteoporosis_V2_Pct',\n",
       " 'Bene_CC_PH_Parkinson_V2_Pct',\n",
       " 'Bene_CC_PH_Arthritis_V2_Pct',\n",
       " 'Bene_CC_PH_Stroke_TIA_V2_Pct',\n",
       " 'Bene_Avg_Risk_Scre',\n",
       " 'year']"
      ]
     },
     "execution_count": 13,
     "metadata": {},
     "output_type": "execute_result"
    }
   ],
   "source": [
    "df_cms.columns"
   ]
  },
  {
   "cell_type": "code",
   "execution_count": 20,
   "id": "31fd929e",
   "metadata": {},
   "outputs": [],
   "source": [
    "df_cms_feats =df_cms.select('Rndrng_NPI','Rndrng_Prvdr_Last_Org_Name',\n",
    "         'Rndrng_Prvdr_First_Name','Rndrng_Prvdr_Type', 'Rndrng_Prvdr_State_Abrvtn',\n",
    "         'Rndrng_Prvdr_Gndr','Tot_HCPCS_Cds', 'Bene_Male_Cnt','Bene_Avg_Age',\n",
    "         'Tot_Srvcs','Tot_Benes','Bene_Avg_Risk_Scre',\n",
    "         'Tot_Sbmtd_Chrg','Tot_Mdcr_Pymt_Amt','year')"
   ]
  },
  {
   "cell_type": "code",
   "execution_count": 21,
   "id": "d155355f",
   "metadata": {},
   "outputs": [
    {
     "data": {
      "text/plain": [
       "['Rndrng_NPI',\n",
       " 'Rndrng_Prvdr_Last_Org_Name',\n",
       " 'Rndrng_Prvdr_First_Name',\n",
       " 'Rndrng_Prvdr_Type',\n",
       " 'Rndrng_Prvdr_State_Abrvtn',\n",
       " 'Rndrng_Prvdr_Gndr',\n",
       " 'Tot_HCPCS_Cds',\n",
       " 'Bene_Male_Cnt',\n",
       " 'Bene_Avg_Age',\n",
       " 'Tot_Srvcs',\n",
       " 'Tot_Benes',\n",
       " 'Bene_Avg_Risk_Scre',\n",
       " 'Tot_Sbmtd_Chrg',\n",
       " 'Tot_Mdcr_Pymt_Amt',\n",
       " 'year']"
      ]
     },
     "execution_count": 21,
     "metadata": {},
     "output_type": "execute_result"
    }
   ],
   "source": [
    "df_cms_feats.columns"
   ]
  },
  {
   "cell_type": "code",
   "execution_count": 22,
   "id": "e7be5cea",
   "metadata": {},
   "outputs": [
    {
     "name": "stdout",
     "output_type": "stream",
     "text": [
      "+----------+--------------------------+-----------------------+--------------------+-------------------------+-----------------+-------------+-------------+------------+---------+---------+------------------+--------------+-----------------+----+\n",
      "|Rndrng_NPI|Rndrng_Prvdr_Last_Org_Name|Rndrng_Prvdr_First_Name|   Rndrng_Prvdr_Type|Rndrng_Prvdr_State_Abrvtn|Rndrng_Prvdr_Gndr|Tot_HCPCS_Cds|Bene_Male_Cnt|Bene_Avg_Age|Tot_Srvcs|Tot_Benes|Bene_Avg_Risk_Scre|Tot_Sbmtd_Chrg|Tot_Mdcr_Pymt_Amt|year|\n",
      "+----------+--------------------------+-----------------------+--------------------+-------------------------+-----------------+-------------+-------------+------------+---------+---------+------------------+--------------+-----------------+----+\n",
      "|1003000126|                 Enkeshafi|                Ardalan|   Internal Medicine|                       MD|                M|           36|          283|          78|     3749|      661|            1.8026|     515976.55|        231289.23|2021|\n",
      "|1003000134|                    Cibull|                 Thomas|           Pathology|                       IL|                M|           21|         1518|          76|     7359|     3216|            1.0785|    1136431.94|        203094.28|2021|\n",
      "|1003000142|                    Khalil|                 Rashid|      Anesthesiology|                       OH|                M|           52|           92|          68|     1932|      239|             1.492|     295950.73|         93430.64|2021|\n",
      "|1003000423|                   Velotta|               Jennifer|Obstetrics & Gyne...|                       OH|                F|           19|            0|          66|      738|       69|            0.6362|         21300|          6735.97|2021|\n",
      "|1003000480|                 Rothchild|                  Kevin|     General Surgery|                       CO|                M|           29|           48|          65|      162|      112|            1.8233|        180891|         28071.92|2021|\n",
      "+----------+--------------------------+-----------------------+--------------------+-------------------------+-----------------+-------------+-------------+------------+---------+---------+------------------+--------------+-----------------+----+\n",
      "only showing top 5 rows\n",
      "\n"
     ]
    }
   ],
   "source": [
    "df_cms_feats.show(5)"
   ]
  },
  {
   "cell_type": "code",
   "execution_count": 27,
   "id": "5c713582",
   "metadata": {},
   "outputs": [],
   "source": [
    "import pyspark.sql.functions as F\n",
    "df_leie_new = df_leie_new.filter((F.col(\"NPI\") > 0) | (F.col(\"LASTNAME\").isNotNull() & F.col(\"FIRSTNAME\").isNotNull()))\n"
   ]
  },
  {
   "cell_type": "code",
   "execution_count": 28,
   "id": "96d918a8",
   "metadata": {},
   "outputs": [
    {
     "data": {
      "text/plain": [
       "78608"
      ]
     },
     "execution_count": 28,
     "metadata": {},
     "output_type": "execute_result"
    }
   ],
   "source": [
    "df_leie_new.count()"
   ]
  },
  {
   "cell_type": "code",
   "execution_count": 29,
   "id": "a442b470",
   "metadata": {},
   "outputs": [
    {
     "name": "stdout",
     "output_type": "stream",
     "text": [
      "+----------+--------+---------+--------+--------+--------+----------+\n",
      "|       NPI|LASTNAME|FIRSTNAME|EXCLTYPE|EXCLDATE|REINDATE|WAIVERDATE|\n",
      "+----------+--------+---------+--------+--------+--------+----------+\n",
      "|1972902351|    null|     null|  1128b8|20220320|00000000|  00000000|\n",
      "|1922348218|    null|     null|  1128a1|20180419|00000000|  00000000|\n",
      "|1942476080|    null|     null|  1128b8|20170518|00000000|  00000000|\n",
      "|1275600959|    null|     null|  1128a1|20130320|00000000|  00000000|\n",
      "|1891731758|    null|     null|  1128b8|20170518|00000000|  00000000|\n",
      "+----------+--------+---------+--------+--------+--------+----------+\n",
      "only showing top 5 rows\n",
      "\n"
     ]
    }
   ],
   "source": [
    "df_leie_new.show(5)"
   ]
  },
  {
   "cell_type": "code",
   "execution_count": 30,
   "id": "d0682573",
   "metadata": {},
   "outputs": [
    {
     "data": {
      "text/plain": [
       "74979"
      ]
     },
     "execution_count": 30,
     "metadata": {},
     "output_type": "execute_result"
    }
   ],
   "source": [
    "df_leie_new.select(\"NPI\",'LASTNAME','FIRSTNAME').distinct().count()"
   ]
  },
  {
   "cell_type": "code",
   "execution_count": 31,
   "id": "f6ba2729",
   "metadata": {},
   "outputs": [
    {
     "data": {
      "text/plain": [
       "Row(max(REINDATE)='20060420', max(WAIVERDATE)='20240227')"
      ]
     },
     "execution_count": 31,
     "metadata": {},
     "output_type": "execute_result"
    }
   ],
   "source": [
    "import pyspark.sql.functions as F\n",
    "df_leie_new.select(\n",
    "    F.max(\"REINDATE\"),\n",
    "    F.max(\"WAIVERDATE\")).collect()[0]\n"
   ]
  },
  {
   "cell_type": "code",
   "execution_count": 32,
   "id": "4be8de44",
   "metadata": {},
   "outputs": [],
   "source": [
    "df_leie = df_leie.drop('REINDATE')"
   ]
  },
  {
   "cell_type": "code",
   "execution_count": 33,
   "id": "1ce05add",
   "metadata": {},
   "outputs": [
    {
     "name": "stdout",
     "output_type": "stream",
     "text": [
      "Unique values in EXCLTYPE: ['73401', '1128b15', 'BRCH CIA', '1128b5', '1128b14', '1128a1', '1128b1', '1128b4', '1128b16', '93301', '1128Aa', '93551', '1128b11', '1128a2', '1128b12', '1128a3', '95501', '1128b7', '1128b6', '1128b8', '95816', '1160', '93638', '98405', '1128a4', '1128b3', '1128b2', 'BRCH SA', '1156']\n"
     ]
    }
   ],
   "source": [
    "unique_excltype = df_leie_new.select(\"EXCLTYPE\").distinct().collect()\n",
    "\n",
    "# Extract the unique values into a list\n",
    "unique_excltype_list = [row['EXCLTYPE'] for row in unique_excltype]\n",
    "\n",
    "# Print the unique values\n",
    "print(\"Unique values in EXCLTYPE:\", unique_excltype_list)"
   ]
  },
  {
   "cell_type": "code",
   "execution_count": 34,
   "id": "84449eaf",
   "metadata": {},
   "outputs": [
    {
     "name": "stdout",
     "output_type": "stream",
     "text": [
      "+----------+--------+---------+--------+--------+--------+----------+\n",
      "|       NPI|LASTNAME|FIRSTNAME|EXCLTYPE|EXCLDATE|REINDATE|WAIVERDATE|\n",
      "+----------+--------+---------+--------+--------+--------+----------+\n",
      "|1922348218|    null|     null|  1128a1|20180419|00000000|  00000000|\n",
      "|1275600959|    null|     null|  1128a1|20130320|00000000|  00000000|\n",
      "|1265830335|    null|     null|  1128a1|20220818|00000000|  00000000|\n",
      "|1851631543|    null|     null|  1128b7|20190326|00000000|  00000000|\n",
      "|1902198435|    null|     null|  1128a1|20160120|00000000|  00000000|\n",
      "+----------+--------+---------+--------+--------+--------+----------+\n",
      "only showing top 5 rows\n",
      "\n"
     ]
    }
   ],
   "source": [
    "drop_values = ['1128a1', '1128a2', '1128a3', '1128b4', '1128b7']\n",
    "\n",
    "df_leie_filtered = df_leie_new.filter(F.col(\"EXCLTYPE\").isin(drop_values))\n",
    "\n",
    "df_leie_filtered.show(5)"
   ]
  },
  {
   "cell_type": "code",
   "execution_count": 35,
   "id": "fde8b93d",
   "metadata": {},
   "outputs": [
    {
     "data": {
      "text/plain": [
       "[Row(EXCLTYPE='1128a1'),\n",
       " Row(EXCLTYPE='1128b4'),\n",
       " Row(EXCLTYPE='1128a2'),\n",
       " Row(EXCLTYPE='1128a3'),\n",
       " Row(EXCLTYPE='1128b7')]"
      ]
     },
     "execution_count": 35,
     "metadata": {},
     "output_type": "execute_result"
    }
   ],
   "source": [
    "df_leie_filtered.select(\"EXCLTYPE\").distinct().collect()"
   ]
  },
  {
   "cell_type": "code",
   "execution_count": 36,
   "id": "4c3c78a4",
   "metadata": {},
   "outputs": [
    {
     "data": {
      "text/plain": [
       "70566"
      ]
     },
     "execution_count": 36,
     "metadata": {},
     "output_type": "execute_result"
    }
   ],
   "source": [
    "df_leie_filtered.count()"
   ]
  },
  {
   "cell_type": "code",
   "execution_count": 37,
   "id": "ec4736ce",
   "metadata": {},
   "outputs": [
    {
     "name": "stdout",
     "output_type": "stream",
     "text": [
      "+----------+--------+---------+--------+--------+--------+----------+\n",
      "|       NPI|LASTNAME|FIRSTNAME|EXCLTYPE|EXCLDATE|REINDATE|WAIVERDATE|\n",
      "+----------+--------+---------+--------+--------+--------+----------+\n",
      "|1922348218|    null|     null|  1128a1|20180419|00000000|  00000000|\n",
      "|1275600959|    null|     null|  1128a1|20130320|00000000|  00000000|\n",
      "|1265830335|    null|     null|  1128a1|20220818|00000000|  00000000|\n",
      "|1851631543|    null|     null|  1128b7|20190326|00000000|  00000000|\n",
      "|1902198435|    null|     null|  1128a1|20160120|00000000|  00000000|\n",
      "+----------+--------+---------+--------+--------+--------+----------+\n",
      "only showing top 5 rows\n",
      "\n"
     ]
    }
   ],
   "source": [
    "df_leie_filtered.show(5)"
   ]
  },
  {
   "cell_type": "code",
   "execution_count": 38,
   "id": "fae8081b",
   "metadata": {},
   "outputs": [],
   "source": [
    "df_leie_filtered = df_leie_filtered.withColumn('EXCLDATE_END', F.lit(0))"
   ]
  },
  {
   "cell_type": "code",
   "execution_count": 39,
   "id": "7ac4c80e",
   "metadata": {},
   "outputs": [
    {
     "name": "stdout",
     "output_type": "stream",
     "text": [
      "+----------+--------+---------+--------+--------+--------+----------+------------+\n",
      "|       NPI|LASTNAME|FIRSTNAME|EXCLTYPE|EXCLDATE|REINDATE|WAIVERDATE|EXCLDATE_END|\n",
      "+----------+--------+---------+--------+--------+--------+----------+------------+\n",
      "|1922348218|    null|     null|  1128a1|20180419|00000000|  00000000|           0|\n",
      "|1275600959|    null|     null|  1128a1|20130320|00000000|  00000000|           0|\n",
      "|1265830335|    null|     null|  1128a1|20220818|00000000|  00000000|           0|\n",
      "|1851631543|    null|     null|  1128b7|20190326|00000000|  00000000|           0|\n",
      "|1902198435|    null|     null|  1128a1|20160120|00000000|  00000000|           0|\n",
      "+----------+--------+---------+--------+--------+--------+----------+------------+\n",
      "only showing top 5 rows\n",
      "\n"
     ]
    }
   ],
   "source": [
    "df_leie_filtered.show(5)"
   ]
  },
  {
   "cell_type": "code",
   "execution_count": 40,
   "id": "bdade9e1",
   "metadata": {},
   "outputs": [],
   "source": [
    "df_leie_filtered_date = df_leie_filtered.withColumn(\n",
    "    \"EXCLDATE_END\",\n",
    "    F.when(\n",
    "        F.col(\"EXCLTYPE\").isin(['1128a1', '1128a2', '1128a3']),\n",
    "        F.concat(\n",
    "            (F.substring(F.col(\"EXCLDATE\"), 1, 4).cast(\"int\") + 5).cast(\"string\"),\n",
    "            F.substring(F.col(\"EXCLDATE\"), 5, 4))).otherwise(F.col(\"EXCLDATE\"))\n",
    ")"
   ]
  },
  {
   "cell_type": "code",
   "execution_count": 41,
   "id": "9bb19dff",
   "metadata": {},
   "outputs": [
    {
     "name": "stdout",
     "output_type": "stream",
     "text": [
      "+----------+--------+---------+--------+--------+--------+----------+------------+\n",
      "|       NPI|LASTNAME|FIRSTNAME|EXCLTYPE|EXCLDATE|REINDATE|WAIVERDATE|EXCLDATE_END|\n",
      "+----------+--------+---------+--------+--------+--------+----------+------------+\n",
      "|1922348218|    null|     null|  1128a1|20180419|00000000|  00000000|    20230419|\n",
      "|1275600959|    null|     null|  1128a1|20130320|00000000|  00000000|    20180320|\n",
      "|1265830335|    null|     null|  1128a1|20220818|00000000|  00000000|    20270818|\n",
      "|1851631543|    null|     null|  1128b7|20190326|00000000|  00000000|    20190326|\n",
      "|1902198435|    null|     null|  1128a1|20160120|00000000|  00000000|    20210120|\n",
      "+----------+--------+---------+--------+--------+--------+----------+------------+\n",
      "only showing top 5 rows\n",
      "\n"
     ]
    }
   ],
   "source": [
    "df_leie_filtered_date.show(5)"
   ]
  },
  {
   "cell_type": "code",
   "execution_count": 42,
   "id": "d4eef103",
   "metadata": {},
   "outputs": [
    {
     "data": {
      "text/plain": [
       "70566"
      ]
     },
     "execution_count": 42,
     "metadata": {},
     "output_type": "execute_result"
    }
   ],
   "source": [
    "df_leie_filtered_date.count()"
   ]
  },
  {
   "cell_type": "code",
   "execution_count": 43,
   "id": "3b48f2e9",
   "metadata": {},
   "outputs": [],
   "source": [
    "df_selected = df_leie_filtered_date.select('NPI', 'FIRSTNAME','LASTNAME','EXCLTYPE', 'EXCLDATE', F.col(\"EXCLDATE_END\").alias('FINAL_DATE'))"
   ]
  },
  {
   "cell_type": "code",
   "execution_count": 44,
   "id": "1fe9a62e",
   "metadata": {},
   "outputs": [
    {
     "name": "stdout",
     "output_type": "stream",
     "text": [
      "+----------+---------+--------+--------+--------+----------+\n",
      "|       NPI|FIRSTNAME|LASTNAME|EXCLTYPE|EXCLDATE|FINAL_DATE|\n",
      "+----------+---------+--------+--------+--------+----------+\n",
      "|1922348218|     null|    null|  1128a1|20180419|  20230419|\n",
      "|1275600959|     null|    null|  1128a1|20130320|  20180320|\n",
      "|1265830335|     null|    null|  1128a1|20220818|  20270818|\n",
      "|1851631543|     null|    null|  1128b7|20190326|  20190326|\n",
      "|1902198435|     null|    null|  1128a1|20160120|  20210120|\n",
      "+----------+---------+--------+--------+--------+----------+\n",
      "only showing top 5 rows\n",
      "\n"
     ]
    }
   ],
   "source": [
    "df_selected.show(5)"
   ]
  },
  {
   "cell_type": "code",
   "execution_count": 45,
   "id": "efbe8ae0",
   "metadata": {},
   "outputs": [],
   "source": [
    "df_selected = df_selected.withColumn(\"FINAL_YEAR\", F.substring(F.col(\"FINAL_DATE\"), 1, 4))"
   ]
  },
  {
   "cell_type": "code",
   "execution_count": 46,
   "id": "ad902c40",
   "metadata": {},
   "outputs": [
    {
     "name": "stdout",
     "output_type": "stream",
     "text": [
      "+----------+---------+--------+--------+--------+----------+----------+\n",
      "|       NPI|FIRSTNAME|LASTNAME|EXCLTYPE|EXCLDATE|FINAL_DATE|FINAL_YEAR|\n",
      "+----------+---------+--------+--------+--------+----------+----------+\n",
      "|1922348218|     null|    null|  1128a1|20180419|  20230419|      2023|\n",
      "|1275600959|     null|    null|  1128a1|20130320|  20180320|      2018|\n",
      "|1265830335|     null|    null|  1128a1|20220818|  20270818|      2027|\n",
      "|1851631543|     null|    null|  1128b7|20190326|  20190326|      2019|\n",
      "|1902198435|     null|    null|  1128a1|20160120|  20210120|      2021|\n",
      "+----------+---------+--------+--------+--------+----------+----------+\n",
      "only showing top 5 rows\n",
      "\n"
     ]
    }
   ],
   "source": [
    "df_selected.show(5)"
   ]
  },
  {
   "cell_type": "code",
   "execution_count": 47,
   "id": "36a7c474",
   "metadata": {},
   "outputs": [],
   "source": [
    "#df_cms_feats = df_cms_feats.withColumn('Fraud', lit(0))"
   ]
  },
  {
   "cell_type": "code",
   "execution_count": 48,
   "id": "cb08b5da",
   "metadata": {},
   "outputs": [
    {
     "name": "stdout",
     "output_type": "stream",
     "text": [
      "+----------+--------------------------+-----------------------+--------------------+-------------------------+-----------------+-------------+-------------+------------+---------+---------+------------------+--------------+-----------------+----+\n",
      "|Rndrng_NPI|Rndrng_Prvdr_Last_Org_Name|Rndrng_Prvdr_First_Name|   Rndrng_Prvdr_Type|Rndrng_Prvdr_State_Abrvtn|Rndrng_Prvdr_Gndr|Tot_HCPCS_Cds|Bene_Male_Cnt|Bene_Avg_Age|Tot_Srvcs|Tot_Benes|Bene_Avg_Risk_Scre|Tot_Sbmtd_Chrg|Tot_Mdcr_Pymt_Amt|year|\n",
      "+----------+--------------------------+-----------------------+--------------------+-------------------------+-----------------+-------------+-------------+------------+---------+---------+------------------+--------------+-----------------+----+\n",
      "|1003000126|                 Enkeshafi|                Ardalan|   Internal Medicine|                       MD|                M|           36|          283|          78|     3749|      661|            1.8026|     515976.55|        231289.23|2021|\n",
      "|1003000134|                    Cibull|                 Thomas|           Pathology|                       IL|                M|           21|         1518|          76|     7359|     3216|            1.0785|    1136431.94|        203094.28|2021|\n",
      "|1003000142|                    Khalil|                 Rashid|      Anesthesiology|                       OH|                M|           52|           92|          68|     1932|      239|             1.492|     295950.73|         93430.64|2021|\n",
      "|1003000423|                   Velotta|               Jennifer|Obstetrics & Gyne...|                       OH|                F|           19|            0|          66|      738|       69|            0.6362|         21300|          6735.97|2021|\n",
      "|1003000480|                 Rothchild|                  Kevin|     General Surgery|                       CO|                M|           29|           48|          65|      162|      112|            1.8233|        180891|         28071.92|2021|\n",
      "+----------+--------------------------+-----------------------+--------------------+-------------------------+-----------------+-------------+-------------+------------+---------+---------+------------------+--------------+-----------------+----+\n",
      "only showing top 5 rows\n",
      "\n"
     ]
    }
   ],
   "source": [
    "df_cms_feats.show(5)"
   ]
  },
  {
   "cell_type": "code",
   "execution_count": 49,
   "id": "dc935ba5",
   "metadata": {},
   "outputs": [],
   "source": [
    "df_tmp3 = df_cms_feats.join(df_selected, (df_cms_feats.Rndrng_NPI == df_selected.NPI) | \n",
    "                      ((df_cms_feats.Rndrng_Prvdr_Last_Org_Name == df_selected.LASTNAME) &  \n",
    "                       (df_cms_feats.Rndrng_Prvdr_First_Name == df_selected.FIRSTNAME)) , \"inner\").select(df_cms_feats[\"*\"])\n"
   ]
  },
  {
   "cell_type": "code",
   "execution_count": 54,
   "id": "682ba01e",
   "metadata": {},
   "outputs": [],
   "source": [
    "df_final = df_cms_feats.join(\n",
    "    df_selected, (df_cms_feats.Rndrng_NPI == df_selected.NPI) | \n",
    "    ((df_cms_feats.Rndrng_Prvdr_Last_Org_Name == df_selected.LASTNAME) &  \n",
    "     (df_cms_feats.Rndrng_Prvdr_First_Name == df_selected.FIRSTNAME)),\n",
    "    \"left\" ).select(df_cms_feats[\"*\"], df_selected[\"FINAL_YEAR\"])"
   ]
  },
  {
   "cell_type": "code",
   "execution_count": 57,
   "id": "4ba98d1d",
   "metadata": {},
   "outputs": [],
   "source": [
    "df_final = df_final.withColumn(\"Fraud\", F.when(df_final.year <= df_final.FINAL_YEAR, 1).otherwise(0))"
   ]
  },
  {
   "cell_type": "code",
   "execution_count": 58,
   "id": "dd56ef5e",
   "metadata": {
    "scrolled": true
   },
   "outputs": [
    {
     "name": "stdout",
     "output_type": "stream",
     "text": [
      "+----------+--------------------------+-----------------------+--------------------+-------------------------+-----------------+-------------+-------------+------------+---------+---------+------------------+--------------+-----------------+----+----------+-----+\n",
      "|Rndrng_NPI|Rndrng_Prvdr_Last_Org_Name|Rndrng_Prvdr_First_Name|   Rndrng_Prvdr_Type|Rndrng_Prvdr_State_Abrvtn|Rndrng_Prvdr_Gndr|Tot_HCPCS_Cds|Bene_Male_Cnt|Bene_Avg_Age|Tot_Srvcs|Tot_Benes|Bene_Avg_Risk_Scre|Tot_Sbmtd_Chrg|Tot_Mdcr_Pymt_Amt|year|FINAL_YEAR|Fraud|\n",
      "+----------+--------------------------+-----------------------+--------------------+-------------------------+-----------------+-------------+-------------+------------+---------+---------+------------------+--------------+-----------------+----+----------+-----+\n",
      "|1003000126|                 Enkeshafi|                Ardalan|   Internal Medicine|                       MD|                M|           36|          283|          78|     3749|      661|            1.8026|     515976.55|        231289.23|2021|      null|    0|\n",
      "|1003000134|                    Cibull|                 Thomas|           Pathology|                       IL|                M|           21|         1518|          76|     7359|     3216|            1.0785|    1136431.94|        203094.28|2021|      null|    0|\n",
      "|1003000142|                    Khalil|                 Rashid|      Anesthesiology|                       OH|                M|           52|           92|          68|     1932|      239|             1.492|     295950.73|         93430.64|2021|      null|    0|\n",
      "|1003000423|                   Velotta|               Jennifer|Obstetrics & Gyne...|                       OH|                F|           19|            0|          66|      738|       69|            0.6362|         21300|          6735.97|2021|      null|    0|\n",
      "|1003000480|                 Rothchild|                  Kevin|     General Surgery|                       CO|                M|           29|           48|          65|      162|      112|            1.8233|        180891|         28071.92|2021|      null|    0|\n",
      "+----------+--------------------------+-----------------------+--------------------+-------------------------+-----------------+-------------+-------------+------------+---------+---------+------------------+--------------+-----------------+----+----------+-----+\n",
      "only showing top 5 rows\n",
      "\n"
     ]
    }
   ],
   "source": [
    "df_final.show(5)"
   ]
  },
  {
   "cell_type": "code",
   "execution_count": 59,
   "id": "e1013add",
   "metadata": {},
   "outputs": [],
   "source": [
    "df_final_2021 = df_final.toPandas()"
   ]
  },
  {
   "cell_type": "code",
   "execution_count": 60,
   "id": "86001733",
   "metadata": {},
   "outputs": [],
   "source": [
    "df_final_2021.to_csv(\"prepared_data_2021.csv\")"
   ]
  },
  {
   "cell_type": "code",
   "execution_count": 61,
   "id": "de410299",
   "metadata": {},
   "outputs": [],
   "source": [
    "df_cms_2022 = spark.read.csv(\"partB_19-22/MUP_PHY_R24_P07_V10_D22_Prov.csv\", header=True)"
   ]
  },
  {
   "cell_type": "code",
   "execution_count": 62,
   "id": "9c7fbd8a",
   "metadata": {},
   "outputs": [
    {
     "data": {
      "text/plain": [
       "['Rndrng_NPI',\n",
       " 'Rndrng_Prvdr_Last_Org_Name',\n",
       " 'Rndrng_Prvdr_First_Name',\n",
       " 'Rndrng_Prvdr_MI',\n",
       " 'Rndrng_Prvdr_Crdntls',\n",
       " 'Rndrng_Prvdr_Gndr',\n",
       " 'Rndrng_Prvdr_Ent_Cd',\n",
       " 'Rndrng_Prvdr_St1',\n",
       " 'Rndrng_Prvdr_St2',\n",
       " 'Rndrng_Prvdr_City',\n",
       " 'Rndrng_Prvdr_State_Abrvtn',\n",
       " 'Rndrng_Prvdr_State_FIPS',\n",
       " 'Rndrng_Prvdr_Zip5',\n",
       " 'Rndrng_Prvdr_RUCA',\n",
       " 'Rndrng_Prvdr_RUCA_Desc',\n",
       " 'Rndrng_Prvdr_Cntry',\n",
       " 'Rndrng_Prvdr_Type',\n",
       " 'Rndrng_Prvdr_Mdcr_Prtcptg_Ind',\n",
       " 'Tot_HCPCS_Cds',\n",
       " 'Tot_Benes',\n",
       " 'Tot_Srvcs',\n",
       " 'Tot_Sbmtd_Chrg',\n",
       " 'Tot_Mdcr_Alowd_Amt',\n",
       " 'Tot_Mdcr_Pymt_Amt',\n",
       " 'Tot_Mdcr_Stdzd_Amt',\n",
       " 'Drug_Sprsn_Ind',\n",
       " 'Drug_Tot_HCPCS_Cds',\n",
       " 'Drug_Tot_Benes',\n",
       " 'Drug_Tot_Srvcs',\n",
       " 'Drug_Sbmtd_Chrg',\n",
       " 'Drug_Mdcr_Alowd_Amt',\n",
       " 'Drug_Mdcr_Pymt_Amt',\n",
       " 'Drug_Mdcr_Stdzd_Amt',\n",
       " 'Med_Sprsn_Ind',\n",
       " 'Med_Tot_HCPCS_Cds',\n",
       " 'Med_Tot_Benes',\n",
       " 'Med_Tot_Srvcs',\n",
       " 'Med_Sbmtd_Chrg',\n",
       " 'Med_Mdcr_Alowd_Amt',\n",
       " 'Med_Mdcr_Pymt_Amt',\n",
       " 'Med_Mdcr_Stdzd_Amt',\n",
       " 'Bene_Avg_Age',\n",
       " 'Bene_Age_LT_65_Cnt',\n",
       " 'Bene_Age_65_74_Cnt',\n",
       " 'Bene_Age_75_84_Cnt',\n",
       " 'Bene_Age_GT_84_Cnt',\n",
       " 'Bene_Feml_Cnt',\n",
       " 'Bene_Male_Cnt',\n",
       " 'Bene_Race_Wht_Cnt',\n",
       " 'Bene_Race_Black_Cnt',\n",
       " 'Bene_Race_API_Cnt',\n",
       " 'Bene_Race_Hspnc_Cnt',\n",
       " 'Bene_Race_NatInd_Cnt',\n",
       " 'Bene_Race_Othr_Cnt',\n",
       " 'Bene_Dual_Cnt',\n",
       " 'Bene_Ndual_Cnt',\n",
       " 'Bene_CC_BH_ADHD_OthCD_V1_Pct',\n",
       " 'Bene_CC_BH_Alcohol_Drug_V1_Pct',\n",
       " 'Bene_CC_BH_Tobacco_V1_Pct',\n",
       " 'Bene_CC_BH_Alz_NonAlzdem_V2_Pct',\n",
       " 'Bene_CC_BH_Anxiety_V1_Pct',\n",
       " 'Bene_CC_BH_Bipolar_V1_Pct',\n",
       " 'Bene_CC_BH_Mood_V2_Pct',\n",
       " 'Bene_CC_BH_Depress_V1_Pct',\n",
       " 'Bene_CC_BH_PD_V1_Pct',\n",
       " 'Bene_CC_BH_PTSD_V1_Pct',\n",
       " 'Bene_CC_BH_Schizo_OthPsy_V1_Pct',\n",
       " 'Bene_CC_PH_Asthma_V2_Pct',\n",
       " 'Bene_CC_PH_Afib_V2_Pct',\n",
       " 'Bene_CC_PH_Cancer6_V2_Pct',\n",
       " 'Bene_CC_PH_CKD_V2_Pct',\n",
       " 'Bene_CC_PH_COPD_V2_Pct',\n",
       " 'Bene_CC_PH_Diabetes_V2_Pct',\n",
       " 'Bene_CC_PH_HF_NonIHD_V2_Pct',\n",
       " 'Bene_CC_PH_Hyperlipidemia_V2_Pct',\n",
       " 'Bene_CC_PH_Hypertension_V2_Pct',\n",
       " 'Bene_CC_PH_IschemicHeart_V2_Pct',\n",
       " 'Bene_CC_PH_Osteoporosis_V2_Pct',\n",
       " 'Bene_CC_PH_Parkinson_V2_Pct',\n",
       " 'Bene_CC_PH_Arthritis_V2_Pct',\n",
       " 'Bene_CC_PH_Stroke_TIA_V2_Pct',\n",
       " 'Bene_Avg_Risk_Scre']"
      ]
     },
     "execution_count": 62,
     "metadata": {},
     "output_type": "execute_result"
    }
   ],
   "source": [
    "df_cms_2022.columns"
   ]
  },
  {
   "cell_type": "code",
   "execution_count": 63,
   "id": "4bfa8e58",
   "metadata": {},
   "outputs": [
    {
     "name": "stdout",
     "output_type": "stream",
     "text": [
      "1230293 82\n"
     ]
    }
   ],
   "source": [
    "print(df_cms_2022.count(), len(df_cms_2022.columns))"
   ]
  },
  {
   "cell_type": "code",
   "execution_count": 64,
   "id": "0a22e432",
   "metadata": {},
   "outputs": [],
   "source": [
    "from pyspark.sql.functions import lit\n",
    "df_cms_2022 = df_cms_2022.withColumn('year', lit(2022))"
   ]
  },
  {
   "cell_type": "code",
   "execution_count": 65,
   "id": "5762a6e1",
   "metadata": {},
   "outputs": [
    {
     "data": {
      "text/plain": [
       "1230293"
      ]
     },
     "execution_count": 65,
     "metadata": {},
     "output_type": "execute_result"
    }
   ],
   "source": [
    "df_cms_2022.select('Rndrng_NPI').count()"
   ]
  },
  {
   "cell_type": "code",
   "execution_count": 66,
   "id": "50c2512b",
   "metadata": {},
   "outputs": [
    {
     "data": {
      "text/plain": [
       "1230293"
      ]
     },
     "execution_count": 66,
     "metadata": {},
     "output_type": "execute_result"
    }
   ],
   "source": [
    "df_cms_2022.select('Rndrng_NPI').distinct().count()"
   ]
  },
  {
   "cell_type": "code",
   "execution_count": 68,
   "id": "59cffe8a",
   "metadata": {},
   "outputs": [],
   "source": [
    "df_cms = df_cms_2022"
   ]
  },
  {
   "cell_type": "code",
   "execution_count": 69,
   "id": "f6e8586c",
   "metadata": {},
   "outputs": [
    {
     "name": "stdout",
     "output_type": "stream",
     "text": [
      "1230293\n",
      "83\n"
     ]
    }
   ],
   "source": [
    "print(df_cms.count())\n",
    "print(len(df_cms.columns))"
   ]
  },
  {
   "cell_type": "code",
   "execution_count": 70,
   "id": "eccd6fc0",
   "metadata": {},
   "outputs": [
    {
     "data": {
      "text/plain": [
       "['Rndrng_NPI',\n",
       " 'Rndrng_Prvdr_Last_Org_Name',\n",
       " 'Rndrng_Prvdr_First_Name',\n",
       " 'Rndrng_Prvdr_MI',\n",
       " 'Rndrng_Prvdr_Crdntls',\n",
       " 'Rndrng_Prvdr_Gndr',\n",
       " 'Rndrng_Prvdr_Ent_Cd',\n",
       " 'Rndrng_Prvdr_St1',\n",
       " 'Rndrng_Prvdr_St2',\n",
       " 'Rndrng_Prvdr_City',\n",
       " 'Rndrng_Prvdr_State_Abrvtn',\n",
       " 'Rndrng_Prvdr_State_FIPS',\n",
       " 'Rndrng_Prvdr_Zip5',\n",
       " 'Rndrng_Prvdr_RUCA',\n",
       " 'Rndrng_Prvdr_RUCA_Desc',\n",
       " 'Rndrng_Prvdr_Cntry',\n",
       " 'Rndrng_Prvdr_Type',\n",
       " 'Rndrng_Prvdr_Mdcr_Prtcptg_Ind',\n",
       " 'Tot_HCPCS_Cds',\n",
       " 'Tot_Benes',\n",
       " 'Tot_Srvcs',\n",
       " 'Tot_Sbmtd_Chrg',\n",
       " 'Tot_Mdcr_Alowd_Amt',\n",
       " 'Tot_Mdcr_Pymt_Amt',\n",
       " 'Tot_Mdcr_Stdzd_Amt',\n",
       " 'Drug_Sprsn_Ind',\n",
       " 'Drug_Tot_HCPCS_Cds',\n",
       " 'Drug_Tot_Benes',\n",
       " 'Drug_Tot_Srvcs',\n",
       " 'Drug_Sbmtd_Chrg',\n",
       " 'Drug_Mdcr_Alowd_Amt',\n",
       " 'Drug_Mdcr_Pymt_Amt',\n",
       " 'Drug_Mdcr_Stdzd_Amt',\n",
       " 'Med_Sprsn_Ind',\n",
       " 'Med_Tot_HCPCS_Cds',\n",
       " 'Med_Tot_Benes',\n",
       " 'Med_Tot_Srvcs',\n",
       " 'Med_Sbmtd_Chrg',\n",
       " 'Med_Mdcr_Alowd_Amt',\n",
       " 'Med_Mdcr_Pymt_Amt',\n",
       " 'Med_Mdcr_Stdzd_Amt',\n",
       " 'Bene_Avg_Age',\n",
       " 'Bene_Age_LT_65_Cnt',\n",
       " 'Bene_Age_65_74_Cnt',\n",
       " 'Bene_Age_75_84_Cnt',\n",
       " 'Bene_Age_GT_84_Cnt',\n",
       " 'Bene_Feml_Cnt',\n",
       " 'Bene_Male_Cnt',\n",
       " 'Bene_Race_Wht_Cnt',\n",
       " 'Bene_Race_Black_Cnt',\n",
       " 'Bene_Race_API_Cnt',\n",
       " 'Bene_Race_Hspnc_Cnt',\n",
       " 'Bene_Race_NatInd_Cnt',\n",
       " 'Bene_Race_Othr_Cnt',\n",
       " 'Bene_Dual_Cnt',\n",
       " 'Bene_Ndual_Cnt',\n",
       " 'Bene_CC_BH_ADHD_OthCD_V1_Pct',\n",
       " 'Bene_CC_BH_Alcohol_Drug_V1_Pct',\n",
       " 'Bene_CC_BH_Tobacco_V1_Pct',\n",
       " 'Bene_CC_BH_Alz_NonAlzdem_V2_Pct',\n",
       " 'Bene_CC_BH_Anxiety_V1_Pct',\n",
       " 'Bene_CC_BH_Bipolar_V1_Pct',\n",
       " 'Bene_CC_BH_Mood_V2_Pct',\n",
       " 'Bene_CC_BH_Depress_V1_Pct',\n",
       " 'Bene_CC_BH_PD_V1_Pct',\n",
       " 'Bene_CC_BH_PTSD_V1_Pct',\n",
       " 'Bene_CC_BH_Schizo_OthPsy_V1_Pct',\n",
       " 'Bene_CC_PH_Asthma_V2_Pct',\n",
       " 'Bene_CC_PH_Afib_V2_Pct',\n",
       " 'Bene_CC_PH_Cancer6_V2_Pct',\n",
       " 'Bene_CC_PH_CKD_V2_Pct',\n",
       " 'Bene_CC_PH_COPD_V2_Pct',\n",
       " 'Bene_CC_PH_Diabetes_V2_Pct',\n",
       " 'Bene_CC_PH_HF_NonIHD_V2_Pct',\n",
       " 'Bene_CC_PH_Hyperlipidemia_V2_Pct',\n",
       " 'Bene_CC_PH_Hypertension_V2_Pct',\n",
       " 'Bene_CC_PH_IschemicHeart_V2_Pct',\n",
       " 'Bene_CC_PH_Osteoporosis_V2_Pct',\n",
       " 'Bene_CC_PH_Parkinson_V2_Pct',\n",
       " 'Bene_CC_PH_Arthritis_V2_Pct',\n",
       " 'Bene_CC_PH_Stroke_TIA_V2_Pct',\n",
       " 'Bene_Avg_Risk_Scre',\n",
       " 'year']"
      ]
     },
     "execution_count": 70,
     "metadata": {},
     "output_type": "execute_result"
    }
   ],
   "source": [
    "df_cms.columns"
   ]
  },
  {
   "cell_type": "code",
   "execution_count": 71,
   "id": "31fd929e",
   "metadata": {},
   "outputs": [],
   "source": [
    "df_cms_feats =df_cms.select('Rndrng_NPI','Rndrng_Prvdr_Last_Org_Name',\n",
    "         'Rndrng_Prvdr_First_Name','Rndrng_Prvdr_Type', 'Rndrng_Prvdr_State_Abrvtn',\n",
    "         'Rndrng_Prvdr_Gndr','Tot_HCPCS_Cds', 'Bene_Male_Cnt','Bene_Avg_Age',\n",
    "         'Tot_Srvcs','Tot_Benes','Bene_Avg_Risk_Scre',\n",
    "         'Tot_Sbmtd_Chrg','Tot_Mdcr_Pymt_Amt','year')"
   ]
  },
  {
   "cell_type": "code",
   "execution_count": 72,
   "id": "d155355f",
   "metadata": {},
   "outputs": [
    {
     "data": {
      "text/plain": [
       "['Rndrng_NPI',\n",
       " 'Rndrng_Prvdr_Last_Org_Name',\n",
       " 'Rndrng_Prvdr_First_Name',\n",
       " 'Rndrng_Prvdr_Type',\n",
       " 'Rndrng_Prvdr_State_Abrvtn',\n",
       " 'Rndrng_Prvdr_Gndr',\n",
       " 'Tot_HCPCS_Cds',\n",
       " 'Bene_Male_Cnt',\n",
       " 'Bene_Avg_Age',\n",
       " 'Tot_Srvcs',\n",
       " 'Tot_Benes',\n",
       " 'Bene_Avg_Risk_Scre',\n",
       " 'Tot_Sbmtd_Chrg',\n",
       " 'Tot_Mdcr_Pymt_Amt',\n",
       " 'year']"
      ]
     },
     "execution_count": 72,
     "metadata": {},
     "output_type": "execute_result"
    }
   ],
   "source": [
    "df_cms_feats.columns"
   ]
  },
  {
   "cell_type": "code",
   "execution_count": 73,
   "id": "e7be5cea",
   "metadata": {},
   "outputs": [
    {
     "name": "stdout",
     "output_type": "stream",
     "text": [
      "+----------+--------------------------+-----------------------+--------------------+-------------------------+-----------------+-------------+-------------+------------+---------+---------+------------------+--------------+-----------------+----+\n",
      "|Rndrng_NPI|Rndrng_Prvdr_Last_Org_Name|Rndrng_Prvdr_First_Name|   Rndrng_Prvdr_Type|Rndrng_Prvdr_State_Abrvtn|Rndrng_Prvdr_Gndr|Tot_HCPCS_Cds|Bene_Male_Cnt|Bene_Avg_Age|Tot_Srvcs|Tot_Benes|Bene_Avg_Risk_Scre|Tot_Sbmtd_Chrg|Tot_Mdcr_Pymt_Amt|year|\n",
      "+----------+--------------------------+-----------------------+--------------------+-------------------------+-----------------+-------------+-------------+------------+---------+---------+------------------+--------------+-----------------+----+\n",
      "|1003000126|                 Enkeshafi|                Ardalan|   Internal Medicine|                       MD|                M|           22|          176|          76|      881|      420|            2.5578|     324882.56|         70983.92|2022|\n",
      "|1003000134|                    Cibull|                 Thomas|           Pathology|                       IL|                M|           19|         1443|          76|     6809|     2938|             1.096|       1031724|        176263.09|2022|\n",
      "|1003000142|                    Khalil|                 Rashid|      Anesthesiology|                       OH|                M|           60|          153|          69|     1912|      405|            1.5455|     424337.85|        132610.88|2022|\n",
      "|1003000423|                   Velotta|               Jennifer|Obstetrics & Gyne...|                       OH|                F|           16|            0|          69|      111|       59|            0.8531|          9918|          4335.15|2022|\n",
      "|1003000480|                 Rothchild|                  Kevin|     General Surgery|                       CO|                M|           37|           64|          69|      194|      120|            1.7034|     257176.75|         34818.87|2022|\n",
      "+----------+--------------------------+-----------------------+--------------------+-------------------------+-----------------+-------------+-------------+------------+---------+---------+------------------+--------------+-----------------+----+\n",
      "only showing top 5 rows\n",
      "\n"
     ]
    }
   ],
   "source": [
    "df_cms_feats.show(5)"
   ]
  },
  {
   "cell_type": "code",
   "execution_count": 78,
   "id": "5c713582",
   "metadata": {},
   "outputs": [],
   "source": [
    "import pyspark.sql.functions as F\n",
    "df_leie_new = df_leie_new.filter((F.col(\"NPI\") > 0) | (F.col(\"LASTNAME\").isNotNull() & F.col(\"FIRSTNAME\").isNotNull()))\n"
   ]
  },
  {
   "cell_type": "code",
   "execution_count": 79,
   "id": "96d918a8",
   "metadata": {},
   "outputs": [
    {
     "data": {
      "text/plain": [
       "78608"
      ]
     },
     "execution_count": 79,
     "metadata": {},
     "output_type": "execute_result"
    }
   ],
   "source": [
    "df_leie_new.count()"
   ]
  },
  {
   "cell_type": "code",
   "execution_count": 80,
   "id": "a442b470",
   "metadata": {},
   "outputs": [
    {
     "name": "stdout",
     "output_type": "stream",
     "text": [
      "+----------+--------+---------+--------+--------+--------+----------+\n",
      "|       NPI|LASTNAME|FIRSTNAME|EXCLTYPE|EXCLDATE|REINDATE|WAIVERDATE|\n",
      "+----------+--------+---------+--------+--------+--------+----------+\n",
      "|1972902351|    null|     null|  1128b8|20220320|00000000|  00000000|\n",
      "|1922348218|    null|     null|  1128a1|20180419|00000000|  00000000|\n",
      "|1942476080|    null|     null|  1128b8|20170518|00000000|  00000000|\n",
      "|1275600959|    null|     null|  1128a1|20130320|00000000|  00000000|\n",
      "|1891731758|    null|     null|  1128b8|20170518|00000000|  00000000|\n",
      "+----------+--------+---------+--------+--------+--------+----------+\n",
      "only showing top 5 rows\n",
      "\n"
     ]
    }
   ],
   "source": [
    "df_leie_new.show(5)"
   ]
  },
  {
   "cell_type": "code",
   "execution_count": 81,
   "id": "d0682573",
   "metadata": {},
   "outputs": [
    {
     "data": {
      "text/plain": [
       "74979"
      ]
     },
     "execution_count": 81,
     "metadata": {},
     "output_type": "execute_result"
    }
   ],
   "source": [
    "df_leie_new.select(\"NPI\",'LASTNAME','FIRSTNAME').distinct().count()"
   ]
  },
  {
   "cell_type": "code",
   "execution_count": 82,
   "id": "f6ba2729",
   "metadata": {},
   "outputs": [
    {
     "data": {
      "text/plain": [
       "Row(max(REINDATE)='20060420', max(WAIVERDATE)='20240227')"
      ]
     },
     "execution_count": 82,
     "metadata": {},
     "output_type": "execute_result"
    }
   ],
   "source": [
    "import pyspark.sql.functions as F\n",
    "df_leie_new.select(\n",
    "    F.max(\"REINDATE\"),\n",
    "    F.max(\"WAIVERDATE\")).collect()[0]\n"
   ]
  },
  {
   "cell_type": "code",
   "execution_count": 83,
   "id": "4be8de44",
   "metadata": {},
   "outputs": [],
   "source": [
    "df_leie = df_leie.drop('REINDATE')"
   ]
  },
  {
   "cell_type": "code",
   "execution_count": 84,
   "id": "1ce05add",
   "metadata": {},
   "outputs": [
    {
     "name": "stdout",
     "output_type": "stream",
     "text": [
      "Unique values in EXCLTYPE: ['73401', '1128b15', 'BRCH CIA', '1128b5', '1128b14', '1128a1', '1128b1', '1128b4', '1128b16', '93301', '1128Aa', '93551', '1128b11', '1128a2', '1128b12', '1128a3', '95501', '1128b7', '1128b6', '1128b8', '95816', '1160', '93638', '98405', '1128a4', '1128b3', '1128b2', 'BRCH SA', '1156']\n"
     ]
    }
   ],
   "source": [
    "unique_excltype = df_leie_new.select(\"EXCLTYPE\").distinct().collect()\n",
    "\n",
    "# Extract the unique values into a list\n",
    "unique_excltype_list = [row['EXCLTYPE'] for row in unique_excltype]\n",
    "\n",
    "# Print the unique values\n",
    "print(\"Unique values in EXCLTYPE:\", unique_excltype_list)"
   ]
  },
  {
   "cell_type": "code",
   "execution_count": 85,
   "id": "84449eaf",
   "metadata": {},
   "outputs": [
    {
     "name": "stdout",
     "output_type": "stream",
     "text": [
      "+----------+--------+---------+--------+--------+--------+----------+\n",
      "|       NPI|LASTNAME|FIRSTNAME|EXCLTYPE|EXCLDATE|REINDATE|WAIVERDATE|\n",
      "+----------+--------+---------+--------+--------+--------+----------+\n",
      "|1922348218|    null|     null|  1128a1|20180419|00000000|  00000000|\n",
      "|1275600959|    null|     null|  1128a1|20130320|00000000|  00000000|\n",
      "|1265830335|    null|     null|  1128a1|20220818|00000000|  00000000|\n",
      "|1851631543|    null|     null|  1128b7|20190326|00000000|  00000000|\n",
      "|1902198435|    null|     null|  1128a1|20160120|00000000|  00000000|\n",
      "+----------+--------+---------+--------+--------+--------+----------+\n",
      "only showing top 5 rows\n",
      "\n"
     ]
    }
   ],
   "source": [
    "drop_values = ['1128a1', '1128a2', '1128a3', '1128b4', '1128b7']\n",
    "\n",
    "df_leie_filtered = df_leie_new.filter(F.col(\"EXCLTYPE\").isin(drop_values))\n",
    "\n",
    "df_leie_filtered.show(5)"
   ]
  },
  {
   "cell_type": "code",
   "execution_count": 86,
   "id": "fde8b93d",
   "metadata": {},
   "outputs": [
    {
     "data": {
      "text/plain": [
       "[Row(EXCLTYPE='1128a1'),\n",
       " Row(EXCLTYPE='1128b4'),\n",
       " Row(EXCLTYPE='1128a2'),\n",
       " Row(EXCLTYPE='1128a3'),\n",
       " Row(EXCLTYPE='1128b7')]"
      ]
     },
     "execution_count": 86,
     "metadata": {},
     "output_type": "execute_result"
    }
   ],
   "source": [
    "df_leie_filtered.select(\"EXCLTYPE\").distinct().collect()"
   ]
  },
  {
   "cell_type": "code",
   "execution_count": 87,
   "id": "4c3c78a4",
   "metadata": {},
   "outputs": [
    {
     "data": {
      "text/plain": [
       "70566"
      ]
     },
     "execution_count": 87,
     "metadata": {},
     "output_type": "execute_result"
    }
   ],
   "source": [
    "df_leie_filtered.count()"
   ]
  },
  {
   "cell_type": "code",
   "execution_count": 88,
   "id": "ec4736ce",
   "metadata": {},
   "outputs": [
    {
     "name": "stdout",
     "output_type": "stream",
     "text": [
      "+----------+--------+---------+--------+--------+--------+----------+\n",
      "|       NPI|LASTNAME|FIRSTNAME|EXCLTYPE|EXCLDATE|REINDATE|WAIVERDATE|\n",
      "+----------+--------+---------+--------+--------+--------+----------+\n",
      "|1922348218|    null|     null|  1128a1|20180419|00000000|  00000000|\n",
      "|1275600959|    null|     null|  1128a1|20130320|00000000|  00000000|\n",
      "|1265830335|    null|     null|  1128a1|20220818|00000000|  00000000|\n",
      "|1851631543|    null|     null|  1128b7|20190326|00000000|  00000000|\n",
      "|1902198435|    null|     null|  1128a1|20160120|00000000|  00000000|\n",
      "+----------+--------+---------+--------+--------+--------+----------+\n",
      "only showing top 5 rows\n",
      "\n"
     ]
    }
   ],
   "source": [
    "df_leie_filtered.show(5)"
   ]
  },
  {
   "cell_type": "code",
   "execution_count": 89,
   "id": "fae8081b",
   "metadata": {},
   "outputs": [],
   "source": [
    "df_leie_filtered = df_leie_filtered.withColumn('EXCLDATE_END', F.lit(0))"
   ]
  },
  {
   "cell_type": "code",
   "execution_count": 90,
   "id": "7ac4c80e",
   "metadata": {},
   "outputs": [
    {
     "name": "stdout",
     "output_type": "stream",
     "text": [
      "+----------+--------+---------+--------+--------+--------+----------+------------+\n",
      "|       NPI|LASTNAME|FIRSTNAME|EXCLTYPE|EXCLDATE|REINDATE|WAIVERDATE|EXCLDATE_END|\n",
      "+----------+--------+---------+--------+--------+--------+----------+------------+\n",
      "|1922348218|    null|     null|  1128a1|20180419|00000000|  00000000|           0|\n",
      "|1275600959|    null|     null|  1128a1|20130320|00000000|  00000000|           0|\n",
      "|1265830335|    null|     null|  1128a1|20220818|00000000|  00000000|           0|\n",
      "|1851631543|    null|     null|  1128b7|20190326|00000000|  00000000|           0|\n",
      "|1902198435|    null|     null|  1128a1|20160120|00000000|  00000000|           0|\n",
      "+----------+--------+---------+--------+--------+--------+----------+------------+\n",
      "only showing top 5 rows\n",
      "\n"
     ]
    }
   ],
   "source": [
    "df_leie_filtered.show(5)"
   ]
  },
  {
   "cell_type": "code",
   "execution_count": 91,
   "id": "bdade9e1",
   "metadata": {},
   "outputs": [],
   "source": [
    "df_leie_filtered_date = df_leie_filtered.withColumn(\n",
    "    \"EXCLDATE_END\",\n",
    "    F.when(\n",
    "        F.col(\"EXCLTYPE\").isin(['1128a1', '1128a2', '1128a3']),\n",
    "        F.concat(\n",
    "            (F.substring(F.col(\"EXCLDATE\"), 1, 4).cast(\"int\") + 5).cast(\"string\"),\n",
    "            F.substring(F.col(\"EXCLDATE\"), 5, 4))).otherwise(F.col(\"EXCLDATE\"))\n",
    ")"
   ]
  },
  {
   "cell_type": "code",
   "execution_count": 92,
   "id": "9bb19dff",
   "metadata": {},
   "outputs": [
    {
     "name": "stdout",
     "output_type": "stream",
     "text": [
      "+----------+--------+---------+--------+--------+--------+----------+------------+\n",
      "|       NPI|LASTNAME|FIRSTNAME|EXCLTYPE|EXCLDATE|REINDATE|WAIVERDATE|EXCLDATE_END|\n",
      "+----------+--------+---------+--------+--------+--------+----------+------------+\n",
      "|1922348218|    null|     null|  1128a1|20180419|00000000|  00000000|    20230419|\n",
      "|1275600959|    null|     null|  1128a1|20130320|00000000|  00000000|    20180320|\n",
      "|1265830335|    null|     null|  1128a1|20220818|00000000|  00000000|    20270818|\n",
      "|1851631543|    null|     null|  1128b7|20190326|00000000|  00000000|    20190326|\n",
      "|1902198435|    null|     null|  1128a1|20160120|00000000|  00000000|    20210120|\n",
      "+----------+--------+---------+--------+--------+--------+----------+------------+\n",
      "only showing top 5 rows\n",
      "\n"
     ]
    }
   ],
   "source": [
    "df_leie_filtered_date.show(5)"
   ]
  },
  {
   "cell_type": "code",
   "execution_count": 93,
   "id": "d4eef103",
   "metadata": {},
   "outputs": [
    {
     "data": {
      "text/plain": [
       "70566"
      ]
     },
     "execution_count": 93,
     "metadata": {},
     "output_type": "execute_result"
    }
   ],
   "source": [
    "df_leie_filtered_date.count()"
   ]
  },
  {
   "cell_type": "code",
   "execution_count": 94,
   "id": "3b48f2e9",
   "metadata": {},
   "outputs": [],
   "source": [
    "df_selected = df_leie_filtered_date.select('NPI', 'FIRSTNAME','LASTNAME','EXCLTYPE', 'EXCLDATE', F.col(\"EXCLDATE_END\").alias('FINAL_DATE'))"
   ]
  },
  {
   "cell_type": "code",
   "execution_count": 95,
   "id": "1fe9a62e",
   "metadata": {},
   "outputs": [
    {
     "name": "stdout",
     "output_type": "stream",
     "text": [
      "+----------+---------+--------+--------+--------+----------+\n",
      "|       NPI|FIRSTNAME|LASTNAME|EXCLTYPE|EXCLDATE|FINAL_DATE|\n",
      "+----------+---------+--------+--------+--------+----------+\n",
      "|1922348218|     null|    null|  1128a1|20180419|  20230419|\n",
      "|1275600959|     null|    null|  1128a1|20130320|  20180320|\n",
      "|1265830335|     null|    null|  1128a1|20220818|  20270818|\n",
      "|1851631543|     null|    null|  1128b7|20190326|  20190326|\n",
      "|1902198435|     null|    null|  1128a1|20160120|  20210120|\n",
      "+----------+---------+--------+--------+--------+----------+\n",
      "only showing top 5 rows\n",
      "\n"
     ]
    }
   ],
   "source": [
    "df_selected.show(5)"
   ]
  },
  {
   "cell_type": "code",
   "execution_count": 96,
   "id": "efbe8ae0",
   "metadata": {},
   "outputs": [],
   "source": [
    "df_selected = df_selected.withColumn(\"FINAL_YEAR\", F.substring(F.col(\"FINAL_DATE\"), 1, 4))"
   ]
  },
  {
   "cell_type": "code",
   "execution_count": 97,
   "id": "ad902c40",
   "metadata": {},
   "outputs": [
    {
     "name": "stdout",
     "output_type": "stream",
     "text": [
      "+----------+---------+--------+--------+--------+----------+----------+\n",
      "|       NPI|FIRSTNAME|LASTNAME|EXCLTYPE|EXCLDATE|FINAL_DATE|FINAL_YEAR|\n",
      "+----------+---------+--------+--------+--------+----------+----------+\n",
      "|1922348218|     null|    null|  1128a1|20180419|  20230419|      2023|\n",
      "|1275600959|     null|    null|  1128a1|20130320|  20180320|      2018|\n",
      "|1265830335|     null|    null|  1128a1|20220818|  20270818|      2027|\n",
      "|1851631543|     null|    null|  1128b7|20190326|  20190326|      2019|\n",
      "|1902198435|     null|    null|  1128a1|20160120|  20210120|      2021|\n",
      "+----------+---------+--------+--------+--------+----------+----------+\n",
      "only showing top 5 rows\n",
      "\n"
     ]
    }
   ],
   "source": [
    "df_selected.show(5)"
   ]
  },
  {
   "cell_type": "code",
   "execution_count": 99,
   "id": "cb08b5da",
   "metadata": {},
   "outputs": [
    {
     "name": "stdout",
     "output_type": "stream",
     "text": [
      "+----------+--------------------------+-----------------------+--------------------+-------------------------+-----------------+-------------+-------------+------------+---------+---------+------------------+--------------+-----------------+----+\n",
      "|Rndrng_NPI|Rndrng_Prvdr_Last_Org_Name|Rndrng_Prvdr_First_Name|   Rndrng_Prvdr_Type|Rndrng_Prvdr_State_Abrvtn|Rndrng_Prvdr_Gndr|Tot_HCPCS_Cds|Bene_Male_Cnt|Bene_Avg_Age|Tot_Srvcs|Tot_Benes|Bene_Avg_Risk_Scre|Tot_Sbmtd_Chrg|Tot_Mdcr_Pymt_Amt|year|\n",
      "+----------+--------------------------+-----------------------+--------------------+-------------------------+-----------------+-------------+-------------+------------+---------+---------+------------------+--------------+-----------------+----+\n",
      "|1003000126|                 Enkeshafi|                Ardalan|   Internal Medicine|                       MD|                M|           22|          176|          76|      881|      420|            2.5578|     324882.56|         70983.92|2022|\n",
      "|1003000134|                    Cibull|                 Thomas|           Pathology|                       IL|                M|           19|         1443|          76|     6809|     2938|             1.096|       1031724|        176263.09|2022|\n",
      "|1003000142|                    Khalil|                 Rashid|      Anesthesiology|                       OH|                M|           60|          153|          69|     1912|      405|            1.5455|     424337.85|        132610.88|2022|\n",
      "|1003000423|                   Velotta|               Jennifer|Obstetrics & Gyne...|                       OH|                F|           16|            0|          69|      111|       59|            0.8531|          9918|          4335.15|2022|\n",
      "|1003000480|                 Rothchild|                  Kevin|     General Surgery|                       CO|                M|           37|           64|          69|      194|      120|            1.7034|     257176.75|         34818.87|2022|\n",
      "+----------+--------------------------+-----------------------+--------------------+-------------------------+-----------------+-------------+-------------+------------+---------+---------+------------------+--------------+-----------------+----+\n",
      "only showing top 5 rows\n",
      "\n"
     ]
    }
   ],
   "source": [
    "df_cms_feats.show(5)"
   ]
  },
  {
   "cell_type": "code",
   "execution_count": 100,
   "id": "dc935ba5",
   "metadata": {},
   "outputs": [],
   "source": [
    "df_tmp3 = df_cms_feats.join(df_selected, (df_cms_feats.Rndrng_NPI == df_selected.NPI) | \n",
    "                      ((df_cms_feats.Rndrng_Prvdr_Last_Org_Name == df_selected.LASTNAME) &  \n",
    "                       (df_cms_feats.Rndrng_Prvdr_First_Name == df_selected.FIRSTNAME)) , \"inner\").select(df_cms_feats[\"*\"])\n"
   ]
  },
  {
   "cell_type": "code",
   "execution_count": 105,
   "id": "682ba01e",
   "metadata": {},
   "outputs": [],
   "source": [
    "df_final = df_cms_feats.join(\n",
    "    df_selected, (df_cms_feats.Rndrng_NPI == df_selected.NPI) | \n",
    "    ((df_cms_feats.Rndrng_Prvdr_Last_Org_Name == df_selected.LASTNAME) &  \n",
    "     (df_cms_feats.Rndrng_Prvdr_First_Name == df_selected.FIRSTNAME)),\n",
    "    \"left\" ).select(df_cms_feats[\"*\"], df_selected[\"FINAL_YEAR\"])"
   ]
  },
  {
   "cell_type": "code",
   "execution_count": 108,
   "id": "4ba98d1d",
   "metadata": {},
   "outputs": [],
   "source": [
    "df_final = df_final.withColumn(\"Fraud\", F.when(df_final.year <= df_final.FINAL_YEAR, 1).otherwise(0))"
   ]
  },
  {
   "cell_type": "code",
   "execution_count": 109,
   "id": "dd56ef5e",
   "metadata": {
    "scrolled": true
   },
   "outputs": [
    {
     "name": "stdout",
     "output_type": "stream",
     "text": [
      "+----------+--------------------------+-----------------------+--------------------+-------------------------+-----------------+-------------+-------------+------------+---------+---------+------------------+--------------+-----------------+----+----------+-----+\n",
      "|Rndrng_NPI|Rndrng_Prvdr_Last_Org_Name|Rndrng_Prvdr_First_Name|   Rndrng_Prvdr_Type|Rndrng_Prvdr_State_Abrvtn|Rndrng_Prvdr_Gndr|Tot_HCPCS_Cds|Bene_Male_Cnt|Bene_Avg_Age|Tot_Srvcs|Tot_Benes|Bene_Avg_Risk_Scre|Tot_Sbmtd_Chrg|Tot_Mdcr_Pymt_Amt|year|FINAL_YEAR|Fraud|\n",
      "+----------+--------------------------+-----------------------+--------------------+-------------------------+-----------------+-------------+-------------+------------+---------+---------+------------------+--------------+-----------------+----+----------+-----+\n",
      "|1003000126|                 Enkeshafi|                Ardalan|   Internal Medicine|                       MD|                M|           22|          176|          76|      881|      420|            2.5578|     324882.56|         70983.92|2022|      null|    0|\n",
      "|1003000134|                    Cibull|                 Thomas|           Pathology|                       IL|                M|           19|         1443|          76|     6809|     2938|             1.096|       1031724|        176263.09|2022|      null|    0|\n",
      "|1003000142|                    Khalil|                 Rashid|      Anesthesiology|                       OH|                M|           60|          153|          69|     1912|      405|            1.5455|     424337.85|        132610.88|2022|      null|    0|\n",
      "|1003000423|                   Velotta|               Jennifer|Obstetrics & Gyne...|                       OH|                F|           16|            0|          69|      111|       59|            0.8531|          9918|          4335.15|2022|      null|    0|\n",
      "|1003000480|                 Rothchild|                  Kevin|     General Surgery|                       CO|                M|           37|           64|          69|      194|      120|            1.7034|     257176.75|         34818.87|2022|      null|    0|\n",
      "+----------+--------------------------+-----------------------+--------------------+-------------------------+-----------------+-------------+-------------+------------+---------+---------+------------------+--------------+-----------------+----+----------+-----+\n",
      "only showing top 5 rows\n",
      "\n"
     ]
    }
   ],
   "source": [
    "df_final.show(5)"
   ]
  },
  {
   "cell_type": "code",
   "execution_count": 110,
   "id": "e1013add",
   "metadata": {},
   "outputs": [],
   "source": [
    "df_final_2021 = df_final.toPandas()"
   ]
  },
  {
   "cell_type": "code",
   "execution_count": 113,
   "id": "86001733",
   "metadata": {},
   "outputs": [],
   "source": [
    "df_final_2021.to_csv(\"prepared_data_2022.csv\")"
   ]
  }
 ],
 "metadata": {
  "kernelspec": {
   "display_name": "Python 3",
   "language": "python",
   "name": "python3"
  },
  "language_info": {
   "codemirror_mode": {
    "name": "ipython",
    "version": 3
   },
   "file_extension": ".py",
   "mimetype": "text/x-python",
   "name": "python",
   "nbconvert_exporter": "python",
   "pygments_lexer": "ipython3",
   "version": "3.6.9"
  }
 },
 "nbformat": 4,
 "nbformat_minor": 5
}
